{
 "cells": [
  {
   "cell_type": "code",
   "execution_count": 1,
   "metadata": {},
   "outputs": [
    {
     "name": "stdout",
     "output_type": "stream",
     "text": [
      "['???#?????? 4,4', '??..#??#??.???? 5,1', '?.?.???????##????? 1,2,8', '.#????.????#?????? 2,1,1,2,1,1', '??????#????...#?... 9,1', '.???.?????. 3,1,1', '??..?..???. 1,1', '??.??.#..?..??###?? 2,1,1,1,6', '????.???## 3,1,3', '???#?###?#?#.??? 1,1,7,1,1']\n",
      "['???.### 1,1,3', '.??..??...?##. 1,1,3', '?#?#?#?#?#?#?#? 1,3,1,6', '????.#...#... 4,1,1', '????.######..#####. 1,6,5', '?###???????? 3,2,1']\n"
     ]
    }
   ],
   "source": [
    "#Day 12 AOC 23\n",
    "with open(\"input.txt\", \"r\") as file:\n",
    "    puzzle_in = file.read().splitlines()\n",
    "print(puzzle_in[:10])\n",
    "\n",
    "with open(\"example.txt\", \"r\") as file:\n",
    "    example = file.read().splitlines()\n",
    "print(example[:10])"
   ]
  },
  {
   "cell_type": "code",
   "execution_count": 2,
   "metadata": {},
   "outputs": [
    {
     "name": "stdout",
     "output_type": "stream",
     "text": [
      "['?', '?', '?', '.', '#', '#', '#'] [1, 1, 3]\n",
      "1\n",
      "['.', '?', '?', '.', '.', '?', '?', '.', '.', '.', '?', '#', '#', '.'] [1, 1, 3]\n",
      "4\n",
      "['?', '#', '?', '#', '?', '#', '?', '#', '?', '#', '?', '#', '?', '#', '?'] [1, 3, 1, 6]\n",
      "1\n",
      "['?', '?', '?', '?', '.', '#', '.', '.', '.', '#', '.', '.', '.'] [4, 1, 1]\n",
      "1\n",
      "['?', '?', '?', '?', '.', '#', '#', '#', '#', '#', '#', '.', '.', '#', '#', '#', '#', '#', '.'] [1, 6, 5]\n",
      "4\n",
      "['?', '#', '#', '#', '?', '?', '?', '?', '?', '?', '?', '?'] [3, 2, 1]\n",
      "10\n",
      "total: 21\n"
     ]
    }
   ],
   "source": [
    "data = example\n",
    "spring_list, condition_list = [], []\n",
    "global springs\n",
    "for d in data:\n",
    "    s,c = d.split(); \n",
    "    spring_list.append([char for char in s])\n",
    "    condition_list.append([int(con) for con in c.split(',')])\n",
    "\n",
    "def check(conditions):\n",
    "    cur = 0\n",
    "    condition_check = []\n",
    "    \n",
    "    for s in springs:\n",
    "        if s == '#':\n",
    "            cur += 1\n",
    "        elif cur > 0:\n",
    "            condition_check.append(cur)\n",
    "            cur = 0\n",
    "    if cur > 0:\n",
    "        condition_check.append(cur)    \n",
    "    # print(condition_check >= len(conditions))\n",
    "    # print(springs)\n",
    "    # print(condition_check, conditions, condition_check == conditions)\n",
    "    return condition_check == conditions\n",
    "\n",
    "\n",
    "def permute(conditions, i):\n",
    "    if i >= len(springs): return 1 if check(conditions) else 0\n",
    "    elif (springs[i] == '#') or (springs[i] == '.'):\n",
    "        return permute(conditions, i+1)\n",
    "    springs[i] = '#'\n",
    "    r1 = permute(conditions, i+1)\n",
    "    springs[i] = '.'\n",
    "    r2 = permute(conditions, i+1)\n",
    "    springs[i] = '?'\n",
    "    return r1+r2\n",
    "\n",
    "\n",
    "total = 0\n",
    "for i in range(len(spring_list)):\n",
    "    springs = spring_list[i]\n",
    "    print(spring_list[i], condition_list[i])\n",
    "    options = permute(condition_list[i], 0)\n",
    "    \n",
    "    \n",
    "    print(options)\n",
    "    total += options\n",
    "print(f\"total: {total}\")\n"
   ]
  },
  {
   "cell_type": "code",
   "execution_count": 3,
   "metadata": {},
   "outputs": [
    {
     "name": "stdout",
     "output_type": "stream",
     "text": [
      "['?', '?', '?', '.', '#', '#', '#', '?', '?', '?', '?', '.', '#', '#', '#', '?', '?', '?', '?', '.', '#', '#', '#', '?', '?', '?', '?', '.', '#', '#', '#', '?', '?', '?', '?', '.', '#', '#', '#'] [1, 1, 3, 1, 1, 3, 1, 1, 3, 1, 1, 3, 1, 1, 3]\n",
      "1\n",
      "['.', '?', '?', '.', '.', '?', '?', '.', '.', '.', '?', '#', '#', '.', '?', '.', '?', '?', '.', '.', '?', '?', '.', '.', '.', '?', '#', '#', '.', '?', '.', '?', '?', '.', '.', '?', '?', '.', '.', '.', '?', '#', '#', '.', '?', '.', '?', '?', '.', '.', '?', '?', '.', '.', '.', '?', '#', '#', '.', '?', '.', '?', '?', '.', '.', '?', '?', '.', '.', '.', '?', '#', '#', '.'] [1, 1, 3, 1, 1, 3, 1, 1, 3, 1, 1, 3, 1, 1, 3]\n"
     ]
    }
   ],
   "source": [
    "data = example\n",
    "spring_list, condition_list = [], []\n",
    "global springs\n",
    "\n",
    "def unfold(l):\n",
    "    return ((l+['?'])*5)[:-1]\n",
    "\n",
    "for d in data:\n",
    "    s,c = d.split(); \n",
    "    spring_list.append(unfold([char for char in s]))\n",
    "    condition_list.append([int(con) for con in c.split(',')]*5)\n",
    "\n",
    "\n",
    "\n",
    "def check(conditions):\n",
    "    cur = 0\n",
    "    condition_check = []\n",
    "    \n",
    "    for s in springs:\n",
    "        if s == '#':\n",
    "            cur += 1\n",
    "        elif cur > 0:\n",
    "            condition_check.append(cur)\n",
    "            cur = 0\n",
    "    if cur > 0:\n",
    "        condition_check.append(cur)    \n",
    "    # print(condition_check >= len(conditions))\n",
    "    # print(springs)\n",
    "    # print(condition_check, conditions, condition_check == conditions)\n",
    "    return condition_check == conditions\n",
    "\n",
    "\n",
    "def permute(conditions, i):\n",
    "    if i >= len(springs): return 1 if check(conditions) else 0\n",
    "    elif (springs[i] == '#') or (springs[i] == '.'):\n",
    "        return permute(conditions, i+1)\n",
    "    springs[i] = '#'\n",
    "    r1 = permute(conditions, i+1)\n",
    "    springs[i] = '.'\n",
    "    r2 = permute(conditions, i+1)\n",
    "    springs[i] = '?'\n",
    "    return r1+r2\n",
    "\n",
    "\n",
    "total = 0\n",
    "for i in range(len(spring_list)):\n",
    "    springs = spring_list[i]\n",
    "    print(spring_list[i], condition_list[i])\n",
    "    options = permute(condition_list[i], 0)\n",
    "    \n",
    "    \n",
    "    print(options)\n",
    "    total += options\n",
    "print(f\"total: {total}\")\n"
   ]
  },
  {
   "cell_type": "code",
   "execution_count": null,
   "metadata": {},
   "outputs": [],
   "source": []
  }
 ],
 "metadata": {
  "kernelspec": {
   "display_name": "Python 3",
   "language": "python",
   "name": "python3"
  },
  "language_info": {
   "codemirror_mode": {
    "name": "ipython",
    "version": 3
   },
   "file_extension": ".py",
   "mimetype": "text/x-python",
   "name": "python",
   "nbconvert_exporter": "python",
   "pygments_lexer": "ipython3",
   "version": "3.10.8"
  },
  "orig_nbformat": 4
 },
 "nbformat": 4,
 "nbformat_minor": 2
}
