{
 "cells": [
  {
   "cell_type": "code",
   "execution_count": 1,
   "metadata": {},
   "outputs": [
    {
     "name": "stdout",
     "output_type": "stream",
     "text": [
      "['Time:        42     89     91     89', 'Distance:   308   1170   1291   1467']\n",
      "['Time:      7  15   30', 'Distance:  9  40  200']\n"
     ]
    }
   ],
   "source": [
    "#Day 6 AOC 23\n",
    "with open(\"input.txt\", \"r\") as file:\n",
    "    puzzle_in = file.read().splitlines()\n",
    "print(puzzle_in[:10])\n",
    "\n",
    "with open(\"example.txt\", \"r\") as file:\n",
    "    example = file.read().splitlines()\n",
    "print(example[:10])"
   ]
  },
  {
   "cell_type": "code",
   "execution_count": 6,
   "metadata": {},
   "outputs": [
    {
     "name": "stdout",
     "output_type": "stream",
     "text": [
      "3317888\n"
     ]
    }
   ],
   "source": [
    "data = puzzle_in\n",
    "time = [int(v) for v in data[0].split(\":\")[1].split()]\n",
    "dist = [int(v) for v in data[1].split(\":\")[1].split()]\n",
    "\n",
    "def acceleration(ms_held, ms_race):\n",
    "    if ms_held >= ms_race: return 0\n",
    "    if ms_held < 0: return 0\n",
    "    speed = ms_held\n",
    "    dist = (ms_race-ms_held) * speed\n",
    "    return dist\n",
    "\n",
    "options = 1\n",
    "for i in range(len(time)):\n",
    "    race_possibilities = 0\n",
    "    for t in range(time[i]):\n",
    "        d_observed = acceleration(t, time[i])\n",
    "        race_possibilities += d_observed > dist[i]\n",
    "    options *= race_possibilities\n",
    "print(options)\n"
   ]
  },
  {
   "cell_type": "code",
   "execution_count": 11,
   "metadata": {},
   "outputs": [
    {
     "name": "stdout",
     "output_type": "stream",
     "text": [
      "42899189 308117012911467\n",
      "24655068\n"
     ]
    }
   ],
   "source": [
    "data = puzzle_in\n",
    "time = int(''.join(data[0].split(\":\")[1].split()))\n",
    "dist = int(''.join(data[1].split(\":\")[1].split()))\n",
    "print(time, dist)\n",
    "\n",
    "def acceleration(ms_held, ms_race):\n",
    "    if ms_held >= ms_race: return 0\n",
    "    if ms_held < 0: return 0\n",
    "    speed = ms_held\n",
    "    dist = (ms_race-ms_held) * speed\n",
    "    return dist\n",
    "\n",
    "\n",
    "\n",
    "race_possibilities = 0\n",
    "for t in range(time):\n",
    "    d_observed = acceleration(t, time)\n",
    "    race_possibilities += d_observed > dist\n",
    "print(race_possibilities)\n"
   ]
  },
  {
   "cell_type": "code",
   "execution_count": null,
   "metadata": {},
   "outputs": [],
   "source": []
  }
 ],
 "metadata": {
  "kernelspec": {
   "display_name": "Python 3",
   "language": "python",
   "name": "python3"
  },
  "language_info": {
   "codemirror_mode": {
    "name": "ipython",
    "version": 3
   },
   "file_extension": ".py",
   "mimetype": "text/x-python",
   "name": "python",
   "nbconvert_exporter": "python",
   "pygments_lexer": "ipython3",
   "version": "3.10.8"
  },
  "orig_nbformat": 4
 },
 "nbformat": 4,
 "nbformat_minor": 2
}
