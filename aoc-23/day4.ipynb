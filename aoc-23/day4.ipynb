{
 "cells": [
  {
   "cell_type": "code",
   "execution_count": 2,
   "metadata": {},
   "outputs": [
    {
     "name": "stdout",
     "output_type": "stream",
     "text": [
      "['Card 215: 75 39 31  5 71 87 92 72  8 50 | 32 56 34 50 86 64  4 85 49 81 26 74 42 47 70 17 67 95  2  7 99 77 83 91 73', 'Card 216: 61 77 58 37 12 20 25 68 18 22 | 76 70 65 17  9 98 61 33  7 30 66 95 44 27 72 46 32 14 40 81 49 87 56  4 11', 'Card 217: 30 73 66 90 65 71 84  1 10 27 |  4 52 56 49 17 39 53  3 69 88  8 55 68 43 41 59 99 44 81 47 91  5 50 45 97', 'Card 218: 27 40 32 35 55 13 98 94 16 12 | 63 96 50 19 36 65 71 48 49 51 78 46 75 88 24 16 70 84 53  1 30  3 34  9 29', 'Card 219: 74 89 55  5 24 77 64 83 84 94 | 32 19 93 92 82 69 12 38  3 60 39 95 11 71 88 99 98 51 20 40  9 17 18 57 16']\n",
      "['Card 2: 13 32 20 16 61 | 61 30 68 82 17 32 24 19', 'Card 3:  1 21 53 59 44 | 69 82 63 72 16 21 14  1', 'Card 4: 41 92 73 84 69 | 59 84 76 51 58  5 54 83', 'Card 5: 87 83 26 28 32 | 88 30 70 12 93 22 82 36', 'Card 6: 31 18 13 56 72 | 74 77 10 23 35 67 36 11']\n"
     ]
    }
   ],
   "source": [
    "#Current day AOC 23\n",
    "with open(\"input.txt\", \"r\") as file:\n",
    "    puzzle_in = file.read().splitlines()\n",
    "print(puzzle_in[-5:])\n",
    "\n",
    "with open(\"example.txt\", \"r\") as file:\n",
    "    example = file.read().splitlines()\n",
    "print(example[-5:])\n",
    "\n",
    "#example = [list(row) for row in example]\n",
    "#puzzle_in = [list(row) for row in puzzle_in]"
   ]
  },
  {
   "cell_type": "code",
   "execution_count": 13,
   "metadata": {},
   "outputs": [
    {
     "name": "stdout",
     "output_type": "stream",
     "text": [
      "26426\n"
     ]
    }
   ],
   "source": [
    "data = puzzle_in\n",
    "tally = 0\n",
    "for line in data:\n",
    "    winners, scratched = line.split(\": \")[1].split(\" | \")\n",
    "    winners = winners.split()\n",
    "    scratched = scratched.split()\n",
    "    wins = 0\n",
    "    for num in scratched: \n",
    "        wins += num in winners\n",
    "    tally += 2**(wins-1) if wins else 0\n",
    "\n",
    "print(tally)"
   ]
  },
  {
   "cell_type": "code",
   "execution_count": 17,
   "metadata": {},
   "outputs": [
    {
     "name": "stdout",
     "output_type": "stream",
     "text": [
      "6227972\n"
     ]
    }
   ],
   "source": [
    "data = puzzle_in\n",
    "copies = [1 for i in range(len(data))]\n",
    "for i in range(len(data)):\n",
    "    winners, scratched = data[i].split(\": \")[1].split(\" | \")\n",
    "    winners = winners.split()\n",
    "    scratched = scratched.split()\n",
    "    wins = 0\n",
    "    for num in scratched: \n",
    "        wins += num in winners\n",
    "    for w in range(1,wins+1):\n",
    "        copies[i+w] += 1*copies[i]\n",
    "\n",
    "\n",
    "print(sum(copies))"
   ]
  },
  {
   "cell_type": "code",
   "execution_count": null,
   "metadata": {},
   "outputs": [],
   "source": []
  }
 ],
 "metadata": {
  "kernelspec": {
   "display_name": "Python 3",
   "language": "python",
   "name": "python3"
  },
  "language_info": {
   "codemirror_mode": {
    "name": "ipython",
    "version": 3
   },
   "file_extension": ".py",
   "mimetype": "text/x-python",
   "name": "python",
   "nbconvert_exporter": "python",
   "pygments_lexer": "ipython3",
   "version": "3.11.0"
  },
  "orig_nbformat": 4
 },
 "nbformat": 4,
 "nbformat_minor": 2
}
