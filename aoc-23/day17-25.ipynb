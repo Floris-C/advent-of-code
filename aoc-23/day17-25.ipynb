{
 "cells": [
  {
   "cell_type": "code",
   "execution_count": 1,
   "metadata": {},
   "outputs": [
    {
     "name": "stdout",
     "output_type": "stream",
     "text": [
      "['122122122221111223212131233223113223121333442231421433142332434134225233545342212211333112344344134442142433223412123123222112313121212221212', '222211221221231312321313313211342343411142324132123121134452332445155511344312331454432211221131443421221311311132313213121113133212212121121', '122122222123123112133333323222434211131132342432414314214452412531552132441122435121513351133144143322231342334223133211113332223112112212121', '121121122123221323133133124121313314444133314314111435332133355334444335454224312242224554224323414441121443212123222111111321321211121211212', '221122211323221232131333113424242413333242343434255431431524222114514555335533141355541521354112112323124134232112232412122113112231321212221', '122112113332111112211312241113114222334131115345325525553252224253442114313554141223521124145541224124314212142143231424133222231131333222211', '212212213321332113123242342411311111433442125134332211522512512135134454413433131555542522225543342113244321143124141111333313212212211321211', '111222113233231131222412143432342332212424325445154122325221333315223121441513551143423434221424535543443413414433343312211133122213311321111', '121122211212132122314144412132113122134521143321315442521141334521433553332314111441535455212441221412133441223422412413323113211321312211211', '121123313221131212422134134333321412515231255135114131115445421335451435423235211523233534133251531525332444243321231442133141331131331111311']\n",
      "['2413432311323', '3215453535623', '3255245654254', '3446585845452', '4546657867536', '1438598798454', '4457876987766', '3637877979653', '4654967986887', '4564679986453']\n"
     ]
    }
   ],
   "source": [
    "#Day 10 AOC 23\n",
    "with open(\"input.txt\", \"r\") as file:\n",
    "    puzzle_in = file.read().splitlines()\n",
    "print(puzzle_in[:10])\n",
    "\n",
    "with open(\"example.txt\", \"r\") as file:\n",
    "    example = file.read().splitlines()\n",
    "print(example[:10])"
   ]
  },
  {
   "cell_type": "code",
   "execution_count": 9,
   "metadata": {},
   "outputs": [
    {
     "name": "stdout",
     "output_type": "stream",
     "text": [
      "1\n",
      "2\n",
      "3\n"
     ]
    }
   ],
   "source": [
    "for i in range(1,4):\n",
    "    print(i)"
   ]
  },
  {
   "cell_type": "code",
   "execution_count": 26,
   "metadata": {},
   "outputs": [
    {
     "name": "stdout",
     "output_type": "stream",
     "text": [
      "638\n"
     ]
    }
   ],
   "source": [
    "from heapq import heappush, heappop\n",
    "\n",
    "def part1(data):\n",
    "    data = [[int(i) for i in r] for r in data]\n",
    "    start = (0,0)\n",
    "    end = (len(data[0])-1, len(data)-1)\n",
    "\n",
    "    options = [(-1,0), (0,1), (1,0), (0,-1)]\n",
    "    queue = [(0,0,0,-4)] # cost, x, y, disallowedDirection\n",
    "\n",
    "    seen = set()\n",
    "    costs = {}\n",
    "\n",
    "    while queue:\n",
    "        c, x, y, dd = heappop(queue)\n",
    "\n",
    "        if (x,y) == end: return c\n",
    "\n",
    "        if (x,y,dd) in seen: continue\n",
    "        seen.add((x,y,dd))\n",
    "        for nd in range(len(options)):\n",
    "            if nd == dd or ((nd+2)%4) == dd: continue #only move left or right\n",
    "            cost_increase = 0\n",
    "            for i in range(1,4): # move 1,2,or 3 steps\n",
    "                nx,ny = x+i*options[nd][0], y+i*options[nd][1]\n",
    "                if not( (nx in range(len(data[0]))) and (ny in range(len(data))) ): continue\n",
    "                \n",
    "                cost_increase += data[ny][nx]\n",
    "                nc = c + cost_increase\n",
    "                if nc >= costs.get((nx,ny,nd), 10e10): continue\n",
    "                costs[(nx,ny,nd)] = nc\n",
    "                heappush(queue, (nc,nx,ny,nd))\n",
    "        # print(queue)\n",
    "    print(\"queue empty lol\")\n",
    "\n",
    "\n",
    "    \n",
    "\n",
    "\n",
    "print(part1(puzzle_in))\n",
    "\n"
   ]
  },
  {
   "cell_type": "code",
   "execution_count": 7,
   "metadata": {},
   "outputs": [
    {
     "name": "stdout",
     "output_type": "stream",
     "text": [
      "102 94\n"
     ]
    }
   ],
   "source": [
    "from heapq import heappop, heappush as push\n",
    "\n",
    "G = {i + j*1j: int(c) for i,r in enumerate(open('example.txt'))\n",
    "                      for j,c in enumerate(r.strip())}\n",
    "\n",
    "\n",
    "def f(min, max, end=[*G][-1], x=0):\n",
    "    todo = [(0,0,0,1), (0,0,0,1j)]\n",
    "    seen = set()\n",
    "\n",
    "    while todo:\n",
    "        val, _, pos, dir = heappop(todo)\n",
    "\n",
    "        if (pos==end): return val\n",
    "        if (pos, dir) in seen: continue\n",
    "        seen.add((pos,dir))\n",
    "\n",
    "        for d in 1j/dir, -1j/dir:\n",
    "            for i in range(min, max+1):\n",
    "                if pos+d*i in G:\n",
    "                    v = sum(G[pos+d*j] for j in range(1,i+1))\n",
    "                    push(todo, (val+v, (x:=x+1), pos+d*i, d))\n",
    "\n",
    "print(f(1, 3), f(4, 10))"
   ]
  },
  {
   "cell_type": "code",
   "execution_count": 8,
   "metadata": {},
   "outputs": [
    {
     "name": "stdout",
     "output_type": "stream",
     "text": [
      "102\n",
      "94\n"
     ]
    }
   ],
   "source": [
    "from heapq import heappop, heappush\n",
    "ll = [[int(y) for y in x] for x in open('example.txt').read().strip().split('\\n')]\n",
    "DIRS = [(0, 1), (1, 0), (0, -1), (-1, 0)]\n",
    "def inr(pos, arr):\n",
    "\treturn pos[0] in range(len(arr)) and pos[1] in range(len(arr[0]))\n",
    "def run(mindist, maxdist):\n",
    "\t# cost, x, y, disallowedDirection\n",
    "\tq = [(0, 0, 0, -1)]\n",
    "\tseen = set()\n",
    "\tcosts = {}\n",
    "\twhile q:\n",
    "\t\tcost, x, y, dd = heappop(q)\n",
    "\t\t# if at the end, return\n",
    "\t\tif x == len(ll) - 1 and y == len(ll[0]) - 1: # goal x, goal y\n",
    "\t\t\treturn cost\n",
    "\t\t# if already seen, skip. If not, add to seen\n",
    "\t\tif (x, y, dd) in seen:\n",
    "\t\t\tcontinue\n",
    "\t\tseen.add((x, y, dd))\n",
    "\t\t\n",
    "        # for each direction\n",
    "\t\tfor direction in range(4):\n",
    "\t\t\tcostincrease = 0\n",
    "\t\t\tif direction == dd or (direction + 2) % 4 == dd:\n",
    "\t\t\t\t# can't go this way (we only go left or right, backward is not allowed and additional\n",
    "\t\t\t\t# forward steps are taken automatically therefore forward isn't allowed either)\n",
    "\t\t\t\tcontinue\n",
    "\t\t\tfor distance in range(1, maxdist + 1):\n",
    "\t\t\t\t# get coordinates for new location\n",
    "\t\t\t\txx = x + DIRS[direction][0] * distance\n",
    "\t\t\t\tyy = y + DIRS[direction][1] * distance\n",
    "\t\t\t\t# if new location not in city: continue\n",
    "\t\t\t\tif not inr((xx, yy), ll): continue\n",
    "\t\t\t\t# see how much the cost increases, notice it uses += in a for loop to account for\n",
    "\t\t\t\t# previous values in the jump forward, therefore if dist <mindist we also continue\n",
    "\t\t\t\tcostincrease += ll[xx][yy]\n",
    "\t\t\t\tif distance < mindist: continue\n",
    "\t\t\t\tnc = cost + costincrease\n",
    "\t\t\t\t# if nc isn't cheaper, continue\n",
    "\t\t\t\tif costs.get((xx, yy, direction), 1e100) <= nc: continue\n",
    "\t\t\t\t# if nc is cheaper, new cost is nc and rediscover from here\n",
    "\t\t\t\tcosts[(xx, yy, direction)] = nc\n",
    "\t\t\t\theappush(q, (nc, xx, yy, direction))\n",
    "\n",
    "print(run(1, 3))\n",
    "print(run(4, 10))"
   ]
  },
  {
   "cell_type": "code",
   "execution_count": null,
   "metadata": {},
   "outputs": [],
   "source": []
  }
 ],
 "metadata": {
  "kernelspec": {
   "display_name": "Python 3",
   "language": "python",
   "name": "python3"
  },
  "language_info": {
   "codemirror_mode": {
    "name": "ipython",
    "version": 3
   },
   "file_extension": ".py",
   "mimetype": "text/x-python",
   "name": "python",
   "nbconvert_exporter": "python",
   "pygments_lexer": "ipython3",
   "version": "3.11.0"
  },
  "orig_nbformat": 4
 },
 "nbformat": 4,
 "nbformat_minor": 2
}
