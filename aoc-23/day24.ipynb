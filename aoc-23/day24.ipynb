{
 "cells": [
  {
   "cell_type": "code",
   "execution_count": 1,
   "metadata": {},
   "outputs": [
    {
     "name": "stdout",
     "output_type": "stream",
     "text": [
      "['213004023520250, 255007063487325, 286351797522218 @ 118, 41, -64', '488850102886640, 357544262814165, 194409329434718 @ -73, -83, 182', '193401607687542, 253348355203801, 213339230780036 @ 133, 51, 98', '364824556346551, 260626401541541, 361655377972788 @ 33, 23, -23', '550091223256080, 390147168353451, 262217645702178 @ -171, -128, 102', '305200256686321, 316711673738693, 194854494380394 @ 145, -33, 183', '207979510913750, 261386170984185, 255317192004248 @ 79, 27, -39', '243923652854078, 279918496708334, 263368855906889 @ -10, -28, -46', '296252401452864, 327874358550835, 377993052144176 @ 136, -51, -19', '421277050485032, 273623815775052, 269761614145925 @ -12, 8, 96']\n",
      "['19, 13, 30 @ -2,  1, -2', '18, 19, 22 @ -1, -1, -2', '20, 25, 34 @ -2, -2, -4', '12, 31, 28 @ -1, -2, -1', '20, 19, 15 @  1, -5, -3']\n"
     ]
    }
   ],
   "source": [
    "#Day 23 AOC 23\n",
    "with open(\"input.txt\", \"r\") as file:\n",
    "    puzzle_in = file.read().splitlines()\n",
    "print(puzzle_in[:10])\n",
    "\n",
    "with open(\"example.tyt\", \"r\") as file:\n",
    "    example = file.read().splitlines()\n",
    "print(example[:10])"
   ]
  },
  {
   "cell_type": "code",
   "execution_count": 18,
   "metadata": {},
   "outputs": [
    {
     "name": "stdout",
     "output_type": "stream",
     "text": [
      "2\n",
      "13965\n"
     ]
    }
   ],
   "source": [
    "def find_intersect(p1, p2):\n",
    "    x,y,_,dx,dy,_ = p1\n",
    "    a1 = (dy/dx)\n",
    "    n1 = (y-a1*x) \n",
    "    x,y,_,dx,dy,_ = p2\n",
    "    a2 = (dy/dx)\n",
    "    n2 = (y-a2*x) \n",
    "    \n",
    "    l = a1-a2\n",
    "    if l == 0: return None # parallel lines\n",
    "    r = n2-n1\n",
    "    x = r/l\n",
    "    y = n1+a1*x\n",
    "    return (x,y)\n",
    "\n",
    "def intersect_is_valid(intersect, p1, p2, lower, upper):\n",
    "    ix, iy = intersect\n",
    "    if lower > ix or lower > iy or\\\n",
    "        upper < ix or upper < iy: return False\n",
    "    for p in (p1,p2):\n",
    "        x,y,_,dx,dy,_ = p\n",
    "        if ix < x and dx > 0: return False\n",
    "        if ix > x and dx < 0: return False\n",
    "        if iy < y and dy > 0: return False\n",
    "        if iy > y and dy < 0: return False\n",
    "    return True\n",
    "\n",
    "def parse_line(line):\n",
    "    l, r = line.split(' @ ')\n",
    "    x,y,z = l.split(', ')\n",
    "    dx,dy,dz = r.split(', ')\n",
    "    return [int(p) for p in (x,y,z,dx,dy,dz)]\n",
    "\n",
    "def parse_file(data):\n",
    "    return [parse_line(l) for l in data]\n",
    "\n",
    "\n",
    "\n",
    "def part1(data, lower, upper):\n",
    "    data = parse_file(data)\n",
    "    crashes = 0\n",
    "    for i, p1 in enumerate(data):\n",
    "        for p2 in data[i:]:\n",
    "            intersect = find_intersect(p1,p2)\n",
    "            # print(intersect)\n",
    "            if intersect:\n",
    "                crashes += intersect_is_valid(intersect, p1, p2, lower, upper)\n",
    "    return crashes\n",
    "\n",
    "print(part1(example, 7, 27))\n",
    "print(part1(puzzle_in, 200000000000000, 400000000000000))\n",
    "\n",
    "\n"
   ]
  },
  {
   "cell_type": "code",
   "execution_count": 24,
   "metadata": {},
   "outputs": [
    {
     "data": {
      "text/plain": [
       "(8437760597306, 561313232694429)"
      ]
     },
     "execution_count": 24,
     "metadata": {},
     "output_type": "execute_result"
    }
   ],
   "source": [
    "import numpy as np\n",
    "def find_x_range(data):\n",
    "    min_x = np.inf\n",
    "    max_x = -np.inf\n",
    "    data = parse_file(data)\n",
    "    for _,x,_,_,dx,dz in data:\n",
    "        if dx > 0:\n",
    "            min_x = min(min_x, x)\n",
    "        else:\n",
    "            max_x = max(max_x, x)\n",
    "    return(min_x, max_x)\n",
    "\n",
    " \n",
    "\n",
    "    \n",
    "# x_min\n",
    "# x_max\n",
    "find_x_range(puzzle_in)"
   ]
  },
  {
   "cell_type": "code",
   "execution_count": null,
   "metadata": {},
   "outputs": [],
   "source": []
  }
 ],
 "metadata": {
  "kernelspec": {
   "display_name": "Python 3",
   "language": "python",
   "name": "python3"
  },
  "language_info": {
   "codemirror_mode": {
    "name": "ipython",
    "version": 3
   },
   "file_extension": ".py",
   "mimetype": "text/x-python",
   "name": "python",
   "nbconvert_exporter": "python",
   "pygments_lexer": "ipython3",
   "version": "3.11.0"
  },
  "orig_nbformat": 4
 },
 "nbformat": 4,
 "nbformat_minor": 2
}
