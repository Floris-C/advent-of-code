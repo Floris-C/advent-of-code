{
 "cells": [
  {
   "cell_type": "code",
   "execution_count": 1,
   "metadata": {},
   "outputs": [
    {
     "name": "stdout",
     "output_type": "stream",
     "text": [
      "['O..##O.#..#..#...##O#.#...OO....O.#.....O......#OO...#...OO....O....O....O#.O.....O.#.O..O.O#......#', '.O.#..O...#....#...O..OO..#..O.O.....O.O...#O....#O.#O...OO#.O.#O##.......#.#OO#.O.O...O....O.....O#', 'O.O.O......#..#.O.#O........##.#...#...#....O........#O#...#.O...O.O..O.OO#.#..#.#....O..O.#.#..O.O.', '......##O.......#O.OO.OO#..#O....#OO...O......O.OO#O#...#....#.O.#.O#..O..O.O...OOO..O........#...O#', '#...###.O.#O#OOO#O...OO..O.O.##.#.........O.........OO.OOO#...O.#O....#.......O.OO#.#...O..#....O..O', '.O....#...#.#.OO.O#..O.....O...OO..##..O.....#..O.OO..#.O..O..##...O..OO...O#...O.....##.O..O.O.O.##', '...#.#O..OO.#..#.#.##...O.OO.O#.O##OO.O..#...#O.....OO..O.###.#...#.#O....##...#O...#..O.#...##.....', '...O...O..O...#O#.##....#..O#..O..............O.....O..#........##...O.##..#.O.O.O......OO#O.#..#OOO', '.#O......O..#..O..#.......#...#O....O..O#.........O.O....O....OO....O#....OOO.OO..O.#.O#........#.OO', '#.O.O.O.........O.#...O...#.O#.O.O#O#...................##.OO..#.O.......#...O##O.O.......O...O.OOOO']\n",
      "['O....#....', 'O.OO#....#', '.....##...', 'OO.#O....O', '.O.....O#.', 'O.#..O.#.#', '..O..#O..O', '.......O..', '#....###..', '#OO..#....']\n"
     ]
    }
   ],
   "source": [
    "#Day 10 AOC 23\n",
    "with open(\"input.txt\", \"r\") as file:\n",
    "    puzzle_in = file.read().splitlines()\n",
    "print(puzzle_in[:10])\n",
    "\n",
    "with open(\"example.txt\", \"r\") as file:\n",
    "    example = file.read().splitlines()\n",
    "print(example[:10]) "
   ]
  },
  {
   "cell_type": "code",
   "execution_count": 2,
   "metadata": {},
   "outputs": [
    {
     "name": "stdout",
     "output_type": "stream",
     "text": [
      "['O', '.', '.', '.', '.', '#', '.', '.', '.', '.']\n",
      "['O', '.', 'O', 'O', '#', '.', '.', '.', '.', '#']\n",
      "['.', '.', '.', '.', '.', '#', '#', '.', '.', '.']\n",
      "['O', 'O', '.', '#', 'O', '.', '.', '.', '.', 'O']\n",
      "['.', 'O', '.', '.', '.', '.', '.', 'O', '#', '.']\n",
      "['O', '.', '#', '.', '.', 'O', '.', '#', '.', '#']\n",
      "['.', '.', 'O', '.', '.', '#', 'O', '.', '.', 'O']\n",
      "['.', '.', '.', '.', '.', '.', '.', 'O', '.', '.']\n",
      "['#', '.', '.', '.', '.', '#', '#', '#', '.', '.']\n",
      "['#', 'O', 'O', '.', '.', '#', '.', '.', '.', '.']\n",
      "0\n",
      "100000\n",
      "200000\n"
     ]
    }
   ],
   "source": [
    "import numpy as np\n",
    "\n",
    "data = example\n",
    "data = [[c for c in r] for r in data]\n",
    "\n",
    "for d in data:\n",
    "    print(d)\n",
    "\n",
    "\n",
    "\n",
    "def rotate(data, southEast = False):\n",
    "    for i, row in enumerate(data):\n",
    "        placement = len(row)-1 if southEast else 0\n",
    "        jRange = range(len(row)-1, 0, -1) if southEast else range(len(row))\n",
    "        for j in jRange:\n",
    "            match data[i][j]:\n",
    "                case 'O': \n",
    "                    if j == placement:\n",
    "                        placement += -1 if southEast else 1\n",
    "                    else:\n",
    "                        data[i][placement] = 'O'\n",
    "                        data[i][j] = '.'\n",
    "                        placement += -1 if southEast else 1\n",
    "                case '#': \n",
    "                    placement = j-1 if southEast else j+1\n",
    "                case '.': \n",
    "                    continue\n",
    "    return data\n",
    "\n",
    "def cycle(data):\n",
    "    data = rotate(np.transpose(data)) # north\n",
    "    data = rotate(np.transpose(data), True) # east\n",
    "    data = rotate(np.transpose(data), True) # south\n",
    "    data = rotate(np.transpose(data)) # west\n",
    "    return data\n",
    "\n",
    "for n in range(1_000_000_000):\n",
    "    data = cycle(data)\n",
    "    if n % 100_000 == 0: print(n)\n",
    "\n",
    "score = 0\n",
    "for i, row in enumerate(data):\n",
    "    for j in range(len(row)):\n",
    "        if data[i][j] == 'O':\n",
    "            score += len(row)-j\n",
    "    print(i, score, row)\n",
    "\n",
    "for d in data:\n",
    "    print(d)\n",
    "print(score)\n"
   ]
  },
  {
   "cell_type": "code",
   "execution_count": null,
   "metadata": {},
   "outputs": [],
   "source": []
  }
 ],
 "metadata": {
  "kernelspec": {
   "display_name": "Python 3",
   "language": "python",
   "name": "python3"
  },
  "language_info": {
   "codemirror_mode": {
    "name": "ipython",
    "version": 3
   },
   "file_extension": ".py",
   "mimetype": "text/x-python",
   "name": "python",
   "nbconvert_exporter": "python",
   "pygments_lexer": "ipython3",
   "version": "3.11.0"
  },
  "orig_nbformat": 4
 },
 "nbformat": 4,
 "nbformat_minor": 2
}
