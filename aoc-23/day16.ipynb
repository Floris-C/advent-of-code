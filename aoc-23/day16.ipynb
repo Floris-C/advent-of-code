{
 "cells": [
  {
   "cell_type": "code",
   "execution_count": 1,
   "metadata": {},
   "outputs": [
    {
     "name": "stdout",
     "output_type": "stream",
     "text": [
      "['\\\\.......-..|.....-.........\\\\.|.\\\\................................................-......................\\\\.../..', '...........|......\\\\...\\\\...-..-......................--.....|...........\\\\....|./..........-../-......|....-.../', '...|\\\\...............................././............./......|....\\\\/................/......../...........|...\\\\.', '........-............-......................|..|......................................|......................\\\\', '........../..................\\\\............|......./............................-./....\\\\.......................', '.....-....-..\\\\..|..|.-...\\\\...\\\\.........................../......-..--.......|..\\\\......\\\\...|.........|..../....', '.........\\\\.....|.....................................|.......|..........-.....................................', '.......|..........|................................................-............-......../......|........./...', '\\\\.....-|............./........-.....\\\\.....-......-....\\\\...........-.........\\\\..|............./................', '.../......\\\\...-...........-.......|...-......\\\\-.........../......../..\\\\..............-.............|..........']\n",
      "['.|...\\\\....', '|.-.\\\\.....', '.....|-...', '........|.', '..........', '.........\\\\', '..../.\\\\\\\\..', '.-.-/..|..', '.|....-|.\\\\', '..//.|....']\n"
     ]
    }
   ],
   "source": [
    "#Day 12 AOC 23\n",
    "with open(\"input.txt\", \"r\") as file:\n",
    "    puzzle_in = file.read().splitlines()\n",
    "print(puzzle_in[:10])\n",
    "\n",
    "with open(\"example.txt\", \"r\") as file:\n",
    "    example = file.read().splitlines()\n",
    "print(example[:10])"
   ]
  },
  {
   "cell_type": "code",
   "execution_count": 33,
   "metadata": {},
   "outputs": [
    {
     "name": "stdout",
     "output_type": "stream",
     "text": [
      "task1\n",
      "7632\n",
      "task2\n",
      "8023\n"
     ]
    }
   ],
   "source": [
    "import queue\n",
    "data = puzzle_in\n",
    "\n",
    "# stop = 0\n",
    "# prev_stop = 0\n",
    "def findEnergized(start):\n",
    "    lasers = queue.SimpleQueue()\n",
    "    lasers.put(start)\n",
    "\n",
    "    locations = {}\n",
    "    performed = set()\n",
    "    while not lasers.empty():\n",
    "        x, y, d = lasers.get()\n",
    "        if (x,y,d) in performed: continue\n",
    "        performed.add((x,y,d))\n",
    "        # print(x,y,d)\n",
    "        \n",
    "        \n",
    "        match d:\n",
    "            case 'N': y -= 1\n",
    "            case 'E': x += 1\n",
    "            case 'S': y += 1\n",
    "            case 'W': x -= 1\n",
    "        if (y < 0) or (y >= len(data)) or (x < 0) or (x >= len(data[y])): continue\n",
    "\n",
    "        locations[(x,y)] = locations.get((x,y), 0) + 1\n",
    "\n",
    "        \n",
    "        \n",
    "        symbol = data[y][x]\n",
    "        match symbol:\n",
    "            case '.': \n",
    "                lasers.put((x,y,d))\n",
    "            case '/':\n",
    "                match d:\n",
    "                    case 'N': lasers.put((x,y,'E'))\n",
    "                    case 'E': lasers.put((x,y,'N'))\n",
    "                    case 'S': lasers.put((x,y,'W'))\n",
    "                    case 'W': lasers.put((x,y,'S'))\n",
    "            case '\\\\':\n",
    "                match d:\n",
    "                    case 'N': lasers.put((x,y,'W'))\n",
    "                    case 'E': lasers.put((x,y,'S'))\n",
    "                    case 'S': lasers.put((x,y,'E'))\n",
    "                    case 'W': lasers.put((x,y,'N'))\n",
    "            case '-':\n",
    "                if (d == \"E\") or (d == \"W\"):\n",
    "                    lasers.put((x,y,d))\n",
    "                else:\n",
    "                    lasers.put((x,y,'E'))\n",
    "                    lasers.put((x,y,'W'))\n",
    "            case '|':\n",
    "                if (d == \"N\") or (d == \"S\"):\n",
    "                    lasers.put((x,y,d))\n",
    "                else:\n",
    "                    lasers.put((x,y,'N'))\n",
    "                    lasers.put((x,y,'S'))\n",
    "            case _: KeyError(\"hol up wtf this mirror dont exist\")\n",
    "    return len(locations)\n",
    "    \n",
    "    \n",
    "    # if stop % 1_000_000 == 0:\n",
    "    #     print('stop', stop)\n",
    "    #     if prev_stop == len(locations): break\n",
    "    #     prev_stop = len(locations)\n",
    "print(\"task1\")\n",
    "print(findEnergized((-1,0,'E')))\n",
    "\n",
    "#print(sum(locations.values()))\n",
    "# ! 7617 too low\n",
    "# ! attempts: 3\n",
    " #* 7632 correct\n",
    "\n",
    "print(\"task2\")\n",
    "maxEnergized = 0\n",
    "for y in range(len(data)):\n",
    "    maxEnergized = max(maxEnergized, findEnergized((-1,y,'E')))\n",
    "    maxEnergized = max(maxEnergized, findEnergized((len(data[y]),y,'W')))\n",
    "for x in range(len(data[0])):\n",
    "    maxEnergized = max(maxEnergized, findEnergized((x,-1,'S')))\n",
    "    maxEnergized = max(maxEnergized, findEnergized((x,len(data),'N')))\n",
    "print(maxEnergized)"
   ]
  },
  {
   "cell_type": "code",
   "execution_count": null,
   "metadata": {},
   "outputs": [],
   "source": []
  }
 ],
 "metadata": {
  "kernelspec": {
   "display_name": "Python 3",
   "language": "python",
   "name": "python3"
  },
  "language_info": {
   "codemirror_mode": {
    "name": "ipython",
    "version": 3
   },
   "file_extension": ".py",
   "mimetype": "text/x-python",
   "name": "python",
   "nbconvert_exporter": "python",
   "pygments_lexer": "ipython3",
   "version": "3.11.0"
  },
  "orig_nbformat": 4
 },
 "nbformat": 4,
 "nbformat_minor": 2
}
