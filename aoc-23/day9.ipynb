{
 "cells": [
  {
   "cell_type": "code",
   "execution_count": 32,
   "metadata": {},
   "outputs": [
    {
     "name": "stdout",
     "output_type": "stream",
     "text": [
      "['13 9 1 2 50 233 728 1871 4300 9258 19218 39107 78571 155948 304911 585118 1098671 2014751 3605471 6296784 10739208', '16 39 84 173 354 719 1433 2795 5379 10350 20134 39782 79679 160823 324893 652941 1299026 2548741 4917680 9311783 17280520', '0 14 39 74 117 165 221 322 616 1545 4242 11327 28389 66554 146616 305124 602288 1130037 2015139 3405883 5420809', '6 14 26 55 130 298 626 1203 2142 3582 5690 8663 12730 18154 25234 34307 45750 59982 77466 98711 124274', '15 27 57 112 193 306 501 952 2094 4836 10868 23071 46018 86517 154090 261201 422937 655705 974331 1386730 1885055', '4 12 28 52 84 124 172 228 292 364 444 532 628 732 844 964 1092 1228 1372 1524 1684', '22 47 82 125 185 290 491 862 1496 2497 3968 5995 8627 11852 15569 19556 23434 26627 28318 27401 22429', '6 12 35 99 244 535 1072 2012 3626 6421 11355 20156 35713 62421 106221 173913 271307 400407 558224 746250 1014251', '15 26 48 94 193 412 891 1885 3817 7386 13867 25919 49530 98253 201764 422275 885030 1834213 3735657 7467927 14683606', '14 15 14 13 34 138 444 1154 2610 5452 11027 22332 45982 96031 201059 417001 850134 1698093 3322716 6378295 12034330']\n",
      "['0 3 6 9 12 15', '1 3 6 10 15 21', '10 13 16 21 30 45']\n",
      "['8 27 61 121 232 446 858 1625 2988 5297 9039 14869 23644 36460 54692 80037 114560 160743 221537 300417 401440', '8 8 3 -9 -26 -26 63 410 1348 3464 7715 15573 29202 51670 87199 141456 221888 338104 502307 729779 1039422', '7 20 43 80 131 192 255 308 335 316 227 40 -277 -760 -1449 -2388 -3625 -5212 -7205 -9664 -12653', '1 11 33 75 142 243 413 770 1657 3978 9939 24564 58586 133628 291003 605989 1210089 2324581 4309613 7734217 13473918', '7 8 8 18 62 184 460 1013 2029 3772 6596 10952 17388 26540 39112 55843 77459 104608 137776 177182 222650', '9 31 75 150 263 424 660 1045 1753 3141 5869 11064 20535 37046 64654 109119 178393 283195 437679 660202 974199', '4 7 19 62 177 445 1034 2302 5014 10768 22769 47137 94972 185401 349778 637136 1121123 1909658 3162034 5127705 8243746', '11 19 27 35 43 51 59 67 75 83 91 99 107 115 123 131 139 147 155 163 171', '-3 -2 0 3 7 12 18 25 33 42 52 63 75 88 102 117 133 150 168 187 207', '16 28 60 120 221 394 706 1295 2444 4734 9352 18704 37635 75858 152752 306665 612472 1213680 2379212 4600600 8753233']\n"
     ]
    }
   ],
   "source": [
    "#Day 8 AOC 23\n",
    "with open(\"input.txt\", \"r\") as file:\n",
    "    puzzle_in = file.read().splitlines()\n",
    "print(puzzle_in[:10])\n",
    "\n",
    "with open(\"example.txt\", \"r\") as file:\n",
    "    example = file.read().splitlines()\n",
    "print(example[:10])\n",
    "\n",
    "with open(\"noah.txt\", \"r\") as file:\n",
    "    noah = file.read().splitlines()\n",
    "print(noah[:10])"
   ]
  },
  {
   "cell_type": "code",
   "execution_count": 33,
   "metadata": {},
   "outputs": [
    {
     "name": "stdout",
     "output_type": "stream",
     "text": [
      "1819125966\n"
     ]
    }
   ],
   "source": [
    "data = noah\n",
    "# solve for line in data\n",
    "tally = 0\n",
    "for line in data:\n",
    "    pyramid = [[int(x) for x in line.split()]]\n",
    "    # print(pyramid[0])\n",
    "    while any([x != 0 for x in pyramid[-1]]) and len(pyramid[-1]) > 1:\n",
    "        diff = []\n",
    "        for i in range(len(pyramid[-1][:-1])):\n",
    "            diff.append(pyramid[-1][i+1]-pyramid[-1][i])\n",
    "        # print(diff)\n",
    "        pyramid.append(diff)\n",
    "\n",
    "\n",
    "\n",
    "    # for l in pyramid:\n",
    "    #     print(l)\n",
    "    # print()\n",
    "    for i in range(-2, -len(pyramid)-1, -1):\n",
    "        pyramid[i].append(pyramid[i][-1] + pyramid[i+1][-1])\n",
    "    tally += pyramid[0][-1]\n",
    "    # for l in pyramid:\n",
    "    #     print(l)\n",
    "    # print(\"---\")\n",
    "print(tally)\n",
    "# part 1 answer was 1987402313"
   ]
  },
  {
   "cell_type": "code",
   "execution_count": null,
   "metadata": {},
   "outputs": [],
   "source": [
    "data = [\"31 54 100 174 309 587 1179 2398 4765 9088 16554 28834 48201 77661 121097 183426 270769 390634 552112\"]\n",
    "# solve for line in data\n",
    "tally = 0\n",
    "for line in data:\n",
    "    pyramid = [[int(x) for x in line.split()]]\n",
    "    print(pyramid[0])\n",
    "    while any([x != 0 for x in pyramid[-1]]) and len(pyramid[-1]) > 1:\n",
    "        diff = []\n",
    "        for i in range(len(pyramid[-1][:-1])):\n",
    "            diff.append(pyramid[-1][i+1]-pyramid[-1][i])\n",
    "        print(diff)\n",
    "        pyramid.append(diff)\n",
    "\n",
    "\n",
    "\n",
    "    for l in pyramid:\n",
    "        print(l)\n",
    "    print()\n",
    "    for i in range(-2, -len(pyramid)-1, -1):\n",
    "        pyramid[i].insert(0, pyramid[i][0] - pyramid[i+1][0])\n",
    "    tally += pyramid[0][0]\n",
    "    # for l in pyramid:\n",
    "    #     print(l)\n",
    "    # print(\"---\")\n",
    "print(tally)\n"
   ]
  }
 ],
 "metadata": {
  "kernelspec": {
   "display_name": "Python 3",
   "language": "python",
   "name": "python3"
  },
  "language_info": {
   "codemirror_mode": {
    "name": "ipython",
    "version": 3
   },
   "file_extension": ".py",
   "mimetype": "text/x-python",
   "name": "python",
   "nbconvert_exporter": "python",
   "pygments_lexer": "ipython3",
   "version": "3.10.8"
  },
  "orig_nbformat": 4
 },
 "nbformat": 4,
 "nbformat_minor": 2
}
