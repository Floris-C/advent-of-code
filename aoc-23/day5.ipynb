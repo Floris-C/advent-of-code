{
 "cells": [
  {
   "cell_type": "code",
   "execution_count": 4,
   "metadata": {},
   "outputs": [
    {
     "name": "stdout",
     "output_type": "stream",
     "text": [
      "['3359638523 2177638715 353947688', '2163582881 2797433602 892891148', '1469280759 1124064666 282509988', '0 280123413 3244927', '']\n",
      "['', 'humidity-to-location map:', '60 56 37', '56 93 4', '']\n"
     ]
    }
   ],
   "source": [
    "#Current day AOC 23\n",
    "import numpy as np\n",
    "with open(\"input.txt\", \"r\") as file:\n",
    "    puzzle_in = file.read().splitlines()+[\"\"]\n",
    "print(puzzle_in[-5:])\n",
    "\n",
    "with open(\"example.txt\", \"r\") as file:\n",
    "    example = file.read().splitlines()+[\"\"]\n",
    "print(example[-5:])\n"
   ]
  },
  {
   "cell_type": "code",
   "execution_count": 5,
   "metadata": {},
   "outputs": [
    {
     "name": "stdout",
     "output_type": "stream",
     "text": [
      "79 -> 81 -> 81 -> 81 -> 74 -> 78 -> 78 -> 82 (seed was 79)\n",
      "82 -> 84 -> 84 -> 84 -> 77 -> 45 -> 46 -> 46 (seed was 82)\n",
      "92 -> 94 -> 94 -> 94 -> 87 -> 55 -> 56 -> 60 (seed was 92)\n",
      "93 -> 95 -> 95 -> 95 -> 95 -> 63 -> 64 -> 68 (seed was 93)\n",
      "updating seed 98 from seedI 0 to 2 (len(seeds) = 4)\n",
      "55 -> 57 -> 57 -> 53 -> 46 -> 82 -> 82 -> 86 (seed was 55)\n",
      "59 -> 61 -> 61 -> 61 -> 54 -> 90 -> 90 -> 94 (seed was 59)\n",
      "62 -> 64 -> 64 -> 64 -> 57 -> 93 -> 93 -> 56 (seed was 62)\n",
      "66 -> 68 -> 68 -> 68 -> 61 -> 97 -> 97 -> 97 (seed was 66)\n",
      "updating seed 69 from seedI 2 to 4 (len(seeds) = 4)\n",
      "----\n",
      "best solution - seed 82 val 46\n"
     ]
    }
   ],
   "source": [
    "data = example\n",
    "seeds = [int(seed) for seed in data[0].split(\": \")[1].split()]\n",
    "\n",
    "# current plan:\n",
    "# at each breakpoint the min val should be the lowest so like just record the smallest increase til next preakpoint and BOOM \n",
    "# basically only iterate over all of the breakpoints I guess\n",
    "\n",
    "\n",
    "class Node:\n",
    "  def __init__(self, dest, src, rng):\n",
    "    self.minIn = src\n",
    "    self.maxIn = src+rng\n",
    "    self.minOut = dest\n",
    "    self.maxOut = dest+rng\n",
    "    self.delta = dest-src\n",
    "\n",
    "  def valid_for_x(self, x):\n",
    "    return self.minIn <= x <= self.maxIn\n",
    "\n",
    "  def dist_to_break(self, x):\n",
    "     pass\n",
    "     #if self.valid_for_x(x):\n",
    "        \n",
    "\n",
    "  def conv_x(self, x):\n",
    "     return x + self.delta\n",
    "\n",
    "\n",
    "layer_list = [] # list of layers\n",
    "layer = [] # list of nodes\n",
    "for line in data[3:]:\n",
    "    if not line: \n",
    "        layer = sorted(layer, key = lambda n: n.minIn)\n",
    "        layer_list.append(layer)\n",
    "        layer = []\n",
    "    if not line or ':' in line: continue\n",
    "    d,s,r = (int(num) for num in line.split())\n",
    "    node = Node(d,s,r)\n",
    "    layer.append(node)\n",
    "\n",
    "seedI = 0\n",
    "seed = seeds[seedI]\n",
    "endOfSeedRange = seeds[seedI]+seeds[seedI+1]\n",
    "minVal = np.inf\n",
    "while seedI < len(seeds):\n",
    "   \n",
    "   min_dist_to_break = np.inf\n",
    "   val = seed\n",
    "   #print(val, end=\", \")\n",
    "   for layer in layer_list:\n",
    "      print(val, end = \" -> \")\n",
    "      # ? 77 is also the max for one so it converts 1 too early help\n",
    "      for node in layer:\n",
    "         if val >= node.maxIn: continue\n",
    "         elif val < node.minIn:\n",
    "            dist_to_break = max(1, node.minIn - val)\n",
    "            val = val #just to make it explicit we don't need to update value here\n",
    "            break\n",
    "         else: # val in range\n",
    "            dist_to_break = max(1, node.maxIn - val)\n",
    "            if not node.valid_for_x(val): print(\"ERR\")\n",
    "            val = node.conv_x(val)\n",
    "            break\n",
    "      # print(f\"d: {dist_to_break}\")\n",
    "      min_dist_to_break = min(min_dist_to_break, dist_to_break)\n",
    "      \n",
    "            \n",
    "\n",
    "   print(f\"{val} (seed was {seed})\") \n",
    "   if val < minVal:\n",
    "      minVal = val\n",
    "      minSeed = seed    \n",
    "   seed = seed + min_dist_to_break\n",
    "   \n",
    "   \n",
    "            \n",
    "   #code here\n",
    "   \n",
    "   if seed > endOfSeedRange:\n",
    "      seedI += 2 \n",
    "      if data == example: print(f'updating seed {seed} from seedI {seedI-2} to {seedI} (len(seeds) = {len(seeds)})')\n",
    "      if seedI >= len(seeds): break\n",
    "      seed = seeds[seedI]\n",
    "      endOfSeedRange = seeds[seedI]+seeds[seedI+1]\n",
    "\n",
    "print(\"----\")\n",
    "print(f\"best solution - seed {minSeed} val {minVal}\")\n",
    "      \n",
    "# ! 1708965309 is too high ran in 108 minutes (from day 5 cell 9)\n",
    "\n",
    "# ! 321136931 ran in 0.1s, is too high\n",
    "# ! 12634632\n",
    "\n"
   ]
  },
  {
   "cell_type": "code",
   "execution_count": 37,
   "metadata": {},
   "outputs": [
    {
     "name": "stdout",
     "output_type": "stream",
     "text": [
      "soil 84\n",
      "52 50 2 48\n",
      "50 98 -48 2\n",
      "fertilizer 84\n",
      "39 0 39 15\n",
      "0 15 -15 37\n",
      "37 52 -15 2\n",
      "water 84\n",
      "42 0 42 7\n",
      "57 7 50 4\n",
      "0 11 -11 42\n",
      "49 53 -4 8\n",
      "light 77\n",
      "88 18 70 7\n",
      "18 25 -7 70\n",
      "temperature 45\n",
      "81 45 36 19\n",
      "68 64 4 13\n",
      "45 77 -32 23\n",
      "humidity 46\n",
      "1 0 1 69\n",
      "0 69 -69 1\n",
      "location 46\n",
      "60 56 4 37\n",
      "56 93 -37 4\n"
     ]
    }
   ],
   "source": [
    "names = ['soil 84', 'fertilizer 84', 'water 84', 'light 77', 'temperature 45', 'humidity 46', 'location 46']\n",
    "i = 0\n",
    "while i < len(names):\n",
    "    print(names[i])\n",
    "    for node in layer_list[i]:\n",
    "        print(node.minOut, node.minIn, node.delta, node.maxIn-node.minIn)\n",
    "    i += 1\n"
   ]
  },
  {
   "cell_type": "code",
   "execution_count": null,
   "metadata": {},
   "outputs": [],
   "source": []
  }
 ],
 "metadata": {
  "kernelspec": {
   "display_name": "Python 3",
   "language": "python",
   "name": "python3"
  },
  "language_info": {
   "codemirror_mode": {
    "name": "ipython",
    "version": 3
   },
   "file_extension": ".py",
   "mimetype": "text/x-python",
   "name": "python",
   "nbconvert_exporter": "python",
   "pygments_lexer": "ipython3",
   "version": "3.10.8"
  },
  "orig_nbformat": 4
 },
 "nbformat": 4,
 "nbformat_minor": 2
}
