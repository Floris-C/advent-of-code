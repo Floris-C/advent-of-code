{
 "cells": [
  {
   "cell_type": "code",
   "execution_count": 2,
   "metadata": {},
   "outputs": [
    {
     "name": "stdout",
     "output_type": "stream",
     "text": [
      "['ft{m<1347:R,m<1967:A,A}', 'gbv{x<51:R,R}', 'lks{m<2978:kgl,a<680:ntb,x<577:hzp,mg}', 'db{a>2314:R,A}', 'rml{a<479:R,m>2803:A,R}', 'ncv{x<3567:R,a>3316:A,s>1415:R,R}', 'jsm{m>1434:brj,a>3142:vtk,x<2888:bpt,dl}', 'frt{s>210:R,a<1114:R,R}', 'zjq{m<195:A,R}', 'lv{m<1450:A,m<2105:xll,R}']\n",
      "['px{a<2006:qkq,m>2090:A,rfg}', 'pv{a>1716:R,A}', 'lnx{m>1548:A,A}', 'rfg{s<537:gd,x>2440:R,A}', 'qs{s>3448:A,lnx}', 'qkq{x<1416:A,crn}', 'crn{x>2662:A,R}', 'in{s<1351:px,qqz}', 'qqz{s>2770:qs,m<1801:hdj,R}', 'gd{a>3333:R,R}']\n"
     ]
    }
   ],
   "source": [
    "#Day 10 AOC 23\n",
    "with open(\"input.txt\", \"r\") as file:\n",
    "    puzzle_in = file.read().splitlines()\n",
    "print(puzzle_in[:10])\n",
    "\n",
    "with open(\"example.txt\", \"r\") as file:\n",
    "    example = file.read().splitlines()\n",
    "print(example[:10])"
   ]
  },
  {
   "cell_type": "code",
   "execution_count": 48,
   "metadata": {},
   "outputs": [],
   "source": [
    "class Rule():\n",
    "    def __init__(self, destination, operator=None, value=None, category=None):\n",
    "        self.destination = destination\n",
    "        self.operator = operator\n",
    "        self.value = value\n",
    "        self.category = category\n",
    "    \n",
    "    def eval(self, part):\n",
    "        if not self.category: return True, 10e5\n",
    "        p_val = part[self.category]\n",
    "        dif = self.value-p_val\n",
    "        if self.operator == '>':\n",
    "            return (p_val > self.value), dif\n",
    "        else:\n",
    "            return (p_val < self.value), dif\n",
    "    \n",
    "    def print(self):\n",
    "        return (self.condition, self.destination)\n",
    "\n",
    "\n",
    "def parse_ruleset(line):\n",
    "    name, rules = line.split('{')\n",
    "    rules = rules[:-1].split(',')\n",
    "    ruleset = []\n",
    "    # print(name)\n",
    "    for rule in rules:\n",
    "        if not (':') in rule:\n",
    "            # print(rule)\n",
    "            ruleset.append(Rule(rule))\n",
    "            continue\n",
    "        condition, destination = rule.split(':')\n",
    "        category, operator, value = condition[0], condition[1], int(condition[2:])\n",
    "        if operator == '>':\n",
    "            ruleset.append(Rule(destination, operator, value, category))\n",
    "        elif operator == '<':\n",
    "            ruleset.append(Rule(destination, operator, value, category))\n",
    "        else:\n",
    "            KeyError(\"unknown operator encountered while parsing ruleset\")\n",
    "    return name, ruleset\n",
    "\n",
    "def parse_part(line):\n",
    "    part_dict = {}\n",
    "    for val in line[1:-1].split(','): \n",
    "        part_dict[val[0]] = int(val[2:])\n",
    "    return part_dict\n",
    "\n",
    "\n",
    "def parse_file(data):\n",
    "    rules, parts = {}, []\n",
    "    seen_empty = False\n",
    "    for line in data:\n",
    "        if not line:\n",
    "            seen_empty = True\n",
    "            continue\n",
    "        if seen_empty:\n",
    "            parts.append(parse_part(line))\n",
    "        else:\n",
    "            name, ruleset = parse_ruleset(line)\n",
    "            rules[name] = ruleset\n",
    "    return rules, parts\n",
    "\n",
    "def part1_part_val(part):\n",
    "    return sum(part.values())\n",
    "\n",
    "def sort_part(part, rules):\n",
    "    order = 'in'\n",
    "    while order != 'A' and order != 'R':\n",
    "        for rule in rules[order]:\n",
    "            if rule.eval(part): \n",
    "                order = rule.destination\n",
    "                break\n",
    "    return order == 'A'\n",
    "\n",
    "\n",
    "\n"
   ]
  },
  {
   "cell_type": "code",
   "execution_count": 44,
   "metadata": {},
   "outputs": [
    {
     "name": "stdout",
     "output_type": "stream",
     "text": [
      "342650\n"
     ]
    }
   ],
   "source": [
    "rules, parts = parse_file(puzzle_in)\n",
    "part1_out = 0\n",
    "\n",
    "\n",
    "for part in parts:\n",
    "    if sort_part(part, rules):\n",
    "        part1_out += part1_part_val(part)\n",
    "print(part1_out)"
   ]
  },
  {
   "cell_type": "code",
   "execution_count": 52,
   "metadata": {},
   "outputs": [
    {
     "name": "stdout",
     "output_type": "stream",
     "text": [
      "1350 {'a': 1, 'm': 1, 'x': 1, 's': 1351}\n",
      "837 {'a': 1, 'm': 838, 'x': 1, 's': 1351}\n",
      "963 {'a': 1, 'm': 1801, 'x': 1, 's': 1351}\n",
      "1419 {'a': 1, 'm': 1801, 'x': 1, 's': 2770}\n",
      "1000000.0 {'a': 1, 'm': 1801, 'x': 1, 's': 1002770.0}\n"
     ]
    }
   ],
   "source": [
    "# ! PART 2\n",
    "\n",
    "start = {'a': 1, 'm': 1, 'x': 1, 's': 1}\n",
    "order = 'in'\n",
    "rules, _ = parse_file(example)\n",
    "total = 0\n",
    "min_dif = 0\n",
    "while min_dif != 10e5:\n",
    "    order = 'in'\n",
    "    min_dif = 10e5\n",
    "    while order != 'A' and order != 'R':\n",
    "        rule_found = False\n",
    "        for rule in rules[order]:\n",
    "            go, dif = rule.eval(start)\n",
    "            if dif > 0 and dif < min_dif:\n",
    "                min_dif = dif\n",
    "                min_cat = rule.category\n",
    "            if go: \n",
    "                if not rule_found: order = rule.destination\n",
    "                rule_found = True\n",
    "    if order == 'A': total += min_dif\n",
    "    start[min_cat] += min_dif\n",
    "    print(min_dif, start)\n",
    "        \n",
    "\n"
   ]
  },
  {
   "cell_type": "code",
   "execution_count": null,
   "metadata": {},
   "outputs": [],
   "source": []
  }
 ],
 "metadata": {
  "kernelspec": {
   "display_name": "Python 3",
   "language": "python",
   "name": "python3"
  },
  "language_info": {
   "codemirror_mode": {
    "name": "ipython",
    "version": 3
   },
   "file_extension": ".py",
   "mimetype": "text/x-python",
   "name": "python",
   "nbconvert_exporter": "python",
   "pygments_lexer": "ipython3",
   "version": "3.11.0"
  },
  "orig_nbformat": 4
 },
 "nbformat": 4,
 "nbformat_minor": 2
}
