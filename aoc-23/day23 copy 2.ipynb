{
 "cells": [
  {
   "cell_type": "code",
   "execution_count": 1,
   "metadata": {},
   "outputs": [
    {
     "name": "stdout",
     "output_type": "stream",
     "text": [
      "['#.###########################################################################################################################################', '#.........#...#.....###...#...###...#...#####...#...#...#...###.........#...###...#####...#...#...#...#...#...............#.......#####...###', '#########.#.#.#.###.###.#.#.#.###.#.#.#.#####.#.#.#.#.#.#.#.###.#######.#.#.###.#.#####.#.#.#.#.#.#.#.#.#.#.#############.#.#####.#####.#.###', '#.........#.#.#...#.#...#.#.#...#.#.#.#.#.....#.#.#...#.#.#...#...#.....#.#...#.#...#...#.#.#...#.#.#...#.#.........#.....#.....#.....#.#.###', '#.#########.#.###.#.#.###.#.###.#.#.#.#.#.#####.#.#####.#.###.###.#.#####.###.#.###.#.###.#.#####.#.#####.#########.#.#########.#####.#.#.###', '#.....#...#.#...#.#.#...#.#.#...#.#.#.#.#.....#.#.#.....#...#.#...#.#...#.#...#.#...#.#...#.#.....#.....#...###...#.#.......#...#.....#.#.###', '#####.#.#.#.###.#.#.###.#.#.#.###.#.#.#.#####.#.#.#.#######.#.#.###.#.#.#.#.###.#.###.#.###.#.#########.###.###.#.#.#######.#.###.#####.#.###', '#.....#.#.#.#...#.#.#...#.#.#...#.#.#.#.#.....#.#.#.......#.#.#...#.#.#.#.#.###.#.###.#.#...#...#...###...#.....#...#.......#...#.#.....#...#', '#.#####.#.#.#v###.#.#.###.#.###.#.#.#.#.#.#####.#.#######.#.#.###.#.#.#.#.#.###.#.###.#.#.#####.#.#.#####.###########.#########.#.#.#######.#', '#.....#.#...#.>.#.#.#...#.#...#.#.#.#.#.#...#...#.#.......#.#.#...#.#.#.#.#...#.#.>.>.#...#.....#.#.#...#.........#...#...#.....#.#...#.....#']\n",
      "['#.#####################', '#.......#########...###', '#######.#########.#.###', '###.....#.>.>.###.#.###', '###v#####.#v#.###.#.###', '###.>...#.#.#.....#...#', '###v###.#.#.#########.#', '###...#.#.#.......#...#', '#####.#.#.#######.#.###', '#.....#.#.#.......#...#']\n"
     ]
    }
   ],
   "source": [
    "#Day 10 AOC 23\n",
    "with open(\"input.txt\", \"r\") as file:\n",
    "    puzzle_in = file.read().splitlines()\n",
    "print(puzzle_in[:10])\n",
    "\n",
    "with open(\"example.txt\", \"r\") as file:\n",
    "    example = file.read().splitlines()\n",
    "print(example[:10])"
   ]
  },
  {
   "cell_type": "code",
   "execution_count": 35,
   "metadata": {},
   "outputs": [
    {
     "ename": "IndexError",
     "evalue": "list index out of range",
     "output_type": "error",
     "traceback": [
      "\u001b[1;31m---------------------------------------------------------------------------\u001b[0m",
      "\u001b[1;31mIndexError\u001b[0m                                Traceback (most recent call last)",
      "Cell \u001b[1;32mIn[35], line 78\u001b[0m\n\u001b[0;32m     75\u001b[0m                 branches\u001b[39m.\u001b[39mappend((coord, size\u001b[39m+\u001b[39m\u001b[39m1\u001b[39m))\n\u001b[0;32m     76\u001b[0m     \u001b[39mreturn\u001b[39;00m max_size\n\u001b[1;32m---> 78\u001b[0m max_size \u001b[39m=\u001b[39m path_map()\n\u001b[0;32m     79\u001b[0m \u001b[39mprint\u001b[39m(\u001b[39mf\u001b[39m\u001b[39m\"\u001b[39m\u001b[39mmax length: \u001b[39m\u001b[39m{\u001b[39;00mmax_size\u001b[39m}\u001b[39;00m\u001b[39m\"\u001b[39m)\n",
      "Cell \u001b[1;32mIn[35], line 33\u001b[0m, in \u001b[0;36mpath_map\u001b[1;34m()\u001b[0m\n\u001b[0;32m     31\u001b[0m options \u001b[39m=\u001b[39m path_option(node)\n\u001b[0;32m     32\u001b[0m options \u001b[39m=\u001b[39m [(o,hill) \u001b[39mfor\u001b[39;00m o,hill \u001b[39min\u001b[39;00m options \u001b[39mif\u001b[39;00m (\u001b[39mnot\u001b[39;00m o \u001b[39min\u001b[39;00m path)]\n\u001b[1;32m---> 33\u001b[0m nn, hill \u001b[39m=\u001b[39m options[\u001b[39m0\u001b[39;49m]\n\u001b[0;32m     34\u001b[0m \u001b[39mwhile\u001b[39;00m (\u001b[39mnot\u001b[39;00m hill) \u001b[39mand\u001b[39;00m (node \u001b[39m!=\u001b[39m end):\n\u001b[0;32m     35\u001b[0m     steps \u001b[39m+\u001b[39m\u001b[39m=\u001b[39m \u001b[39m1\u001b[39m\n",
      "\u001b[1;31mIndexError\u001b[0m: list index out of range"
     ]
    }
   ],
   "source": [
    "# part 2\n",
    "start = (0, 1)\n",
    "global data\n",
    "data = example\n",
    "global end\n",
    "end = (len(data[0])-2, len(data)-1)\n",
    "\n",
    "def path_option(pos):\n",
    "    x,y = pos\n",
    "    options = []\n",
    "    for dx,dy in [(1,0), (-1,0), (0,1), (0,-1)]:\n",
    "        nx, ny = x+dx, y+dy\n",
    "        if (nx < 0) or (nx >= len(data[0])) or \\\n",
    "            (ny < 0) or (ny >= len(data)) or \\\n",
    "            data[ny][nx] == '#': \n",
    "            continue\n",
    "        isHill = data[ny][nx] in \"<>v^\"\n",
    "        options.append(((nx,ny), isHill))\n",
    "    return options\n",
    "\n",
    "def path_map():\n",
    "    path = []\n",
    "    edges = []\n",
    "    branches = [((1,0), 0)]\n",
    "    while branches:\n",
    "        start, size = branches.pop(-1)\n",
    "        steps = 0\n",
    "        path = path[:size]\n",
    "        node = start\n",
    "        path.append(node)\n",
    "        options = path_option(node)\n",
    "        options = [(o,hill) for o,hill in options if (not o in path)]\n",
    "        nn, hill = options[0]\n",
    "        while (not hill) and (node != end):\n",
    "            steps += 1\n",
    "            node, hill = options[0]\n",
    "            path.append(node)\n",
    "            options = path_option(node)\n",
    "            options = [(o,hill) for o,hill in options if (not o in path)]\n",
    "            nn, hill = options[0]\n",
    "        for coord, _ in options:\n",
    "            if coord not in path:\n",
    "                edges.append((start, coord, steps))\n",
    "                branches.append((coord, len(path)))\n",
    "        # print(len(edges), len(branches), edges)\n",
    "    return edges\n",
    "\n",
    "\n",
    "\n",
    "def find_options(pos):\n",
    "    x,y = pos\n",
    "    options = []\n",
    "    for dx,dy in [(1,0), (-1,0), (0,1), (0,-1)]:\n",
    "        nx, ny = x+dx, y+dy\n",
    "        if (nx < 0) or (nx >= len(data[0])) or \\\n",
    "            (ny < 0) or (ny >= len(data)) or \\\n",
    "            data[ny][nx] == '#': \n",
    "            continue\n",
    "        options.append((nx,ny))\n",
    "    return options\n",
    "\n",
    "def dfs():\n",
    "    path = []\n",
    "    branches = [((1,0), 0)]\n",
    "    max_size = 0\n",
    "    while branches:\n",
    "        node, size = branches.pop(-1)\n",
    "        path = path[:size]\n",
    "        if node == end: \n",
    "            max_size = max(size, max_size)\n",
    "            print(f'finished a path of size: {size} (max is {max_size})')\n",
    "        path.append(node)\n",
    "        for coord in find_options(node):\n",
    "            if coord not in path:\n",
    "                branches.append((coord, size+1))\n",
    "    return max_size\n",
    "\n",
    "max_size = path_map()\n",
    "print(f\"max length: {max_size}\")\n"
   ]
  },
  {
   "cell_type": "code",
   "execution_count": 30,
   "metadata": {},
   "outputs": [
    {
     "name": "stdout",
     "output_type": "stream",
     "text": [
      "42\n",
      "{(13, 12): [((10, 3), 23), ((12, 3), 23)], (3, 6): [((6, 13), 21), ((5, 14), 21)], (11, 4): [((12, 13), 23), ((13, 14), 23), ((14, 13), 23)], (12, 3): [((21, 12), 29), ((20, 11), 29)], (1, 0): [((3, 6), 15), ((4, 5), 15)], (21, 10): [((11, 4), 29), ((10, 3), 29)], (5, 14): [((13, 18), 37), ((14, 19), 37)], (14, 19): [((19, 18), 9), ((19, 20), 9)], (18, 19): [((13, 18), 9), ((12, 19), 9)], (4, 5): [((11, 4), 21), ((12, 3), 21)], (12, 19): [((5, 12), 37), ((6, 13), 37)], (13, 18): [((13, 12), 9), ((12, 13), 9), ((14, 13), 9)], (14, 13): [((21, 12), 17), ((21, 10), 17)], (20, 11): [((13, 12), 17), ((12, 13), 17), ((13, 14), 17)], (12, 13): [((5, 12), 11), ((5, 14), 11)], (19, 18): [((20, 11), 9), ((21, 10), 9)], (21, 12): [((19, 20), 9), ((18, 19), 9)], (13, 14): [((12, 19), 9), ((14, 19), 9)], (6, 13): [((13, 12), 11), ((14, 13), 11), ((13, 14), 11)]}\n",
      "[((3, 6), 15), ((4, 5), 15)]\n"
     ]
    }
   ],
   "source": [
    "all_paths = list(set(max_size))\n",
    "print(len(all_paths))\n",
    "\n",
    "edge_dict = {}\n",
    "for s, e, l in all_paths:\n",
    "    edge_dict[s] = edge_dict.get(s, [])+[(e, l)]\n",
    "print(edge_dict)\n",
    "print(edge_dict[(1,0)])\n"
   ]
  },
  {
   "cell_type": "code",
   "execution_count": 32,
   "metadata": {},
   "outputs": [
    {
     "ename": "KeyError",
     "evalue": "(19, 20)",
     "output_type": "error",
     "traceback": [
      "\u001b[1;31m---------------------------------------------------------------------------\u001b[0m",
      "\u001b[1;31mKeyError\u001b[0m                                  Traceback (most recent call last)",
      "Cell \u001b[1;32mIn[32], line 32\u001b[0m\n\u001b[0;32m     27\u001b[0m         \u001b[39mif\u001b[39;00m \u001b[39mlen\u001b[39m([l \u001b[39mfor\u001b[39;00m d_e,l \u001b[39min\u001b[39;00m edge_dict[s] \u001b[39mif\u001b[39;00m e \u001b[39m==\u001b[39m d_e]) \u001b[39m>\u001b[39m \u001b[39m1\u001b[39m: \u001b[39mprint\u001b[39m(\u001b[39m\"\u001b[39m\u001b[39mjinxies\u001b[39m\u001b[39m\"\u001b[39m)\n\u001b[0;32m     28\u001b[0m     \u001b[39mreturn\u001b[39;00m path_length\n\u001b[1;32m---> 32\u001b[0m res \u001b[39m=\u001b[39m dfes(edge_dict)\n\u001b[0;32m     33\u001b[0m \u001b[39mprint\u001b[39m(res)\n",
      "Cell \u001b[1;32mIn[32], line 19\u001b[0m, in \u001b[0;36mdfes\u001b[1;34m(edge_dict)\u001b[0m\n\u001b[0;32m     16\u001b[0m     path\u001b[39m.\u001b[39mappend(node)\n\u001b[0;32m     17\u001b[0m     size \u001b[39m+\u001b[39m\u001b[39m=\u001b[39m \u001b[39m1\u001b[39m\n\u001b[1;32m---> 19\u001b[0m     branches\u001b[39m.\u001b[39mextend([(e, size) \u001b[39mfor\u001b[39;00m e,_ \u001b[39min\u001b[39;00m edge_dict[node]])\n\u001b[0;32m     20\u001b[0m \u001b[39mreturn\u001b[39;00m longest_path\n",
      "\u001b[1;31mKeyError\u001b[0m: (19, 20)"
     ]
    }
   ],
   "source": [
    "def dfes(edge_dict):\n",
    "    path = []\n",
    "    branches = [((1,0), 0)]\n",
    "    turns = 0\n",
    "    longest_path = 0\n",
    "    while branches:\n",
    "        node, size = branches.pop(-1)\n",
    "        path = path[:size]\n",
    "\n",
    "        if node == end:\n",
    "            path_length = get_dfes_len(path, edge_dict)\n",
    "            longest_path = max(path_length, longest_path)\n",
    "            print(f'finished a path of size: {path_length} (max is {longest_path})')\n",
    "            continue\n",
    "        \n",
    "        path.append(node)\n",
    "        size += 1\n",
    "\n",
    "        branches.extend([(e, size) for e,_ in edge_dict[node]])\n",
    "    return longest_path\n",
    "\n",
    "\n",
    "def get_dfes_len(path, edge_dict):\n",
    "    path_length = 0\n",
    "    for s,e in path:\n",
    "        path_length += [l for d_e,l in edge_dict[s] if e == d_e][0]\n",
    "        if len([l for d_e,l in edge_dict[s] if e == d_e]) > 1: print(\"jinxies\")\n",
    "    return path_length\n",
    "\n",
    "\n",
    "\n",
    "res = dfes(edge_dict)\n",
    "print(res)"
   ]
  },
  {
   "cell_type": "code",
   "execution_count": 33,
   "metadata": {},
   "outputs": [
    {
     "data": {
      "text/plain": [
       "[((3, 6), 42), ((4, 5), 42)]"
      ]
     },
     "execution_count": 33,
     "metadata": {},
     "output_type": "execute_result"
    }
   ],
   "source": [
    "[(e, 42) for e,l in edge_dict[(1,0)]]\n",
    "# edge_dict[(1,0)]"
   ]
  },
  {
   "cell_type": "code",
   "execution_count": 3,
   "metadata": {},
   "outputs": [
    {
     "name": "stdout",
     "output_type": "stream",
     "text": [
      "['a']\n"
     ]
    }
   ],
   "source": [
    "print(['a', 'b', 'c'][:1])"
   ]
  },
  {
   "cell_type": "code",
   "execution_count": null,
   "metadata": {},
   "outputs": [],
   "source": []
  }
 ],
 "metadata": {
  "kernelspec": {
   "display_name": "Python 3",
   "language": "python",
   "name": "python3"
  },
  "language_info": {
   "codemirror_mode": {
    "name": "ipython",
    "version": 3
   },
   "file_extension": ".py",
   "mimetype": "text/x-python",
   "name": "python",
   "nbconvert_exporter": "python",
   "pygments_lexer": "ipython3",
   "version": "3.11.0"
  },
  "orig_nbformat": 4
 },
 "nbformat": 4,
 "nbformat_minor": 2
}
