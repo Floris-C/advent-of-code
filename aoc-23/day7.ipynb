{
 "cells": [
  {
   "cell_type": "code",
   "execution_count": 1,
   "metadata": {},
   "outputs": [
    {
     "name": "stdout",
     "output_type": "stream",
     "text": [
      "['99898 978', 'T99A9 198', '43Q34 550', 'KK8QK 418', 'Q6Q57 767', '35A37 832', 'AJ867 137', '45679 936', '8TJ88 409', '7772T 208']\n",
      "['32T3K 765', 'T55J5 684', 'KK677 28', 'KTJJT 220', 'QQQJA 483']\n"
     ]
    }
   ],
   "source": [
    "#Day 7 AOC 23\n",
    "with open(\"input.txt\", \"r\") as file:\n",
    "    puzzle_in = file.read().splitlines()\n",
    "print(puzzle_in[:10])\n",
    "\n",
    "with open(\"example.txt\", \"r\") as file:\n",
    "    example = file.read().splitlines()\n",
    "print(example[:10])"
   ]
  },
  {
   "cell_type": "code",
   "execution_count": 19,
   "metadata": {},
   "outputs": [
    {
     "name": "stdout",
     "output_type": "stream",
     "text": [
      "---- out 246163188\n"
     ]
    }
   ],
   "source": [
    "from collections import Counter\n",
    "def getHandType(hand):\n",
    "    c = Counter(hand)\n",
    "    if len(c) == 1:\n",
    "        return \"50\" # 5 of a kind\n",
    "    elif len(c) == 2:\n",
    "        if 1 in c.values():\n",
    "            return \"40\" # 4 of a kind\n",
    "        else:\n",
    "            return \"35\" # full house\n",
    "    if 3 in c.values():\n",
    "        return \"30\" # 3 of a kind\n",
    "    if len(c) == 3:\n",
    "        return \"25\" # 2 pairs\n",
    "    if 2 in c.values():\n",
    "        return \"20\"\n",
    "    else:\n",
    "        return \"10\"\n",
    "\n",
    "def getCardVal(card):\n",
    "    match card:\n",
    "        case 'A': return \"14\"\n",
    "        case 'K': return \"13\"\n",
    "        case 'Q': return \"12\"\n",
    "        case 'J': return \"11\"\n",
    "        case 'T': return \"10\"\n",
    "        case _: return f\"0{card}\" \n",
    "\n",
    "\n",
    "\n",
    "def strength(hand):\n",
    "    strength = getHandType(hand)\n",
    "    for c in hand:\n",
    "        strength += getCardVal(c)\n",
    "    \n",
    "\n",
    "    # strength is an integer of:\n",
    "    # tt1122334455\n",
    "    # where each set of digits is a code\n",
    "    # for the type of hand, and then\n",
    "    # the value of each card.\n",
    "\n",
    "    return int(strength)\n",
    "\n",
    "data = puzzle_in\n",
    "# for hand in data:\n",
    "#     hand, bet = hand.split()\n",
    "iterator = [line.split() for line in data]\n",
    "#print(iterator)\n",
    "iterator = [[strength(hand), int(bet)] for hand, bet in iterator]\n",
    "#print(iterator)\n",
    "out = 0\n",
    "for i, (k, v) in enumerate(sorted(iterator)):\n",
    "    #print(i, k)\n",
    "    out += v * (i+1)\n",
    "print(\"---- out\", out)\n",
    "        \n",
    "    \n",
    "    \n",
    "#A, K, Q, J, T, 9, 8, 7, 6, 5, 4, 3, or 2"
   ]
  },
  {
   "cell_type": "code",
   "execution_count": null,
   "metadata": {},
   "outputs": [
    {
     "name": "stdout",
     "output_type": "stream",
     "text": [
      "---- out 245794069\n"
     ]
    }
   ],
   "source": [
    "## part 2\n",
    "from collections import Counter\n",
    "def getHandType(hand):\n",
    "    c = Counter(hand)\n",
    "    jokers = c.pop(\"J\", 0)\n",
    "    if jokers == 5: return \"50\"\n",
    "    if max(c.values()) == (5-jokers):\n",
    "        return \"50\" # 5 of a kind\n",
    "    if max(c.values()) == (4-jokers):\n",
    "        return \"40\" # 4 of a kind\n",
    "    if len(c) <= 2: # at most 2 jokers\n",
    "        return \"35\" #? unsure\n",
    "    if max(c.values()) == (3-jokers):\n",
    "        return \"30\"\n",
    "    if (('2' in c.values()) and jokers) or \\\n",
    "        len(c) == 3:\n",
    "        return \"25\"\n",
    "    if max(c.values()) == (2-jokers):\n",
    "        return \"20\"\n",
    "    return \"10\"\n",
    "\n",
    "        #at most 1 joker\n",
    "\n",
    "def getCardVal(card):\n",
    "    match card:\n",
    "        case 'A': return \"14\"\n",
    "        case 'K': return \"13\"\n",
    "        case 'Q': return \"12\"\n",
    "        case 'J': return \"01\" # ! joker\n",
    "        case 'T': return \"10\"\n",
    "        case _: return f\"0{card}\" \n",
    "\n",
    "\n",
    "\n",
    "def strength(hand):\n",
    "    strength = getHandType(hand)\n",
    "    for c in hand:\n",
    "        strength += getCardVal(c)\n",
    "    \n",
    "\n",
    "    # strength is an integer of:\n",
    "    # tt1122334455\n",
    "    # where each set of digits is a code\n",
    "    # for the type of hand, and then\n",
    "    # the value of each card.\n",
    "\n",
    "    return int(strength)\n",
    "\n",
    "data = puzzle_in\n",
    "# for hand in data:\n",
    "#     hand, bet = hand.split()\n",
    "iterator = [line.split() for line in data]\n",
    "#print(iterator)\n",
    "iterator = [[strength(hand), int(bet)] for hand, bet in iterator]\n",
    "#print(iterator)\n",
    "out = 0\n",
    "for i, (k, v) in enumerate(sorted(iterator)):\n",
    "    #print(i, k)\n",
    "    out += v * (i+1)\n",
    "print(\"---- out\", out)\n",
    "        \n",
    "    \n",
    "    \n",
    "#A, K, Q, J, T, 9, 8, 7, 6, 5, 4, 3, or 2"
   ]
  },
  {
   "cell_type": "code",
   "execution_count": null,
   "metadata": {},
   "outputs": [],
   "source": []
  }
 ],
 "metadata": {
  "kernelspec": {
   "display_name": "Python 3",
   "language": "python",
   "name": "python3"
  },
  "language_info": {
   "codemirror_mode": {
    "name": "ipython",
    "version": 3
   },
   "file_extension": ".py",
   "mimetype": "text/x-python",
   "name": "python",
   "nbconvert_exporter": "python",
   "pygments_lexer": "ipython3",
   "version": "3.11.0"
  },
  "orig_nbformat": 4
 },
 "nbformat": 4,
 "nbformat_minor": 2
}
