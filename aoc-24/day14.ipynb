{
 "cells": [
  {
   "cell_type": "code",
   "execution_count": 2,
   "metadata": {},
   "outputs": [
    {
     "name": "stdout",
     "output_type": "stream",
     "text": [
      "['p=40,73 v=-96,64', 'p=74,78 v=91,-65', 'p=100,86 v=98,62', 'p=61,29 v=95,-68', 'p=50,53 v=-50,-63', 'p=43,77 v=-42,-37', 'p=47,44 v=34,66', 'p=11,21 v=72,66', 'p=9,61 v=-26,77', 'p=46,100 v=-10,-82']\n",
      "['p=0,4 v=3,-3', 'p=6,3 v=-1,-3', 'p=10,3 v=-1,2', 'p=2,0 v=2,-1', 'p=0,0 v=1,3', 'p=3,0 v=-2,-2', 'p=7,6 v=-1,-3', 'p=3,0 v=-1,-2', 'p=9,3 v=2,3', 'p=7,3 v=-1,2']\n"
     ]
    }
   ],
   "source": [
    "#Day 1 AOC 23\n",
    "with open(\"../inputs/1424.txt\", \"r\") as file:\n",
    "    input = file.read().splitlines()\n",
    "print(input[:10])\n",
    "\n",
    "with open(\"example.txt\", \"r\") as file:\n",
    "    example = file.read().splitlines()\n",
    "print(example[:10])"
   ]
  },
  {
   "cell_type": "code",
   "execution_count": 3,
   "metadata": {},
   "outputs": [
    {
     "name": "stdout",
     "output_type": "stream",
     "text": [
      "c 50 51\n",
      "[140, 135, 110, 105]\n"
     ]
    },
    {
     "data": {
      "text/plain": [
       "218295000"
      ]
     },
     "execution_count": 3,
     "metadata": {},
     "output_type": "execute_result"
    }
   ],
   "source": [
    "\n",
    "def simulate_bot(x, y, vx, vy, seconds, width, height):\n",
    "    if seconds == 0: return x, y\n",
    "\n",
    "    x = x+vx\n",
    "    if x < 0: x = width+x\n",
    "    if x >= width: x = x-width\n",
    "    y = y+vy\n",
    "    if y < 0: y = height+y\n",
    "    if y >= height: y = y-height\n",
    "    return simulate_bot(x, y, vx, vy, seconds-1, width, height)\n",
    "\n",
    "def task1(input, width, height):\n",
    "    seconds = 100\n",
    "    robots = []\n",
    "    for line in input:\n",
    "        (x, y), (vx, vy) = map(lambda x: map(int, x), [cs.split(',') for cs in line[2:].split(' v=')])\n",
    "        x, y = simulate_bot(x, y, vx, vy, 100, width, height)\n",
    "        # print(x,y)\n",
    "        robots.append((x,y))\n",
    "\n",
    "    quarter = [0,0,0,0] \n",
    "    #0 1 so left right * 1\n",
    "    #2 3    north south * 2\n",
    "    w_center = width // 2 \n",
    "    h_center = height // 2 \n",
    "    print('c', w_center, h_center)\n",
    "    for x,y in robots:\n",
    "        if x == w_center or y == h_center: \n",
    "            continue\n",
    "        ew = x > w_center\n",
    "        ns = y > h_center\n",
    "        quarter[ew+ns*2] += 1\n",
    "    \n",
    "    print(quarter)\n",
    "    return quarter[0] * quarter[1] * quarter[2] * quarter[3]\n",
    "\n",
    "\n",
    "\n",
    "\n",
    "# task1(example, 11, 7)\n",
    "# simulate_bot(2, 4, 2, -3, 5, 11, 7)\n",
    "task1(input, 101, 103)"
   ]
  },
  {
   "cell_type": "code",
   "execution_count": 4,
   "metadata": {},
   "outputs": [],
   "source": [
    "import cv2\n",
    "import os"
   ]
  },
  {
   "cell_type": "code",
   "execution_count": 10,
   "metadata": {},
   "outputs": [
    {
     "name": "stdout",
     "output_type": "stream",
     "text": [
      "1000\n",
      "2000\n",
      "3000\n",
      "4000\n",
      "5000\n",
      "6000\n",
      "7000\n",
      "8000\n",
      "9000\n",
      "10000\n"
     ]
    }
   ],
   "source": [
    "from PIL import Image\n",
    "import numpy as np\n",
    "import cv2\n",
    "import os\n",
    "def simulate_bot(x, y, vx, vy, seconds, width, height):\n",
    "    if seconds == 0: return x, y\n",
    "\n",
    "    x = x+vx\n",
    "    if x < 0: x = width+x\n",
    "    if x >= width: x = x-width\n",
    "    y = y+vy\n",
    "    if y < 0: y = height+y\n",
    "    if y >= height: y = y-height\n",
    "    return simulate_bot(x, y, vx, vy, seconds-1, width, height)\n",
    "\n",
    "class Robot():\n",
    "    def __init__(self, x, y, vx, vy):\n",
    "        self.x = x\n",
    "        self.y = y\n",
    "        self.vx = vx\n",
    "        self.vy = vy\n",
    "\n",
    "    def move(self, width, height):\n",
    "        self.x = self.x+self.vx\n",
    "        if self.x < 0: self.x = width+self.x\n",
    "        if self.x >= width: self.x = self.x-width\n",
    "        self.y = self.y+self.vy\n",
    "        if self.y < 0: self.y = height+self.y\n",
    "        if self.y >= height: self.y = self.y-height\n",
    "\n",
    "def task2(input, width, height):\n",
    "    # generate a list of robots\n",
    "    robots = []\n",
    "    for line in input:\n",
    "        (x, y), (vx, vy) = map(lambda x: map(int, x), [cs.split(',') for cs in line[2:].split(' v=')])\n",
    "        robots.append(Robot(x, y, vx, vy))\n",
    "    # generate a christmas tree image\n",
    "    tree_pattern = set()\n",
    "    x_left, x_right, y = width//2, width//2, 0\n",
    "    while y < height-1:\n",
    "        tree_pattern.add((x,y))\n",
    "        x_left -= 1; x_right += 1\n",
    "        y += 1\n",
    "    tree_pattern.add((width//2,y))\n",
    "    # go infinite I guess?\n",
    "    seconds = 0\n",
    "    while seconds < 101*103:     \n",
    "        seconds += 1\n",
    "        for robot in robots:\n",
    "            robot.move(width, height)\n",
    "        \n",
    "        # print('-'*10)\n",
    "        # print(seconds)\n",
    "        im = print_pattern(robots, height, width)\n",
    "        with open('out.txt', 'a') as f:\n",
    "            f.write('\\n')\n",
    "            f.write(f'{seconds}\\n')\n",
    "            f.writelines([''.join(line)+'\\n' for line in im])\n",
    "            f.write('\\n')\n",
    "        # cv2.imwrite(f'rendres/grid_{seconds}.png', im)\n",
    "        # im.save(f'renders/pattern_{seconds}.png')\n",
    "        # print('\\n\\n\\n\\n\\n\\n')\n",
    "        # check for tree pattern\n",
    "        # if tree_pattern.issubset(unique_positions): return seconds, robots\n",
    "        if seconds % 1000 == 0: print(seconds)\n",
    "\n",
    "\n",
    "\n",
    "def print_pattern(robots, height, width):\n",
    "    pattern = [['.' for _ in range(width)] for _ in range(height)]\n",
    "    uniques = set()\n",
    "    for robot in robots:\n",
    "        uniques.add((robot.y, robot.x))\n",
    "        pattern[robot.y][robot.x] = '#'\n",
    "    return pattern\n",
    "    # print(len(uniques))\n",
    "    # print(pattern)\n",
    "    return Image.fromarray(pattern)\n",
    "\n",
    "\n",
    "\n",
    "# task2(example, 11, 7)\n",
    "# simulate_bot(2, 4, 2, -3, 5, 11, 7)\n",
    "task2(input, 101, 103)\n"
   ]
  }
 ],
 "metadata": {
  "kernelspec": {
   "display_name": ".venv",
   "language": "python",
   "name": "python3"
  },
  "language_info": {
   "codemirror_mode": {
    "name": "ipython",
    "version": 3
   },
   "file_extension": ".py",
   "mimetype": "text/x-python",
   "name": "python",
   "nbconvert_exporter": "python",
   "pygments_lexer": "ipython3",
   "version": "3.12.7"
  }
 },
 "nbformat": 4,
 "nbformat_minor": 2
}
