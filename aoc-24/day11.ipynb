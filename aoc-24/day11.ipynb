{
 "cells": [
  {
   "cell_type": "code",
   "execution_count": 1,
   "metadata": {},
   "outputs": [
    {
     "name": "stdout",
     "output_type": "stream",
     "text": [
      "['2 54 992917 5270417 2514 28561 0 990']\n",
      "['1 2024 1 0 9 9 2021976']\n"
     ]
    }
   ],
   "source": [
    "#Day 1 AOC 23\n",
    "with open(\"../inputs/1124.txt\", \"r\") as file:\n",
    "    input = file.read().splitlines()\n",
    "print(input[:10])\n",
    "\n",
    "with open(\"example.txt\", \"r\") as file:\n",
    "    example = file.read().splitlines()\n",
    "print(example[:10])"
   ]
  },
  {
   "cell_type": "code",
   "execution_count": null,
   "metadata": {},
   "outputs": [
    {
     "data": {
      "text/plain": [
       "264350935776416"
      ]
     },
     "execution_count": 13,
     "metadata": {},
     "output_type": "execute_result"
    }
   ],
   "source": [
    "from functools import cache\n",
    "\n",
    "@cache\n",
    "def calc_length(num, blinks):\n",
    "    # print(num)\n",
    "    if blinks == 0: return 1\n",
    "\n",
    "    if num == 0: return calc_length(1, blinks-1)\n",
    "    numstr = str(num)\n",
    "    if len(numstr) % 2 == 0: \n",
    "        return calc_length(int(numstr[:len(numstr)//2]), blinks-1) + \\\n",
    "                calc_length(int(numstr[len(numstr)//2:]), blinks-1)\n",
    "    return calc_length(num*2024, blinks-1)\n",
    "\n",
    "def task1(input, blinks=25):\n",
    "    input = list(map(int, input[0].split(' ')))\n",
    "    total_length = sum([calc_length(x, blinks) for x in input])\n",
    "    return total_length\n",
    "\n",
    "task1(input, blinks=75)\n",
    "\n",
    "#264350935776416\n",
    "#491690686553850"
   ]
  },
  {
   "cell_type": "code",
   "execution_count": 15,
   "metadata": {},
   "outputs": [
    {
     "data": {
      "text/plain": [
       "264350935776416"
      ]
     },
     "execution_count": 15,
     "metadata": {},
     "output_type": "execute_result"
    }
   ],
   "source": [
    "# from functools import cache\n",
    "\n",
    "# @cache\n",
    "def calc_length(num, blinks, cache):\n",
    "    # check cache\n",
    "    cached_val = cache.get((num,blinks), None)\n",
    "    if cached_val: return cached_val\n",
    "    # end loop if out of blinks\n",
    "    if blinks == 0: return 1\n",
    "    \n",
    "    #rule 1: if num is 0 make it one\n",
    "    if num == 0: \n",
    "        new_num = 1\n",
    "        res = calc_length(1, blinks-1, cache)\n",
    "        cache[(1, blinks-1)] = res\n",
    "        return res\n",
    "    #rule 2: if num has even amount of characters, split\n",
    "    numstr = str(num)\n",
    "    if len(numstr) % 2 == 0: \n",
    "        numA = int(numstr[len(numstr)//2:])\n",
    "        numB = int(numstr[:len(numstr)//2])\n",
    "        resA = calc_length(numA, blinks-1, cache)\n",
    "        resB = calc_length(numB, blinks-1, cache)\n",
    "        cache[(numA, blinks-1)] = resA\n",
    "        cache[(numB, blinks-1)] = resB\n",
    "        return resA+resB   \n",
    "    #rule 3: if neither 1 nor 2, multiply num by 2024.\n",
    "    res = calc_length(num*2024, blinks-1, cache)\n",
    "    cache[(num*2024, blinks-1)] = res\n",
    "    return res\n",
    "\n",
    "def task1(input, blinks=25):\n",
    "    input = list(map(int, input[0].split(' ')))\n",
    "    cache = {}\n",
    "    # calc_length(75, blinks, cache)\n",
    "    total_length = sum([calc_length(x, blinks, cache) for x in input])\n",
    "    return total_length\n",
    "\n",
    "task1(input, blinks=75)"
   ]
  },
  {
   "cell_type": "code",
   "execution_count": 7,
   "metadata": {},
   "outputs": [
    {
     "name": "stdout",
     "output_type": "stream",
     "text": [
      "{1: 2, 2: 3, 3: 4, 4: 5, 5: 6}\n",
      "{1: 2, 2: 3, 3: 4, 4: 5, 5: 6}\n",
      "{2: 3, 3: 4, 4: 5, 5: 6}\n"
     ]
    }
   ],
   "source": [
    "def fee(i, cache):\n",
    "    cache[i] = i+1\n",
    "    if i < 5: fee(i+1, cache)\n",
    "\n",
    "cache = {}\n",
    "fee(1, cache)\n",
    "print(cache)\n",
    "cacheB = {}\n",
    "fee(2, cacheB)\n",
    "print(cache)\n",
    "print(cacheB)"
   ]
  }
 ],
 "metadata": {
  "kernelspec": {
   "display_name": "Python 3",
   "language": "python",
   "name": "python3"
  },
  "language_info": {
   "codemirror_mode": {
    "name": "ipython",
    "version": 3
   },
   "file_extension": ".py",
   "mimetype": "text/x-python",
   "name": "python",
   "nbconvert_exporter": "python",
   "pygments_lexer": "ipython3",
   "version": "3.12.7"
  }
 },
 "nbformat": 4,
 "nbformat_minor": 2
}
