{
 "cells": [
  {
   "cell_type": "code",
   "execution_count": 3,
   "metadata": {},
   "outputs": [
    {
     "name": "stdout",
     "output_type": "stream",
     "text": [
      "['XMXXMSSSMSXSXMMXSAMMXXSXMASMSSXXMAMXAMXSXMXSMAMMASXXASMMXMASXMSSXMMMXMXSXXSXMXXSAMXSXSXSAMXMSAMXMAXXXMXMAMSASXMSSXMSXSXXMAXXSSSMXMXMXMMAASXM', 'MSSMMAAXAMMSAAAXXAMSXMAMXMSMAMMXSAXMXMASAMASMAMMASXMAMAXXXMASAAAXMSMSMAMAMMAMAMMMMXMASMMXMXAMASXMAMMMMASMMSMMMMASAAXAAMMMMSMXAAMSAMSASMMMMAX', 'AAAXMMXMSMASXMMSMXMMASMAAMXMASAMMAXSAMASAMASXXSMASASMSMMMMASMMMMMMAAXMXSAMSAMASMASAMAMASMMMMSAMXMAXAASASAAXAAXMASMMMSMXAAXAAMSMMMAXMAXMAASMM', 'SSMMXSAAXMMSAXMAXAAXAMXXMSSSMSMAMAMXAMXXXMXSXMMMMSAMXAXXAMXAXXMAXMASMXASAXXMSAXXASAMAXAMXXAXMXXMSASXMMASMMSSMSMMSASAMXSSSSMSAAAXMMMMXMMSXSXA', 'XAAAAMMSMSXXMXAASXSMSMSMXXMAMXMASXSSMMXMAMAMMMAAMMAMMMXSSMSAMXSMSASMXXMSXMAAMAMMMSXMAMMSXSASASAMXASXAMAXMAAAAXXMSXMXMXMXMAXAMXSAXAAXAXAXAMXS', 'SXMMSXAXASXAMMMMSXMXMASXMMXMMSMAXXMAMAMXAMASASMSMXAMXMMAMASAMXSXMMXAXSXSAMXMMAMAAMXMASMAXAAMAMSMMXMMMMMSMMMSAMXAXMMMSXSASMMMSMMMSSSMMMMMAMSM', 'AAXAXMSMAMSMMAAMSMSAMMMAMAASASMASMSAMAMMASASASXMASMSMSAAMAMAMAMASXMMMAASXMAXSASMMXAXAMMMMMSMXMAXSASASAMXXSMMMSMMMAXAAASAXSAXXAAAMAMXSASMXMAS', 'SSMMSMAMSMSXMSMMSASXSXSAMSMMASASMMSASASMXMMXMMXMASAAAXAMMXSAMASMMMAXXMMMXSAMXXSAMSMMSSXXAAAMMSSMSASXMASMXMASAXAMSSMMMMMMMMXSSSMXSAMXSASXMSMS', 'XMAMAXMXXAMAMAMAMXMXXASAXAXMXMXASASAMASMSAMXXSSMMMMMMMAMXMSASXMMASMMSSMMMSMMMMMMMASMXAMSMSMSAMXAMAMAXAMMMMAMMMSAAXSASASASXMAMAAXMASXMMMMXSXS', 'SMASXSXASASAMAMXSSSSMASXMASMSMSAMXMAMXMASAMSXMAASAMSXXMMXASAMXMSAMAAXXAAAMAMMAAMXAXXMAXMAAXMAXMXMSMSMMMMAXMMSAAMXSMXSASAAMAMSXMMSXXAXAAXMSAS']\n",
      "['MMMSXXMASM', 'MSAMXMSMSA', 'AMXSXMAAMM', 'MSAMASMSMX', 'XMASAMXAMM', 'XXAMMXXAMA', 'SMSMSASXSS', 'SAXAMASAAA', 'MAMMMXMMMM', 'MXMXAXMASX']\n"
     ]
    }
   ],
   "source": [
    "#Day 1 AOC 23\n",
    "with open(\"../inputs/0424.txt\", \"r\") as file:\n",
    "    input = file.read().splitlines()\n",
    "print(input[:10])\n",
    "\n",
    "with open(\"example.txt\", \"r\") as file:\n",
    "    example = file.read().splitlines()\n",
    "print(example[:10])"
   ]
  },
  {
   "cell_type": "code",
   "execution_count": null,
   "metadata": {},
   "outputs": [],
   "source": []
  },
  {
   "cell_type": "code",
   "execution_count": 16,
   "metadata": {},
   "outputs": [
    {
     "data": {
      "text/plain": [
       "2536"
      ]
     },
     "execution_count": 16,
     "metadata": {},
     "output_type": "execute_result"
    }
   ],
   "source": [
    "def get_point(input, y, x):\n",
    "    if x < 0 or x >= len(input[0]): return None\n",
    "    if y < 0 or y >= len(input): return None\n",
    "    return input[y][x]\n",
    "\n",
    "def checkXMAS(input, y, dy, x, dx):\n",
    "    # print((y+(2*dy), x+(2*dx)), get_point(input, y+(2*dy), x+(2*dx)))\n",
    "    # print((y+(3*dy), x+(3*dx)), get_point(input, y+(3*dy), x+(3*dx)))\n",
    "    return (get_point(input, y+(2*dy), x+(2*dx)) == 'A') and (get_point(input, y+(3*dy), x+(3*dx)) == 'S')\n",
    "\n",
    "def findXMAScount(input, y, x):\n",
    "    XMAScount = 0\n",
    "    for dy in [-1,1,0]:\n",
    "        for dx in [-1,1,0]:\n",
    "            if get_point(input, y+dy, x+dx) == 'M':\n",
    "                # print(y,x)\n",
    "                # print((y+dy, x+dx), get_point(input, y+dy, x+dx))\n",
    "                r = checkXMAS(input, y, dy, x, dx)\n",
    "                # if r: print('xmas')\n",
    "                XMAScount += r\n",
    "                \n",
    "    return XMAScount\n",
    "\n",
    "\n",
    "def task1(input):\n",
    "    result = 0\n",
    "    for y in range(len(input)):\n",
    "        for x in range(len(input)):\n",
    "            if input[y][x] == 'X': \n",
    "                result += findXMAScount(input, y, x)\n",
    "    return result\n",
    "\n",
    "task1(input)\n",
    "# first v in 9"
   ]
  },
  {
   "cell_type": "code",
   "execution_count": null,
   "metadata": {},
   "outputs": [
    {
     "data": {
      "text/plain": [
       "1875"
      ]
     },
     "execution_count": 19,
     "metadata": {},
     "output_type": "execute_result"
    }
   ],
   "source": [
    "def findMASXcount(input, y, x):\n",
    "    XMAScount = 0\n",
    "    for dy in [-1,1]:\n",
    "        for dx in [-1,1]:\n",
    "            if get_point(input, y+dy, x+dx) == 'M' and get_point(input, y-dy, x-dx) == 'S':\n",
    "                XMAScount += 1\n",
    "                \n",
    "    return XMAScount >= 2\n",
    "\n",
    "    \n",
    "\n",
    "def task2(input):\n",
    "    result = 0\n",
    "    for y in range(len(input)):\n",
    "        for x in range(len(input)):\n",
    "            if input[y][x] == 'A': \n",
    "                result += findMASXcount(input, y, x)\n",
    "    return result\n",
    "\n",
    "task2(input)"
   ]
  },
  {
   "cell_type": "code",
   "execution_count": null,
   "metadata": {},
   "outputs": [
    {
     "data": {
      "text/plain": [
       "1875"
      ]
     },
     "execution_count": 21,
     "metadata": {},
     "output_type": "execute_result"
    }
   ],
   "source": [
    "def findMASXcountBetter(input, y, x):\n",
    "    XMAScount = 0\n",
    "    for dy in [-1,1]:\n",
    "        for dx in [-1,1]:\n",
    "            if input[y+dy][x+dx] == 'M' and input[y-dy][x-dx] == 'S':\n",
    "                XMAScount += 1\n",
    "    return XMAScount >= 2\n",
    "\n",
    "    \n",
    "def task2Better(input):\n",
    "    result = 0\n",
    "    for y in range(1, len(input)-1):\n",
    "        for x in range(1, len(input)-1):\n",
    "            if input[y][x] == 'A': \n",
    "                result += findMASXcountBetter(input, y, x)\n",
    "    return result\n",
    "\n",
    "task2Better(input)"
   ]
  }
 ],
 "metadata": {
  "kernelspec": {
   "display_name": "Python 3",
   "language": "python",
   "name": "python3"
  },
  "language_info": {
   "codemirror_mode": {
    "name": "ipython",
    "version": 3
   },
   "file_extension": ".py",
   "mimetype": "text/x-python",
   "name": "python",
   "nbconvert_exporter": "python",
   "pygments_lexer": "ipython3",
   "version": "3.12.7"
  }
 },
 "nbformat": 4,
 "nbformat_minor": 2
}
