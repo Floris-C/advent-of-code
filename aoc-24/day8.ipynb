{
 "cells": [
  {
   "cell_type": "code",
   "execution_count": 8,
   "metadata": {},
   "outputs": [
    {
     "name": "stdout",
     "output_type": "stream",
     "text": [
      "['.....................5...............P............', '.............w.....T.........Xh.....5............u', '...................kX.......T.......H.P...........', '......u.....k...E..............................P..', '.....................F.........................o..', '...............k........F...................o.....', '...............E........x...k..w......S..........a', '...................E.......9..x.....P.............', '...............................X..................', '..............................................X.a.']\n",
      "['............', '........0...', '.....0......', '.......0....', '....0.......', '......A.....', '............', '............', '........A...', '.........A..']\n"
     ]
    }
   ],
   "source": [
    "#Day 1 AOC 23\n",
    "with open(\"../inputs/0824.txt\", \"r\") as file:\n",
    "    input = file.read().splitlines()\n",
    "print(input[:10])\n",
    "\n",
    "with open(\"example7.txt\", \"r\") as file:\n",
    "    example = file.read().splitlines()\n",
    "print(example[:10])"
   ]
  },
  {
   "cell_type": "code",
   "execution_count": 9,
   "metadata": {},
   "outputs": [
    {
     "data": {
      "text/plain": [
       "400"
      ]
     },
     "execution_count": 9,
     "metadata": {},
     "output_type": "execute_result"
    }
   ],
   "source": [
    "def get_vector(p1, p2):\n",
    "    y1, x1 = p1\n",
    "    y2, x2 = p2\n",
    "    return y2-y1, x2-x1\n",
    "\n",
    "\n",
    "def task1(input):\n",
    "    antennas = {}\n",
    "    for y, line in enumerate(input):\n",
    "        for x, c in enumerate(line):\n",
    "            if c == '.': continue\n",
    "            antennas[c] = antennas.get(c, []) + [(y,x)]\n",
    "\n",
    "    anti_nodes = []\n",
    "    for antenna, nodes in antennas.items():\n",
    "        for i, n1 in enumerate(nodes):\n",
    "            for n2 in nodes:\n",
    "                if n1 == n2: continue\n",
    "                vector =  get_vector(n1, n2)\n",
    "                new_loc = n1[0]-vector[0], n1[1]-vector[1]\n",
    "                # print(n1, n2, vector, new_loc)\n",
    "                anti_nodes.append(new_loc)\n",
    "\n",
    "    anti_nodes = [(y,x) for (y,x) in anti_nodes if \\\n",
    "                  y >= 0 and y < len(input) and \\\n",
    "                  x >= 0 and x < len(input[0])]\n",
    "\n",
    "\n",
    "    # print(antennas)\n",
    "    \n",
    "\n",
    "    return len(set(anti_nodes))\n",
    "\n",
    "task1(input)\n",
    "# 16898 was too high"
   ]
  },
  {
   "cell_type": "code",
   "execution_count": 13,
   "metadata": {},
   "outputs": [
    {
     "data": {
      "text/plain": [
       "1280"
      ]
     },
     "execution_count": 13,
     "metadata": {},
     "output_type": "execute_result"
    }
   ],
   "source": [
    "def get_vector(p1, p2):\n",
    "    y1, x1 = p1\n",
    "    y2, x2 = p2\n",
    "    return y2-y1, x2-x1\n",
    "\n",
    "def is_in_bounds(y,x, input):\n",
    "    return y >= 0 and y < len(input) and \\\n",
    "                  x >= 0 and x < len(input[0])\n",
    "\n",
    "\n",
    "def task2(input):\n",
    "    antennas = {}\n",
    "    for y, line in enumerate(input):\n",
    "        for x, c in enumerate(line):\n",
    "            if c == '.': continue\n",
    "            antennas[c] = antennas.get(c, []) + [(y,x)]\n",
    "\n",
    "    anti_nodes = []\n",
    "    for antenna, nodes in antennas.items():\n",
    "        for i, n1 in enumerate(nodes):\n",
    "            for n2 in nodes:\n",
    "                if n1 == n2: continue\n",
    "                y, x = n1\n",
    "                vy, vx =  get_vector(n1, n2)\n",
    "                while is_in_bounds(y,x,input):\n",
    "                    anti_nodes.append((y,x))\n",
    "                    y,x = y-vy, x-vx\n",
    "                \n",
    "\n",
    "    # print(antennas)\n",
    "    \n",
    "\n",
    "    return len(set(anti_nodes))\n",
    "\n",
    "task2(input)\n",
    "# 16898 was too high"
   ]
  }
 ],
 "metadata": {
  "kernelspec": {
   "display_name": "Python 3",
   "language": "python",
   "name": "python3"
  },
  "language_info": {
   "codemirror_mode": {
    "name": "ipython",
    "version": 3
   },
   "file_extension": ".py",
   "mimetype": "text/x-python",
   "name": "python",
   "nbconvert_exporter": "python",
   "pygments_lexer": "ipython3",
   "version": "3.12.7"
  }
 },
 "nbformat": 4,
 "nbformat_minor": 2
}
