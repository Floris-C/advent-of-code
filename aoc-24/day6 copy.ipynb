{
 "cells": [
  {
   "cell_type": "code",
   "execution_count": 5,
   "metadata": {},
   "outputs": [
    {
     "name": "stdout",
     "output_type": "stream",
     "text": [
      "['.........................................#.....#..##.....................#...........................#.....................#....#.', '..................#................................#..#.................................#................#........................', '.....##.........#..#........#......#............#.....#..................#............................#...#...#..#...#............', '#..#...#....#...#.................................#.........................................#...............................#.....', '.................##...................................................#.........................#....................#............', '.............#.............#...................#...................#..................................#....#..#........#....#.....', '..#.........................................................................................##....#.................#.............', '...........#.........#.....#..#.................#...........##..........#....#....................................#........#.#....', '#...#.........................................#..........................................................#........................', '.............................................#................................#...............................##..........#.......']\n",
      "['....#.....', '.........#', '..........', '..#.......', '.......#..', '..........', '.#..^.....', '........#.', '#.........', '......#...']\n"
     ]
    }
   ],
   "source": [
    "#Day 1 AOC 23\n",
    "with open(\"../inputs/0624.txt\", \"r\") as file:\n",
    "    input = file.read().splitlines()\n",
    "print(input[:10])\n",
    "\n",
    "with open(\"example.txt\", \"r\") as file:\n",
    "    example = file.read().splitlines()\n",
    "print(example[:10])"
   ]
  },
  {
   "cell_type": "code",
   "execution_count": 8,
   "metadata": {},
   "outputs": [
    {
     "data": {
      "text/plain": [
       "1655"
      ]
     },
     "execution_count": 8,
     "metadata": {},
     "output_type": "execute_result"
    }
   ],
   "source": [
    "def next_heading(h):\n",
    "    match h:\n",
    "        case 'n': return 'e'\n",
    "        case 'e': return 's'\n",
    "        case 's': return 'w'\n",
    "        case 'w': return 'n'\n",
    "\n",
    "def is_in_bounds(input, y, x):\n",
    "    return y >= 0 and y < len(input) and \\\n",
    "            x >= 0 and x < len(input[0])\n",
    "\n",
    "def gen_tile(c):\n",
    "    match c:\n",
    "        case '#': return '#'\n",
    "        case  _ : return []\n",
    "\n",
    "def get_new_pos(y, x, h):\n",
    "    match h:\n",
    "        case 'n': return y-1, x\n",
    "        case 'e': return y, x+1\n",
    "        case 's': return y+1, x\n",
    "        case 'w': return y, x-1\n",
    "\n",
    "def gen_map(input):\n",
    "    return [[gen_tile(c) for c in line] for line in input]\n",
    "\n",
    "\n",
    "def path_is_infinite(input, obstacle_location):\n",
    "    input_map = gen_map(input)\n",
    "    obstacle_y, obstacle_x = obstacle_location\n",
    "    input_map[obstacle_y][obstacle_x] = '#'\n",
    "\n",
    "    y, x, h = find_guard(input)\n",
    "    ny, nx = get_new_pos(y, x, h)\n",
    "    # assert no obstacle on guard starting location\n",
    "    if obstacle_location == (y,x): return False\n",
    "\n",
    "    while is_in_bounds(input_map, ny, nx):\n",
    "        #conditional check\n",
    "        if h in input_map[y][x]: \n",
    "            return True\n",
    "    \t#movement\n",
    "        if input_map[ny][nx] == '#':\n",
    "            h = next_heading(h)\n",
    "        else:\n",
    "            input_map[y][x].append(h)\n",
    "            y, x = ny, nx\n",
    "        ny, nx = get_new_pos(y, x, h)\n",
    "    # if we went out of bounds, its not infinite\n",
    "    return False\n",
    "\n",
    "def show_map(input):\n",
    "    for l in input:\n",
    "        print(l)\n",
    "\n",
    "def find_guard(input):\n",
    "    for y, line in enumerate(input):\n",
    "        for x, c in enumerate(line):\n",
    "            if c != '^': continue\n",
    "            return y, x, 'n'\n",
    "\n",
    "\n",
    "def task2(input):\n",
    "    obstacle_no = 0\n",
    "    for oy, line in enumerate(input):\n",
    "        for ox, c in enumerate(line):\n",
    "            if c == '#': continue\n",
    "            obstacle_no += path_is_infinite(input, (oy, ox))\n",
    "    return obstacle_no\n",
    "\n",
    "task2(input)\n",
    "\n",
    "        \n",
    "\n"
   ]
  },
  {
   "cell_type": "code",
   "execution_count": 10,
   "metadata": {},
   "outputs": [
    {
     "data": {
      "text/plain": [
       "1655"
      ]
     },
     "execution_count": 10,
     "metadata": {},
     "output_type": "execute_result"
    }
   ],
   "source": [
    "def path_all_locations(input):\n",
    "    input_map = gen_map(input)\n",
    "    y, x, h = find_guard(input)\n",
    "    ny, nx = get_new_pos(y, x, h)\n",
    "    \n",
    "    visits = []\n",
    "\n",
    "    while is_in_bounds(input_map, ny, nx):\n",
    "        #update visits\n",
    "        visits.append((y,x))\n",
    "    \t#movement\n",
    "        if input_map[ny][nx] == '#':\n",
    "            h = next_heading(h)\n",
    "        else:\n",
    "            input_map[y][x].append(h)\n",
    "            y, x = ny, nx\n",
    "        ny, nx = get_new_pos(y, x, h)\n",
    "    # if next step oob, append cur pos and return\n",
    "    return visits + [(y,x)]\n",
    "\n",
    "def task2_lim(input):\n",
    "    visited_locations = set(path_all_locations(input))\n",
    "\n",
    "    obstacle_no = 0\n",
    "    for obstacle_location in visited_locations:\n",
    "        obstacle_no += path_is_infinite(input, obstacle_location)\n",
    "    return obstacle_no\n",
    "\n",
    "\n",
    "task2_lim(input)\n",
    "    \n"
   ]
  }
 ],
 "metadata": {
  "kernelspec": {
   "display_name": "Python 3",
   "language": "python",
   "name": "python3"
  },
  "language_info": {
   "codemirror_mode": {
    "name": "ipython",
    "version": 3
   },
   "file_extension": ".py",
   "mimetype": "text/x-python",
   "name": "python",
   "nbconvert_exporter": "python",
   "pygments_lexer": "ipython3",
   "version": "3.12.7"
  }
 },
 "nbformat": 4,
 "nbformat_minor": 2
}
