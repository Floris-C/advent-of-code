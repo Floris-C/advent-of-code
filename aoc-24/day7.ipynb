{
 "cells": [
  {
   "cell_type": "code",
   "execution_count": null,
   "metadata": {},
   "outputs": [
    {
     "name": "stdout",
     "output_type": "stream",
     "text": [
      "['28690: 43 665 1 88 9', '292283: 36 5 3 9 8 8 4 4 184 770', '115932854: 67 2 8 7 3 6 49 1 631 4 2', '159: 8 8 3 96 15', '642859823521: 7 9 3 6 5 4 1 27 84 10 3', '140244: 7 7 30 3 3 13 640 156', '1810564: 656 23 6 20 4', '86166816424080: 83 39 80 5 6 8 4 80 861', '20133655: 872 569 576 4 998', '7795767: 41 63 789 1 95 6 441']\n",
      "['190: 10 19', '3267: 81 40 27', '83: 17 5', '156: 15 6', '7290: 6 8 6 15', '161011: 16 10 13', '192: 17 8 14', '21037: 9 7 18 13', '292: 11 6 16 20']\n"
     ]
    }
   ],
   "source": [
    "#Day 1 AOC 23\n",
    "with open(\"../inputs/0724.txt\", \"r\") as file:\n",
    "    input = file.read().splitlines()\n",
    "print(input[:10])\n",
    "\n",
    "with open(\"example7.txt\", \"r\") as file:\n",
    "    example = file.read().splitlines()\n",
    "print(example[:10])"
   ]
  },
  {
   "cell_type": "code",
   "execution_count": 7,
   "metadata": {},
   "outputs": [
    {
     "name": "stdout",
     "output_type": "stream",
     "text": [
      "2299996598890\n"
     ]
    }
   ],
   "source": [
    "def eval_rec_plus(held_total, cur_numb, remainging_numbs, test_val):\n",
    "    held_total += cur_numb\n",
    "    if len(remainging_numbs) == 0: return held_total == test_val\n",
    "    return eval_rec_plus(held_total, remainging_numbs[0], remainging_numbs[1:], test_val) or \\\n",
    "            eval_rec_mult(held_total, remainging_numbs[0], remainging_numbs[1:], test_val)\n",
    "\n",
    "\n",
    "def eval_rec_mult(held_total, cur_numb, remainging_numbs, test_val):\n",
    "    # print('mult', (held_total, cur_numb, remainging_numbs, test_val))\n",
    "    held_total *= cur_numb\n",
    "    if len(remainging_numbs) == 0: return held_total == test_val\n",
    "    return eval_rec_plus(held_total, remainging_numbs[0], remainging_numbs[1:], test_val) or \\\n",
    "            eval_rec_mult(held_total, remainging_numbs[0], remainging_numbs[1:], test_val)\n",
    "\n",
    "def eval_line(line):\n",
    "    test_val, numbs = line.split(': ')\n",
    "    numbs = [int(x) for x in numbs.split(' ')]\n",
    "    if eval_rec_plus(numbs[0], numbs[1], numbs[2:], int(test_val)): return int(test_val)\n",
    "    if eval_rec_mult(numbs[0], numbs[1], numbs[2:], int(test_val)): return int(test_val)\n",
    "    return 0\n",
    "\n",
    "def task1(input):\n",
    "    return sum([eval_line(line) for line in input])\n",
    "\n",
    "print(task1(input))"
   ]
  },
  {
   "cell_type": "code",
   "execution_count": 9,
   "metadata": {},
   "outputs": [
    {
     "name": "stdout",
     "output_type": "stream",
     "text": [
      "362646859298554\n"
     ]
    }
   ],
   "source": [
    "def eval_rec_plus(held_total, cur_numb, remainging_numbs, test_val):\n",
    "    held_total += cur_numb\n",
    "    if len(remainging_numbs) == 0: return held_total == test_val\n",
    "    return eval_rec_plus(held_total, remainging_numbs[0], remainging_numbs[1:], test_val) or \\\n",
    "            eval_rec_mult(held_total, remainging_numbs[0], remainging_numbs[1:], test_val) or \\\n",
    "            eval_rec_concat(held_total, remainging_numbs[0], remainging_numbs[1:], test_val)\n",
    "\n",
    "\n",
    "def eval_rec_mult(held_total, cur_numb, remainging_numbs, test_val):\n",
    "    # print('mult', (held_total, cur_numb, remainging_numbs, test_val))\n",
    "    held_total *= cur_numb\n",
    "    if len(remainging_numbs) == 0: return held_total == test_val\n",
    "    return eval_rec_plus(held_total, remainging_numbs[0], remainging_numbs[1:], test_val) or \\\n",
    "            eval_rec_mult(held_total, remainging_numbs[0], remainging_numbs[1:], test_val) or \\\n",
    "            eval_rec_concat(held_total, remainging_numbs[0], remainging_numbs[1:], test_val)\n",
    "\n",
    "def eval_rec_concat(held_total, cur_numb, remainging_numbs, test_val):\n",
    "    # print('mult', (held_total, cur_numb, remainging_numbs, test_val))\n",
    "    held_total = int(str(held_total) + str(cur_numb))\n",
    "    if len(remainging_numbs) == 0: return held_total == test_val\n",
    "    return eval_rec_plus(held_total, remainging_numbs[0], remainging_numbs[1:], test_val) or \\\n",
    "            eval_rec_mult(held_total, remainging_numbs[0], remainging_numbs[1:], test_val) or \\\n",
    "            eval_rec_concat(held_total, remainging_numbs[0], remainging_numbs[1:], test_val)\n",
    "\n",
    "\n",
    "def eval_line(line):\n",
    "    test_val, numbs = line.split(': ')\n",
    "    numbs = [int(x) for x in numbs.split(' ')]\n",
    "    if eval_rec_plus(numbs[0], numbs[1], numbs[2:], int(test_val)): return int(test_val)\n",
    "    if eval_rec_mult(numbs[0], numbs[1], numbs[2:], int(test_val)): return int(test_val)\n",
    "    if eval_rec_concat(numbs[0], numbs[1], numbs[2:], int(test_val)): return int(test_val)\n",
    "    return 0\n",
    "\n",
    "def task1(input):\n",
    "    return sum([eval_line(line) for line in input])\n",
    "\n",
    "print(task1(input))"
   ]
  }
 ],
 "metadata": {
  "kernelspec": {
   "display_name": "Python 3",
   "language": "python",
   "name": "python3"
  },
  "language_info": {
   "codemirror_mode": {
    "name": "ipython",
    "version": 3
   },
   "file_extension": ".py",
   "mimetype": "text/x-python",
   "name": "python",
   "nbconvert_exporter": "python",
   "pygments_lexer": "ipython3",
   "version": "3.12.7"
  }
 },
 "nbformat": 4,
 "nbformat_minor": 2
}
