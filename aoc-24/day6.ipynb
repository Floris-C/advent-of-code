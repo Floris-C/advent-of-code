{
 "cells": [
  {
   "cell_type": "code",
   "execution_count": 55,
   "metadata": {},
   "outputs": [
    {
     "name": "stdout",
     "output_type": "stream",
     "text": [
      "['.........................................#.....#..##.....................#...........................#.....................#....#.', '..................#................................#..#.................................#................#........................', '.....##.........#..#........#......#............#.....#..................#............................#...#...#..#...#............', '#..#...#....#...#.................................#.........................................#...............................#.....', '.................##...................................................#.........................#....................#............', '.............#.............#...................#...................#..................................#....#..#........#....#.....', '..#.........................................................................................##....#.................#.............', '...........#.........#.....#..#.................#...........##..........#....#....................................#........#.#....', '#...#.........................................#..........................................................#........................', '.............................................#................................#...............................##..........#.......']\n",
      "['....#.....', '.........#', '..........', '..#.......', '.......#..', '..........', '.#..^.....', '........#.', '#.........', '......#...']\n"
     ]
    }
   ],
   "source": [
    "#Day 1 AOC 23\n",
    "with open(\"../inputs/0624.txt\", \"r\") as file:\n",
    "    input = file.read().splitlines()\n",
    "print(input[:10])\n",
    "\n",
    "with open(\"example.txt\", \"r\") as file:\n",
    "    example = file.read().splitlines()\n",
    "print(example[:10])"
   ]
  },
  {
   "cell_type": "code",
   "execution_count": 56,
   "metadata": {},
   "outputs": [
    {
     "data": {
      "text/plain": [
       "4884"
      ]
     },
     "execution_count": 56,
     "metadata": {},
     "output_type": "execute_result"
    }
   ],
   "source": [
    "def find_guard(input):\n",
    "    for y in range(len(input)):\n",
    "        for x in range(len(input[0])):\n",
    "            if input[y][x] == '^': return y, x, 'n'\n",
    "\n",
    "def task1(input):\n",
    "    input = [[c for c in line] for line in input]\n",
    "    guard_y, guard_x, guard_nesw = find_guard(input)\n",
    "    new_x, new_y = guard_x, guard_y\n",
    "    visited = 1 \n",
    "\n",
    "    while is_in_bounds(input, new_y, new_x):\n",
    "        if input[guard_y][guard_x] != 'x':\n",
    "            input[guard_y][guard_x] = 'x'\n",
    "            visited += 1\n",
    "\n",
    "        if input[new_y][new_x] == '#':\n",
    "            guard_nesw = next_heading(guard_nesw)\n",
    "        else:\n",
    "            guard_y, guard_x = new_y, new_x\n",
    "        \n",
    "        new_y, new_x = get_new_pos(guard_y, guard_x, guard_nesw)\n",
    "        \n",
    "    return visited+1\n",
    "\n",
    "\n",
    "task1(input) #4883"
   ]
  },
  {
   "cell_type": "code",
   "execution_count": 60,
   "metadata": {},
   "outputs": [
    {
     "data": {
      "text/plain": [
       "1751"
      ]
     },
     "execution_count": 60,
     "metadata": {},
     "output_type": "execute_result"
    }
   ],
   "source": [
    "def next_heading(h):\n",
    "    match h:\n",
    "        case 'n': return 'e'\n",
    "        case 'e': return 's'\n",
    "        case 's': return 'w'\n",
    "        case 'w': return 'n'\n",
    "\n",
    "def is_in_bounds(input, y, x):\n",
    "    return y >= 0 and y < len(input) and \\\n",
    "            x >= 0 and x < len(input[0])\n",
    "\n",
    "def gen_tile(c):\n",
    "    match c:\n",
    "        case '#': return '#'\n",
    "        # case '^': return ['n']\n",
    "        case  _ : return []\n",
    "\n",
    "def get_new_pos(y, x, h):\n",
    "    match h:\n",
    "        case 'n': return y-1, x\n",
    "        case 'e': return y, x+1\n",
    "        case 's': return y+1, x\n",
    "        case 'w': return y, x-1\n",
    "\n",
    "def check_for_thingy(y,x,h, input):\n",
    "    # ! deprecated\n",
    "    if not is_in_bounds(input,y,x): return False\n",
    "    # print(y, x, h, input[y][x], end=' | ')\n",
    "    if '#' == input[y][x]: \n",
    "        # print('ended on #')\n",
    "        return False\n",
    "    if h in input[y][x]: \n",
    "        # print('true')\n",
    "        return True\n",
    "    \n",
    "    ny,nx = get_new_pos(y,x,h)\n",
    "    return check_for_thingy(ny,nx,h,input)\n",
    "\n",
    "\n",
    "def path_is_infinite(y,x,h,fake_input):\n",
    "    ny, nx = get_new_pos(y, x, h)\n",
    "    # print(y,x,h, end = ' ')\n",
    "    steps = 0\n",
    "    while is_in_bounds(fake_input, ny, nx):\n",
    "        # check if this road has been walked before\n",
    "        \n",
    "        # move yo asS\n",
    "        if fake_input[ny][nx] == '#':\n",
    "            h = next_heading(h)\n",
    "        else:\n",
    "            if h in fake_input[y][x]: \n",
    "                # print(f'infinite after {steps} steps', y, x, h)\n",
    "                return True\n",
    "            fake_input[y][x].append(h)\n",
    "            y, x = ny, nx\n",
    "            steps += 1\n",
    "        ny, nx = get_new_pos(y, x, h)\n",
    "        \n",
    "    # if we went out of bounds, its not infinite\n",
    "    # print('went oob')\n",
    "    return False\n",
    "\n",
    "def show_map(input):\n",
    "    for l in input:\n",
    "        print(l)\n",
    "\n",
    "\n",
    "def task2(og_input):\n",
    "    y, x, h = find_guard(og_input)\n",
    "    input = [[gen_tile(c) for c in line] for line in og_input]\n",
    "    ny, nx = get_new_pos(y, x, h)\n",
    "\n",
    "    obstacles = []\n",
    "\n",
    "    while is_in_bounds(input, ny, nx):\n",
    "        # before moving check if turning here would create a loop.\n",
    "        if input[ny][nx] != '#': \n",
    "            fake_input = [[gen_tile(c) for c in line] for line in og_input]\n",
    "            fake_input[ny][nx] = '#'\n",
    "            if path_is_infinite(y, x, next_heading(h), fake_input):\n",
    "                # show_map(input)\n",
    "                # print()\n",
    "                # show_map(fake_input)\n",
    "                # print()\n",
    "                obstacles.append((ny,nx))\n",
    "        # if facing obstacle turn, else move and register move\n",
    "        if input[ny][nx] == '#':\n",
    "            h = next_heading(h)\n",
    "        else:\n",
    "            input[y][x].append(h)\n",
    "            y, x = ny, nx\n",
    "        # get position of next move\n",
    "        ny, nx = get_new_pos(y, x, h)\n",
    "        \n",
    "        # show_map(input)\n",
    "    y, x, _ = find_guard(og_input)\n",
    "    if (y,x) in obstacles: obstacles.remove((y, x))\n",
    "    return len(set(obstacles))\n",
    "\n",
    "task2(input)\n",
    "\n",
    "        \n",
    "\n"
   ]
  },
  {
   "cell_type": "code",
   "execution_count": null,
   "metadata": {},
   "outputs": [
    {
     "name": "stdout",
     "output_type": "stream",
     "text": [
      "2\n",
      "1\n"
     ]
    }
   ],
   "source": [
    "\n",
    "    # ? changed it to bruteforce below sorta doesnt apply anymore\n",
    "    #! insufficient, if continuing down that path would create a known path that should also be included.\n",
    "    #! there might also be just completely new loops that don't sync with paths already walked but IDK.\n",
    "    #! 436 was too low...\n",
    "    #! 657 was too low... (brute forced in 42s)\n",
    "    #! 1777 was too high! (╬▔皿▔)╯\n",
    "    #! 1752 wasn't right either and AOC hates me now <(＿　＿)>\n",
    "    #! 1751 was wrong\n"
   ]
  }
 ],
 "metadata": {
  "kernelspec": {
   "display_name": "Python 3",
   "language": "python",
   "name": "python3"
  },
  "language_info": {
   "codemirror_mode": {
    "name": "ipython",
    "version": 3
   },
   "file_extension": ".py",
   "mimetype": "text/x-python",
   "name": "python",
   "nbconvert_exporter": "python",
   "pygments_lexer": "ipython3",
   "version": "3.12.7"
  }
 },
 "nbformat": 4,
 "nbformat_minor": 2
}
