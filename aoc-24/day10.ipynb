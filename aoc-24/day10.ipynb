{
 "cells": [
  {
   "cell_type": "code",
   "execution_count": 1,
   "metadata": {},
   "outputs": [
    {
     "name": "stdout",
     "output_type": "stream",
     "text": [
      "['3212345678121056780310106543218765210109876', '7301106769012349891210237858909650987212345', '8943219878734217894354345997434501896398730', '7654306765025606765969876786521432345485621', '1233456834110715610870945431010676541014678', '0321067923230894320101234894321289239823549', '7450478810301129831230128765045658178101630', '8964329234532034761945219652136789017652721', '7875012187645695610876106543221054787243890', '4976701094556786921065987233234565692104323']\n",
      "['89010123', '78121874', '87430965', '96549874', '45678903', '32019012', '01329801', '10456732']\n"
     ]
    }
   ],
   "source": [
    "#Day 1 AOC 23\n",
    "with open(\"../inputs/1024.txt\", \"r\") as file:\n",
    "    input = file.read().splitlines()\n",
    "print(input[:10])\n",
    "\n",
    "with open(\"example.txt\", \"r\") as file:\n",
    "    example = file.read().splitlines()\n",
    "print(example[:10])"
   ]
  },
  {
   "cell_type": "code",
   "execution_count": 8,
   "metadata": {},
   "outputs": [
    {
     "data": {
      "text/plain": [
       "set"
      ]
     },
     "execution_count": 8,
     "metadata": {},
     "output_type": "execute_result"
    }
   ],
   "source": [
    "type(set())"
   ]
  },
  {
   "cell_type": "code",
   "execution_count": null,
   "metadata": {},
   "outputs": [],
   "source": []
  },
  {
   "cell_type": "code",
   "execution_count": 19,
   "metadata": {},
   "outputs": [
    {
     "data": {
      "text/plain": [
       "510"
      ]
     },
     "execution_count": 19,
     "metadata": {},
     "output_type": "execute_result"
    }
   ],
   "source": [
    "def get_adjacent(input, node):\n",
    "    y,x = node\n",
    "    return [(y+dy, x+dx) for dx,dy in [(1,0),(-1,0),(0,1),(0,-1)] if \n",
    "            y+dy >= 0 and y+dy < len(input) and\n",
    "            x+dx >= 0 and x+dx < len(input[0])]\n",
    "\n",
    "def find_path(input, node, val, end_nodes):\n",
    "    # print(f'path_finding for {node} with value {val}')\n",
    "    if val == 9: \n",
    "        end_nodes.add(node)\n",
    "    for (y,x) in get_adjacent(input, node):\n",
    "        if input[y][x] == val + 1:\n",
    "            find_path(input, (y,x), val+1, end_nodes)\n",
    "\n",
    "def get_score(input, trailhead):\n",
    "    end_node_set = set() \n",
    "    find_path(input, trailhead, 0, end_node_set)\n",
    "    # print(end_node_set)\n",
    "    return len(end_node_set)\n",
    "\n",
    "def task1(input):\n",
    "    input = [[int(v) for v in line] for line in input]\n",
    "    total_score = 0\n",
    "    for y, line in enumerate(input):\n",
    "        for x, v in enumerate(line):\n",
    "            if v != 0: continue\n",
    "            # print(f'trailhead: {(y,x)}')\n",
    "            total_score += get_score(input, (y,x))\n",
    "    return total_score\n",
    "\n",
    "task1(input)"
   ]
  },
  {
   "cell_type": "code",
   "execution_count": null,
   "metadata": {},
   "outputs": [
    {
     "data": {
      "text/plain": [
       "81"
      ]
     },
     "execution_count": 23,
     "metadata": {},
     "output_type": "execute_result"
    }
   ],
   "source": [
    "def find_path_distinct(input, node, val, paths_found):\n",
    "    if val == 9: \n",
    "        return paths_found + 1\n",
    "    for (y,x) in get_adjacent(input, node):\n",
    "        if input[y][x] == val + 1:\n",
    "            paths_found = find_path_distinct(input, (y,x), val+1, paths_found)\n",
    "    return paths_found\n",
    "\n",
    "def get_rating(input, trailhead):\n",
    "    # end_node_set = set() \n",
    "    \n",
    "    # print(end_node_set)\n",
    "    return find_path_distinct(input, trailhead, 0, 0)\n",
    "\n",
    "def task2(input):\n",
    "    input = [[int(v) for v in line] for line in input]\n",
    "    total_score = 0\n",
    "    for y, line in enumerate(input):\n",
    "        for x, v in enumerate(line):\n",
    "            if v != 0: continue\n",
    "            # print(f'trailhead: {(y,x)}')\n",
    "            total_score += get_rating(input, (y,x))\n",
    "    return total_score\n",
    "\n",
    "task2(input)"
   ]
  }
 ],
 "metadata": {
  "kernelspec": {
   "display_name": "Python 3",
   "language": "python",
   "name": "python3"
  },
  "language_info": {
   "codemirror_mode": {
    "name": "ipython",
    "version": 3
   },
   "file_extension": ".py",
   "mimetype": "text/x-python",
   "name": "python",
   "nbconvert_exporter": "python",
   "pygments_lexer": "ipython3",
   "version": "3.12.7"
  }
 },
 "nbformat": 4,
 "nbformat_minor": 2
}
