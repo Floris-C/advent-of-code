{
 "cells": [
  {
   "cell_type": "code",
   "execution_count": 41,
   "metadata": {},
   "outputs": [
    {
     "name": "stdout",
     "output_type": "stream",
     "text": [
      "['24,11', '6,19', '5,16', '52,41', '63,48', '61,30', '1,8', '34,17', '59,53', '37,65']\n",
      "['5,4', '4,2', '4,5', '3,0', '2,1', '6,3', '2,4', '1,5', '0,6', '3,3']\n"
     ]
    }
   ],
   "source": [
    "#Day 1 AOC 23\n",
    "with open(\"../inputs/1824.txt\", \"r\") as file:\n",
    "    input = file.read().splitlines()\n",
    "print(input[:10])\n",
    "\n",
    "with open(\"example18.txt\", \"r\") as file:\n",
    "    example = file.read().splitlines()\n",
    "print(example[:10])"
   ]
  },
  {
   "cell_type": "code",
   "execution_count": 50,
   "metadata": {},
   "outputs": [
    {
     "data": {
      "text/plain": [
       "('yay yippee', 288)"
      ]
     },
     "execution_count": 50,
     "metadata": {},
     "output_type": "execute_result"
    }
   ],
   "source": [
    "def dist_heuristic(x,y):\n",
    "    return (width-x) + (height-y)\n",
    "\n",
    "def get_moves(x,y):\n",
    "    return [(nx,ny) for (nx,ny) in [(x,y-1), (x+1,y), (x,y+1), (x-1,y)]\n",
    "            if nx >= 0 and ny >= 0 and nx < width and ny < height]\n",
    "\n",
    "def task1(input, bytes):\n",
    "    blocks = {tuple(map(int, line.split(','))): True for line in input[:bytes]}\n",
    "    # print(blocks)\n",
    "    sx, sy = 0, 0\n",
    "    ex, ey = width-1, height-1\n",
    "\n",
    "    open_set = set() # should be a min-heap/priority queue\n",
    "    open_set.add((sx,sy))\n",
    "\n",
    "    came_from = {}\n",
    "    g_score = {(sx,sy): 0} #access with g_score.get(i, 1e10)\n",
    "    f_score = {(sx,sy): dist_heuristic(sx,sy)} # access with f_score.get(i, 1e10)\n",
    "\n",
    "    while open_set:\n",
    "        x,y = open_set.pop()\n",
    "        if (x,y) == (ex,ey):\n",
    "            return 'yay yippee', g_score[(x,y)]\n",
    "        \n",
    "        # print((x,y), get_moves(x,y))\n",
    "        # print(open_set)\n",
    "        for (nx,ny) in get_moves(x,y):\n",
    "            # print((nx,ny), ((nx,ny) in blocks))\n",
    "            if (nx,ny) in blocks: continue\n",
    "\n",
    "            tentative_gscore = g_score[(x,y)] + 1\n",
    "            if tentative_gscore < g_score.get((nx,ny), 1e10):\n",
    "                came_from[(nx,ny)] = (x,y)\n",
    "                g_score[(nx,ny)] = tentative_gscore\n",
    "                f_score[(nx,ny)] = tentative_gscore + dist_heuristic(nx,ny)\n",
    "                open_set.add((nx,ny))\n",
    "\n",
    "    return 'pack it up lads, this one\\'s blocked', -1\n",
    "\n",
    "\n",
    "\n",
    "    \n",
    "\n",
    "width = 71\n",
    "height = 71\n",
    "task1(input, bytes=1024)"
   ]
  },
  {
   "cell_type": "code",
   "execution_count": null,
   "metadata": {},
   "outputs": [
    {
     "data": {
      "text/plain": [
       "'18,58'"
      ]
     },
     "execution_count": 20,
     "metadata": {},
     "output_type": "execute_result"
    }
   ],
   "source": [
    "def task2(input):\n",
    "    for i in range(1024, len(input)):\n",
    "        if task1(input, i)[1] == -1: break\n",
    "    return input[i] \n",
    "\n",
    "task2(input)\n",
    "#18,58 is not the correct answer"
   ]
  },
  {
   "cell_type": "code",
   "execution_count": 48,
   "metadata": {},
   "outputs": [
    {
     "name": "stdout",
     "output_type": "stream",
     "text": [
      "('yay yippee', 24)\n",
      "('yay yippee', 24)\n",
      "('pack it up lads, we failed', -1)\n",
      "['5,4', '4,2', '4,5', '3,0', '2,1', '6,3', '2,4', '1,5', '0,6', '3,3', '2,6', '5,1', '1,2', '5,5', '2,5', '6,5', '1,4', '0,4', '6,4', '1,1']\n",
      "['5,4', '4,2', '4,5', '3,0', '2,1', '6,3', '2,4', '1,5', '0,6', '3,3', '2,6', '5,1', '1,2', '5,5', '2,5', '6,5', '1,4', '0,4', '6,4', '1,1', '6,1']\n",
      "6,1\n"
     ]
    }
   ],
   "source": [
    "width = 7\n",
    "height = 7\n",
    "print(task1(example, 19))\n",
    "print(task1(example, 20))\n",
    "print(task1(example, 21))\n",
    "print(example[:20])\n",
    "print(example[:21])\n",
    "print(example[20])"
   ]
  },
  {
   "cell_type": "code",
   "execution_count": 51,
   "metadata": {},
   "outputs": [
    {
     "name": "stdout",
     "output_type": "stream",
     "text": [
      "('yay yippee', 644)\n",
      "(\"pack it up lads, this one's blocked\", -1)\n",
      "52,5\n"
     ]
    }
   ],
   "source": [
    "width = 71\n",
    "height = 71\n",
    "print(task1(input, 3000))\n",
    "print(task1(input, 3001))\n",
    "print(input[3000])"
   ]
  }
 ],
 "metadata": {
  "kernelspec": {
   "display_name": ".venv",
   "language": "python",
   "name": "python3"
  },
  "language_info": {
   "codemirror_mode": {
    "name": "ipython",
    "version": 3
   },
   "file_extension": ".py",
   "mimetype": "text/x-python",
   "name": "python",
   "nbconvert_exporter": "python",
   "pygments_lexer": "ipython3",
   "version": "3.12.7"
  }
 },
 "nbformat": 4,
 "nbformat_minor": 2
}
