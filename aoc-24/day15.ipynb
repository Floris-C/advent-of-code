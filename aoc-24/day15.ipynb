{
 "cells": [
  {
   "cell_type": "code",
   "execution_count": 49,
   "metadata": {},
   "outputs": [
    {
     "name": "stdout",
     "output_type": "stream",
     "text": [
      "['##################################################', '#OO..OO..O....O##O....O..#...O..O..............OO#', '#.OO.O.O.......O..O.....#O....#O#.......O.O...O.##', '#OO..O..O..O......OO.....O#..OOO..O.....#....O...#', '#...O......#O.O##.#..O.O#..O.O....O.#.#.OO#O.OO#O#', '#...#...O..OO.....O.........OO.OO.O........O...#.#', '#...#....O...O##O...O.....O....#.....O..O.O.O.OOO#', '#.O...O..#.#OO.O.##...#...##O....O...#...#....O..#', '##.###.O......#..O...O....#....O....#O.....O#..O.#', '#...#O.O...#O..O.O............OO.O..O..#.##..O.OO#']\n",
      "['##########', '#..O..O.O#', '#......O.#', '#.OO..O.O#', '#..O@..O.#', '#O#..O...#', '#O..O..O.#', '#.OO.O.OO#', '#....O...#', '##########']\n"
     ]
    }
   ],
   "source": [
    "#Day 1 AOC 23\n",
    "with open(\"../inputs/1524.txt\", \"r\") as file:\n",
    "    input = file.read().splitlines()\n",
    "print(input[:10])\n",
    "\n",
    "with open(\"example.txt\", \"r\") as file:\n",
    "    example = file.read().splitlines()\n",
    "print(example[:10])"
   ]
  },
  {
   "cell_type": "code",
   "execution_count": 50,
   "metadata": {},
   "outputs": [
    {
     "data": {
      "text/plain": [
       "1437174"
      ]
     },
     "execution_count": 50,
     "metadata": {},
     "output_type": "execute_result"
    }
   ],
   "source": [
    "def parse_input(input):\n",
    "    grid = []\n",
    "    moves = []\n",
    "    grid_completed = False\n",
    "    for line in input:\n",
    "        if line == '': grid_completed = True; continue\n",
    "        if grid_completed:\n",
    "            moves.extend(line)\n",
    "        else:\n",
    "            grid.append([c for c in line])\n",
    "    return grid, moves\n",
    "\n",
    "def check_move(x, y, dx, dy, grid):\n",
    "    x += dx; y += dy\n",
    "    if debug: print(f'{x} {y} {grid[y][x]}', end = ' - ')\n",
    "    if grid[y][x] == '#': return False\n",
    "    if grid[y][x] == '.': return True\n",
    "    return check_move(x, y, dx, dy, grid)\n",
    "\n",
    "def make_move(x, y, dx, dy, grid, held_value = '.'):\n",
    "    cur_value = grid[y][x]\n",
    "    grid[y][x] = held_value\n",
    "    if cur_value == '.': return\n",
    "    make_move(x+dx, y+dy, dx, dy, grid, cur_value)\n",
    "\n",
    "def attempt_move(move, cur_pos, grid):\n",
    "    match move:\n",
    "        case '^': dx = 0; dy = -1\n",
    "        case '>': dx = 1; dy = 0\n",
    "        case 'v': dx = 0; dy = 1\n",
    "        case '<': dx = -1; dy = 0\n",
    "    x, y = cur_pos\n",
    "    if check_move(x, y, dx, dy, grid):\n",
    "        if debug: print(' checked to true')\n",
    "        make_move(x, y, dx, dy, grid)\n",
    "        return x+dx, y+dy\n",
    "    if debug: print(' invalid move')\n",
    "    return x, y \n",
    "    \n",
    "\n",
    "def task1(input):\n",
    "    grid, moves = parse_input(input)\n",
    "    cur_pos = [[(y,x) for x, c in enumerate(line) if c == '@'] for y, line in enumerate(grid) if '@' in line][0][0]\n",
    "\n",
    "    for move in moves:\n",
    "        if debug: print('')\n",
    "        if debug: print(f'move {move}, ', end='')\n",
    "        cur_pos = attempt_move(move, cur_pos, grid)\n",
    "        \n",
    "        for line in grid:\n",
    "            if debug: print(line)\n",
    "            \n",
    "    checksum = 0\n",
    "    for y in range(len(grid)):\n",
    "        for x in range(len(grid[y])):\n",
    "            if grid[y][x] == 'O': checksum += y * 100 + x\n",
    "\n",
    "    return checksum\n",
    "\n",
    "debug = False\n",
    "task1(input)"
   ]
  },
  {
   "cell_type": "code",
   "execution_count": 53,
   "metadata": {},
   "outputs": [
    {
     "data": {
      "text/plain": [
       "1437468"
      ]
     },
     "execution_count": 53,
     "metadata": {},
     "output_type": "execute_result"
    }
   ],
   "source": [
    "def parse_input(input):\n",
    "    grid = []\n",
    "    moves = []\n",
    "    grid_completed = False\n",
    "    for line in input:\n",
    "        if line == '': grid_completed = True; continue\n",
    "        if grid_completed:\n",
    "            moves.extend(line)\n",
    "        else:\n",
    "            grid_line = []\n",
    "            for c in line:\n",
    "                match c:\n",
    "                    case '@': grid_line.append('@'); grid_line.append('.')\n",
    "                    case 'O': grid_line.append('['); grid_line.append(']')\n",
    "                    case  _ : grid_line.append(c);   grid_line.append(c)\n",
    "            grid.append(grid_line)\n",
    "    return grid, moves\n",
    "\n",
    "def check_move(x, y, dx, dy, grid):\n",
    "    x += dx; y += dy\n",
    "    if debug: print(f'{x} {y}', end=' ' )\n",
    "    if debug: print(f'{grid[y][x]}', end = ' - ')\n",
    "    match grid[y][x]:\n",
    "        case '#': return False\n",
    "        case '.': return True\n",
    "        case '[': \n",
    "            if dy: return check_move(x, y, dx, dy, grid) \\\n",
    "                            and check_move(x+1, y, dx, dy, grid)\n",
    "            return check_move(x, y, dx, dy, grid)\n",
    "        case ']': \n",
    "            if dy: return check_move(x, y, dx, dy, grid) \\\n",
    "                            and check_move(x-1, y, dx, dy, grid)\n",
    "            return check_move(x, y, dx, dy, grid)\n",
    "        case  _ : assert AssertionError('Checking for invalid location')\n",
    "\n",
    "def make_move(x, y, dx, dy, grid, held_value = '.'):\n",
    "    cur_value = grid[y][x]\n",
    "    grid[y][x] = held_value\n",
    "    if cur_value == '.': return\n",
    "    if cur_value == '[' and dy and held_value != '.': make_move(x+1, y, dx, dy, grid, '.')\n",
    "    if cur_value == ']' and dy and held_value != '.': make_move(x-1, y, dx, dy, grid, '.')\n",
    "    make_move(x+dx, y+dy, dx, dy, grid, cur_value)\n",
    "\n",
    "def attempt_move(move, cur_pos, grid):\n",
    "    match move:\n",
    "        case '^': dx = 0; dy = -1\n",
    "        case '>': dx = 1; dy = 0\n",
    "        case 'v': dx = 0; dy = 1\n",
    "        case '<': dx = -1; dy = 0\n",
    "    x, y = cur_pos\n",
    "    if check_move(x, y, dx, dy, grid):\n",
    "        if debug: print(' checked to true')\n",
    "        make_move(x, y, dx, dy, grid)\n",
    "        return x+dx, y+dy\n",
    "    if debug: print(' invalid move')\n",
    "    return x, y \n",
    "    \n",
    "\n",
    "def task1(input):\n",
    "    grid, moves = parse_input(input)\n",
    "    cur_pos = [[(x, y) for x, c in enumerate(line) if c == '@'] for y, line in enumerate(grid) if '@' in line][0][0]\n",
    "\n",
    "    for line in grid:\n",
    "            if debug: print(''.join(line))\n",
    "    if debug: print()\n",
    "\n",
    "    for move in moves:\n",
    "        if debug: print('')\n",
    "        if debug: print(f'move {move}, ', end='')\n",
    "        cur_pos = attempt_move(move, cur_pos, grid)\n",
    "        \n",
    "        for line in grid:\n",
    "            if debug: print(''.join(line))\n",
    "            \n",
    "    checksum = 0\n",
    "    for y in range(len(grid)):\n",
    "        for x in range(len(grid[y])):\n",
    "            if grid[y][x] == '[': checksum += y * 100 + x\n",
    "\n",
    "    return checksum\n",
    "\n",
    "debug = False\n",
    "task1(input)"
   ]
  }
 ],
 "metadata": {
  "kernelspec": {
   "display_name": ".venv",
   "language": "python",
   "name": "python3"
  },
  "language_info": {
   "codemirror_mode": {
    "name": "ipython",
    "version": 3
   },
   "file_extension": ".py",
   "mimetype": "text/x-python",
   "name": "python",
   "nbconvert_exporter": "python",
   "pygments_lexer": "ipython3",
   "version": "3.12.7"
  }
 },
 "nbformat": 4,
 "nbformat_minor": 2
}
