{
 "cells": [
  {
   "cell_type": "code",
   "execution_count": null,
   "metadata": {},
   "outputs": [
    {
     "name": "stdout",
     "output_type": "stream",
     "text": [
      "['16 19 21 24 21', '15 18 19 22 24 25 25', '80 81 83 84 87 89 93', '6 7 8 9 10 13 18', '60 62 61 64 66 67', '76 79 81 84 82 80', '70 73 72 74 74', '67 68 71 74 73 77', '56 57 60 59 61 64 67 74', '37 38 39 40 40 43']\n",
      "['7 6 4 2 1', '1 2 7 8 9', '9 7 6 2 1', '1 3 2 4 5', '8 6 4 4 1', '1 3 6 7 9']\n"
     ]
    }
   ],
   "source": [
    "#Day 1 AOC 23\n",
    "with open(\"../inputs/0224.txt\", \"r\") as file:\n",
    "    input = file.read().splitlines()\n",
    "print(input[:10])\n",
    "\n",
    "with open(\"example.txt\", \"r\") as file:\n",
    "    example = file.read().splitlines()\n",
    "print(example[:10])"
   ]
  },
  {
   "cell_type": "code",
   "execution_count": 23,
   "metadata": {},
   "outputs": [
    {
     "data": {
      "text/plain": [
       "516"
      ]
     },
     "execution_count": 23,
     "metadata": {},
     "output_type": "execute_result"
    }
   ],
   "source": [
    "def task1(input):\n",
    "    return sum([(is_safe([int(i) for i in line.split(' ')])) for line in input])\n",
    "\n",
    "def is_safe(line):\n",
    "    if line[0] == line[1]: return False\n",
    "    is_asc = line[1] > line[0]\n",
    "    for i in range(1, len(line)):\n",
    "        if is_asc:\n",
    "            if line[i] > line[i-1] and line[i] - line[i-1] >= 1 and line[i] - line[i-1] <= 3: \n",
    "                continue\n",
    "        else:\n",
    "            if line[i] < line[i-1] and line[i-1] - line[i] >= 1 and line[i-1] - line[i] <= 3: \n",
    "                continue\n",
    "        return False\n",
    "\n",
    "    return True\n",
    "task1(input)"
   ]
  },
  {
   "cell_type": "code",
   "execution_count": null,
   "metadata": {},
   "outputs": [
    {
     "name": "stdout",
     "output_type": "stream",
     "text": [
      "561\n"
     ]
    },
    {
     "data": {
      "text/plain": [
       "561"
      ]
     },
     "execution_count": 46,
     "metadata": {},
     "output_type": "execute_result"
    }
   ],
   "source": [
    "def task2(input):\n",
    "    counter = 0\n",
    "    for line in input:\n",
    "        line = [int(i) for i in line.split(' ')]\n",
    "        for i in range(len(line)):\n",
    "            if is_safe(line[:i]+line[i+1:]):\n",
    "                counter += 1\n",
    "                break \n",
    "    return counter\n",
    "\n",
    "def task2_linear(input):\n",
    "    return sum([(is_safe_save_1([int(i) for i in line.split(' ')])) \n",
    "                for line in input])\n",
    "\n",
    "def is_safe_save_1(line, bad_levels = 0, has_recursed = False):\n",
    "    # decide asc or desc\n",
    "    direction_check = sum([line[i+1] > line[i] for i in range(3)])\n",
    "    is_asc = direction_check >= 2\n",
    "    # something\n",
    "    held = line[0] # ! this will break replace w/ start with empty held.\n",
    "    for i in range(1, len(line)):\n",
    "        if level_is_bad(line[i], held, is_asc):\n",
    "            bad_levels += 1\n",
    "            if bad_levels > 1: \n",
    "                if i == 2 and (not has_recursed): \n",
    "                    return is_safe_save_1(line[1:], 1, True)\n",
    "                return False\n",
    "        else:\n",
    "            held = line[i]\n",
    "    return True\n",
    "\n",
    "def level_is_bad(new, held, is_asc): \n",
    "    return abs(new-held) < 1 or \\\n",
    "            abs(new-held) > 3 or \\\n",
    "            new == held or \\\n",
    "            (new > held) != is_asc\n",
    "\n",
    "print(task2(input))\n",
    "task2_linear(input)"
   ]
  }
 ],
 "metadata": {
  "kernelspec": {
   "display_name": "Python 3",
   "language": "python",
   "name": "python3"
  },
  "language_info": {
   "codemirror_mode": {
    "name": "ipython",
    "version": 3
   },
   "file_extension": ".py",
   "mimetype": "text/x-python",
   "name": "python",
   "nbconvert_exporter": "python",
   "pygments_lexer": "ipython3",
   "version": "3.12.7"
  }
 },
 "nbformat": 4,
 "nbformat_minor": 2
}
