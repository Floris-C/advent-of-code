{
 "cells": [
  {
   "cell_type": "code",
   "execution_count": 1,
   "metadata": {},
   "outputs": [
    {
     "name": "stdout",
     "output_type": "stream",
     "text": [
      "['96|15', '69|95', '69|66', '41|61', '41|26', '41|28', '66|75', '66|96', '66|99', '66|95']\n",
      "['47|53', '97|13', '97|61', '97|47', '75|29', '61|13', '75|53', '29|13', '97|29', '53|29']\n"
     ]
    }
   ],
   "source": [
    "#Day 1 AOC 23\n",
    "with open(\"../inputs/0524.txt\", \"r\") as file:\n",
    "    input = file.read().splitlines()\n",
    "print(input[:10])\n",
    "\n",
    "with open(\"example.txt\", \"r\") as file:\n",
    "    example = file.read().splitlines()\n",
    "print(example[:10])"
   ]
  },
  {
   "cell_type": "code",
   "execution_count": null,
   "metadata": {},
   "outputs": [
    {
     "data": {
      "text/plain": [
       "4569"
      ]
     },
     "execution_count": 14,
     "metadata": {},
     "output_type": "execute_result"
    }
   ],
   "source": [
    "def define_rules(rules):\n",
    "    rule_dict = {}\n",
    "    for rule in rules:\n",
    "        pre, post = map(int, rule.split('|'))\n",
    "        rule_dict[pre] = rule_dict.get(pre, [])+[post]\n",
    "    return rule_dict\n",
    "\n",
    "def update_is_valid(update, rules):\n",
    "    for i, v in enumerate(update):\n",
    "        if i == len(update)-1:\n",
    "            return True\n",
    "        for post in update[i+1:]:\n",
    "            if post not in rules.get(v, []):\n",
    "                return False\n",
    "    print('This should never be hit')\n",
    "\n",
    "\n",
    "def task1(input):\n",
    "    rules, updates = input[:input.index('')], input[input.index('')+1:]\n",
    "    rule_dict = define_rules(rules)\n",
    "\n",
    "    updates = [list(map(int, update.split(','))) for update in updates]\n",
    "    sums = 0\n",
    "    for update in updates:\n",
    "        if update_is_valid(update, rule_dict):\n",
    "            sums += update[len(update)//2]\n",
    "    return sums\n",
    "        \n",
    "\n",
    "task1(example)"
   ]
  },
  {
   "cell_type": "code",
   "execution_count": null,
   "metadata": {},
   "outputs": [],
   "source": [
    "class node():\n",
    "    def __init__(self, val, prev=None, next=None) -> None:\n",
    "        self.val = val\n",
    "        self.prev = prev\n",
    "        self.next = next\n",
    "\n",
    "def add_node(new_val, first_node):\n",
    "    if val_in_nodes(new_val, first_node): \n",
    "        return first_node\n",
    "def val_in_nodes(val, first_node):\n",
    "    node = first_node\n",
    "    while node:\n",
    "        if node.val == val: return True\n",
    "        node = node.next \n",
    "    return False\n",
    "\n",
    "def linked_list_get(input): \n",
    "    rules, updates = input[:input.index('')], input[input.index('')+1:]\n",
    "    for rule in rules:\n",
    "        a, b = map(int, rule.split('|'))\n",
    "\n"
   ]
  },
  {
   "cell_type": "code",
   "execution_count": null,
   "metadata": {},
   "outputs": [
    {
     "name": "stdout",
     "output_type": "stream",
     "text": [
      "197 117\n"
     ]
    },
    {
     "data": {
      "text/plain": [
       "6456"
      ]
     },
     "execution_count": 27,
     "metadata": {},
     "output_type": "execute_result"
    }
   ],
   "source": [
    "def reorder_update(update, rule_dict):\n",
    "    new_update = []\n",
    "    precedes = {v: 0 for v in update} # v precedes that many items / each item in that list\n",
    "    for i, v in enumerate(update):\n",
    "        for w in update[:i]+update[i+1:]:\n",
    "            precedes[v] += w in rule_dict.get(v, [])\n",
    "    # print(precedes)\n",
    "    return [i[0] for i in sorted(precedes.items(), key=lambda i: i[1], reverse=True)]\n",
    "\n",
    "\n",
    "def task2(input):\n",
    "    rules, updates = input[:input.index('')], input[input.index('')+1:]\n",
    "    rule_dict = define_rules(rules)\n",
    "\n",
    "    updates = [list(map(int, update.split(','))) for update in updates]\n",
    "    sums = 0\n",
    "    c = 0\n",
    "    for update in updates:\n",
    "        if not update_is_valid(update, rule_dict):\n",
    "            # print(update)\n",
    "            c += 1\n",
    "            update = reorder_update(update, rule_dict)\n",
    "            # print(update)\n",
    "            sums += update[len(update)//2]\n",
    "    print(len(updates), c)\n",
    "    return sums\n",
    "\n",
    "task2(input)\n",
    "#5800 too low\n"
   ]
  }
 ],
 "metadata": {
  "kernelspec": {
   "display_name": "Python 3",
   "language": "python",
   "name": "python3"
  },
  "language_info": {
   "codemirror_mode": {
    "name": "ipython",
    "version": 3
   },
   "file_extension": ".py",
   "mimetype": "text/x-python",
   "name": "python",
   "nbconvert_exporter": "python",
   "pygments_lexer": "ipython3",
   "version": "3.12.7"
  }
 },
 "nbformat": 4,
 "nbformat_minor": 2
}
