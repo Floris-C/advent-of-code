{
 "cells": [
  {
   "cell_type": "code",
   "execution_count": 1,
   "metadata": {},
   "outputs": [
    {
     "name": "stdout",
     "output_type": "stream",
     "text": [
      "['urw, uwwwbrgb, gbuwgb, gugbu, wbwggbu, gurg, gugugbu, ubbru, wwguugr, wuu, gbgubr, uug, wbbgb, wub, ubw, wrgrr, grww, wbwubwu, ubr, brubw, wrbbr, wbubgu, brgwg, rgbb, wbgbb, bub, gr, ubwwrwuu, grg, rbuuwgug, wwgwu, gbwub, grrgr, wbuw, rrg, wug, rrugbrb, ggwu, urwggwug, gwb, uwb, bgrb, wwrr, bggr, grbrbr, buurw, bbr, gwrr, wgbrurb, rbb, bwgurbr, guwgb, gru, guw, gbrrgr, wrg, brwwrur, uuu, ww, ugwu, grrrw, rgubgurb, wurwwg, rugrb, uuuu, rrgwwr, rwbubgwg, ruu, wrbbbw, ugw, rbw, guuu, rgbubg, gwgu, gurrrr, ub, rgwbr, rwwwuu, gu, gbrrw, wbb, gbgg, bbubu, rguw, rbbb, wbbb, wuuuuuw, bwbubur, gguw, bgw, rbugub, bubu, gug, ggrbr, gbrgu, br, ubrwgug, rubg, wurgwug, wwb, wuruww, grggw, buww, uw, gur, uggg, rrw, gbgb, gggru, wwwwr, bugwuru, bgb, bbb, rwg, ubwub, grub, bgbuwb, ggwb, gbrgwb, gbb, rgr, gggw, uwbb, ru, bbbwbuwb, ruw, ggrww, gwbub, uu, wgb, wbub, wg, urg, rbggbbw, bggu, ug, rwb, rrbrrug, ggr, bwgwbw, wubuuugb, rrwu, rur, rgrguw, bguw, uwg, bbggbug, rwr, rwuub, gwwbbbru, brrbg, uwwuwb, ggwuru, guubbgr, wggwwbu, wggrrrr, bgrbwrw, bwbuw, uwurw, uur, wurgrg, rubgrub, bgwg, rw, guruu, ggg, uuuwbw, ubb, uurwbbwr, guwu, wwggw, wwu, urww, gww, uuggw, rwbr, buu, rww, rgb, rgw, gwrw, uub, ugu, wrww, uwrw, wbbrwu, ruub, bwrwubb, ugb, bwr, gb, bw, brwbbuug, wgggr, rbbwrb, wur, gbgu, ubuwwr, ugwbrw, ggubbg, ubrbguwr, wbru, gub, bgu, rgu, urb, brgw, uwwb, wrwgu, uwwr, wwg, ubuwu, urrr, bug, bugu, wrbr, bgrgg, ubrb, wwgubrg, gbbggw, rrugu, buug, rbburgg, wuw, uuuwr, rbwg, bbuwb, uwrb, ubu, bwrruuww, bgwug, uwgrgu, gugwrb, wwr, urugwgb, gwurr, bggbur, rbbwu, www, wbrb, bwgrr, ggw, gbwr, wru, uwu, wbgg, gg, ubrbggug, bwww, rrubgr, bwbu, bwbbrw, gggu, wubggw, g, rgurgrg, gwgr, guu, uwwwgub, wugru, wrr, uguu, rwubrb, wgwur, urwu, wrb, ubrr, rrgggg, urruur, rwu, bru, wbw, wruu, ubrbb, uugrw, bggb, urr, gbruu, gbbwuuub, rbu, buw, bbgw, bur, bubgw, uubr, rugbgw, bwu, uww, bbrubgu, grrug, rrr, bgwbgbg, ggwwbr, ruwgrw, rgwwrbuw, gwr, uggwb, bgwu, bb, wbg, bwrrr, rb, ggwbr, ggbb, rwwg, ugg, ur, urrgb, gbgurwg, uubw, wrw, bgwrb, uruwgb, wurwb, rbru, rgguubw, rwrg, gubggu, rwwrw, ugr, wuwbbw, wggwgg, grb, gbg, rrwuu, gw, gubr, gguurbg, wguw, brbbr, bbuwrru, buugbww, wgw, guugrb, uru, wgbgug, ggbwbbr, rbggw, rug, brbwbu, wbr, bruu, bugg, bbu, rbrru, b, ggb, uuww, rrbrur, wgwbu, urwbg, brwg, rurrg, bgug, brg, grggrb, rgwubbu, rgg, w, wububw, uubgguw, rg, wgu, urgug, brbw, urwwb, bgbb, urgub, brr, rurgr, bbw, rrwg, uuw, bww, wuwru, bgr, rbgu, u, rwrgbw, ggbg, bgrr, rurgbuw, brgbbb, gbrw, bbg, gwug, bbwugw, ubg, gwgb, bbur, rgubg, wgwrbgrg, rwur, ugub, ubrwbru, brurbrb, grbrr, gwbbrg, rbbgrg, gwu, bwg, bgguuu, rbg, wwuu, ggu, uugg, rbbr, rgwg, wbu, gugrgr, gbw, ruubu, wrrrwwwr, rbgwu, rbr, gbrrr, rru, uwr, gbu, uwrg, wwwrwu, uwgb, wr, wubggwur, wbbr, gbr, gbrr, gurwr, gugg, bwb, bu, rbbww, wgr, gwrgb, grw, brrwgg, gwbbb, bgg, wb, gbwb, grr, wu, uwubr, gwg, bbwrub, gbburbbu, gwwrbr', '', 'bwuwbwuuuubgbwuugrurbwwbbrbbwuuurwrubuwgrurwrguwbgbbbburg', 'bggrrwbbgubwubwbuggurwwbgwbburbbwgwbwrgbubwgg', 'bbrbrbrwwbuubbubrgguubrbbrrguwurrgubugugubwur', 'rbugbbgubwguwuwbrrwuwrwggurrbugbbwrgbbuwugbwbrubwuruuwwuug', 'ugubbwrbuwgwrugbruwuggbgrrwuwgwruwrrrwwubrwr', 'gbgbbgbgwbuguubrwbwwrrwbbrruwuugubbwwgwrbw', 'bwgbbggrruggwgugbguwugwurruuuwuuwruwgwrgwrwrgw', 'brbrugburrbrrbgrbgwugwwuugwrwrrwgbbwrubrwrbgww']\n",
      "['r, wr, b, g, bwu, rb, gb, br', '', 'brwrr', 'bggr', 'gbbr', 'rrbgbr', 'ubwu', 'bwurrg', 'brgr', 'bbrgwb']\n"
     ]
    }
   ],
   "source": [
    "#Day 1 AOC 23\n",
    "with open(\"../inputs/1924.txt\", \"r\") as file:\n",
    "    input = file.read().splitlines()\n",
    "print(input[:10])\n",
    "\n",
    "with open(\"example19.txt\", \"r\") as file:\n",
    "    example = file.read().splitlines()\n",
    "print(example[:10])"
   ]
  },
  {
   "cell_type": "code",
   "execution_count": 22,
   "metadata": {},
   "outputs": [
    {
     "name": "stdout",
     "output_type": "stream",
     "text": [
      "{'urw': (True, True), 'ur': (True, True), 'u': (True, True), 'uwwwbrgb': (True, False), 'uwwwbrg': (False, True), 'uwwwbr': (False, True), 'uwwwb': (False, True), 'uwww': (False, True), 'uww': (True, True), 'uw': (True, True), 'gbuwgb': (True, False), 'gbuwg': (False, True), 'gbuw': (False, True), 'gbu': (True, True), 'gb': (True, True), 'g': (True, True), 'gugbu': (True, False), 'gugb': (False, True), 'gug': (True, True), 'gu': (True, True), 'wbwggbu': (True, False), 'wbwggb': (False, True), 'wbwgg': (False, True), 'wbwg': (False, True), 'wbw': (True, True), 'wb': (True, True), 'w': (True, True), 'gurg': (True, False), 'gur': (True, True), 'gugugbu': (True, False), 'gugugb': (False, True), 'gugug': (False, True), 'gugu': (False, True), 'ubbru': (True, False), 'ubbr': (False, True), 'ubb': (True, True), 'ub': (True, True), 'wwguugr': (True, False), 'wwguug': (False, True), 'wwguu': (False, True), 'wwgu': (False, True), 'wwg': (True, True), 'ww': (True, True), 'wuu': (True, True), 'wu': (True, True), 'gbgubr': (True, False), 'gbgub': (False, True), 'gbgu': (True, True), 'gbg': (True, True), 'uug': (True, True), 'uu': (True, True), 'wbbgb': (True, False), 'wbbg': (False, True), 'wbb': (True, True), 'wub': (True, True), 'ubw': (True, True), 'wrgrr': (True, False), 'wrgr': (False, True), 'wrg': (True, True), 'wr': (True, True), 'grww': (True, False), 'grw': (True, True), 'gr': (True, True), 'wbwubwu': (True, False), 'wbwubw': (False, True), 'wbwub': (False, True), 'wbwu': (False, True), 'ubr': (True, True), 'brubw': (True, False), 'brub': (False, True), 'bru': (True, True), 'br': (True, True), 'b': (True, True), 'wrbbr': (True, False), 'wrbb': (False, True), 'wrb': (True, True), 'wbubgu': (True, False), 'wbubg': (False, True), 'wbub': (True, True), 'wbu': (True, True), 'brgwg': (True, False), 'brgw': (True, True), 'brg': (True, True), 'rgbb': (True, False), 'rgb': (True, True), 'rg': (True, True), 'r': (False, True), 'wbgbb': (True, False), 'wbgb': (False, True), 'wbg': (True, True), 'bub': (True, True), 'bu': (True, True), 'ubwwrwuu': (True, False), 'ubwwrwu': (False, True), 'ubwwrw': (False, True), 'ubwwr': (False, True), 'ubww': (False, True), 'grg': (True, True), 'rbuuwgug': (True, False), 'rbuuwgu': (False, True), 'rbuuwg': (False, True), 'rbuuw': (False, True), 'rbuu': (False, True), 'rbu': (True, True), 'rb': (True, True), 'wwgwu': (True, False), 'wwgw': (False, True), 'gbwub': (True, False), 'gbwu': (False, True), 'gbw': (True, True), 'grrgr': (True, False), 'grrg': (False, True), 'grr': (True, True), 'wbuw': (True, False), 'rrg': (True, True), 'rr': (False, True), 'wug': (True, True), 'rrugbrb': (True, False), 'rrugbr': (False, True), 'rrugb': (False, True), 'rrug': (False, True), 'rru': (True, True), 'ggwu': (True, True), 'ggw': (True, True), 'gg': (True, True), 'urwggwug': (True, False), 'urwggwu': (False, True), 'urwggw': (False, True), 'urwgg': (False, True), 'urwg': (False, True), 'gwb': (True, True), 'gw': (True, True), 'uwb': (True, True), 'bgrb': (True, True), 'bgr': (True, True), 'bg': (False, True), 'wwrr': (True, False), 'wwr': (True, True), 'bggr': (True, False), 'bgg': (True, True), 'grbrbr': (True, False), 'grbrb': (False, True), 'grbr': (False, True), 'grb': (True, True), 'buurw': (True, False), 'buur': (False, True), 'buu': (True, True), 'bbr': (True, True), 'bb': (True, True), 'gwrr': (True, False), 'gwr': (True, True), 'wgbrurb': (True, False), 'wgbrur': (False, True), 'wgbru': (False, True), 'wgbr': (False, True), 'wgb': (True, True), 'wg': (True, True), 'rbb': (True, True), 'bwgurbr': (True, False), 'bwgurb': (False, True), 'bwgur': (False, True), 'bwgu': (False, True), 'bwg': (True, True), 'bw': (True, True), 'guwgb': (True, False), 'guwg': (False, True), 'guw': (True, True), 'gru': (True, True), 'gbrrgr': (True, False), 'gbrrg': (False, True), 'gbrr': (True, True), 'gbr': (True, True), 'brwwrur': (True, False), 'brwwru': (False, True), 'brwwr': (False, True), 'brww': (False, True), 'brw': (False, True), 'uuu': (True, True), 'ugwu': (True, False), 'ugw': (True, True), 'ug': (True, True), 'grrrw': (True, False), 'grrr': (False, True), 'rgubgurb': (True, False), 'rgubgur': (False, True), 'rgubgu': (False, True), 'rgubg': (True, True), 'rgub': (False, True), 'rgu': (True, True), 'wurwwg': (True, False), 'wurww': (False, True), 'wurw': (False, True), 'wur': (True, True), 'rugrb': (True, False), 'rugr': (False, True), 'rug': (True, True), 'ru': (True, True), 'uuuu': (True, False), 'rrgwwr': (True, False), 'rrgww': (False, True), 'rrgw': (False, True), 'rwbubgwg': (True, False), 'rwbubgw': (False, True), 'rwbubg': (False, True), 'rwbub': (False, True), 'rwbu': (False, True), 'rwb': (True, True), 'rw': (True, True), 'ruu': (True, True), 'wrbbbw': (True, False), 'wrbbb': (False, True), 'rbw': (True, True), 'guuu': (True, False), 'guu': (True, True), 'rgbubg': (True, False), 'rgbub': (False, True), 'rgbu': (False, True), 'gwgu': (True, False), 'gwg': (True, True), 'gurrrr': (True, False), 'gurrr': (False, True), 'gurr': (False, True), 'rgwbr': (True, False), 'rgwb': (False, True), 'rgw': (True, True), 'rwwwuu': (True, False), 'rwwwu': (False, True), 'rwww': (False, True), 'rww': (True, True), 'gbrrw': (True, False), 'gbgg': (True, False), 'bbubu': (True, False), 'bbub': (False, True), 'bbu': (True, True), 'rguw': (True, False), 'rbbb': (True, False), 'wbbb': (True, False), 'wuuuuuw': (True, False), 'wuuuuu': (False, True), 'wuuuu': (False, True), 'wuuu': (False, True), 'bwbubur': (True, False), 'bwbubu': (False, True), 'bwbub': (False, True), 'bwbu': (True, True), 'bwb': (True, True), 'gguw': (True, False), 'ggu': (True, True), 'bgw': (True, True), 'rbugub': (True, False), 'rbugu': (False, True), 'rbug': (False, True), 'bubu': (True, False), 'ggrbr': (True, False), 'ggrb': (False, True), 'ggr': (True, True), 'gbrgu': (True, False), 'gbrg': (False, True), 'ubrwgug': (True, False), 'ubrwgu': (False, True), 'ubrwg': (False, True), 'ubrw': (False, True), 'rubg': (True, True), 'rub': (False, True), 'wurgwug': (True, False), 'wurgwu': (False, True), 'wurgw': (False, True), 'wurg': (False, True), 'wwb': (True, False), 'wuruww': (True, False), 'wuruw': (False, True), 'wuru': (False, True), 'grggw': (True, False), 'grgg': (False, True), 'buww': (True, False), 'buw': (True, True), 'uggg': (True, False), 'ugg': (True, True), 'rrw': (True, True), 'gbgb': (True, False), 'gggru': (True, False), 'gggr': (False, True), 'ggg': (True, True), 'wwwwr': (True, False), 'wwww': (False, True), 'www': (True, True), 'bugwuru': (True, False), 'bugwur': (False, True), 'bugwu': (False, True), 'bugw': (False, True), 'bug': (True, True), 'bgb': (True, True), 'bbb': (True, True), 'rwg': (True, False), 'ubwub': (True, False), 'ubwu': (False, True), 'grub': (True, False), 'bgbuwb': (True, False), 'bgbuw': (False, True), 'bgbu': (False, True), 'ggwb': (True, True), 'gbrgwb': (True, False), 'gbrgw': (False, True), 'gbb': (True, True), 'rgr': (True, True), 'gggw': (True, False), 'uwbb': (True, False), 'bbbwbuwb': (True, False), 'bbbwbuw': (False, True), 'bbbwbu': (False, True), 'bbbwb': (False, True), 'bbbw': (False, True), 'ruw': (True, True), 'ggrww': (True, False), 'ggrw': (False, True), 'gwbub': (True, False), 'gwbu': (False, True), 'urg': (True, True), 'rbggbbw': (True, False), 'rbggbb': (False, True), 'rbggb': (False, True), 'rbgg': (False, True), 'rbg': (True, True), 'bggu': (True, True), 'rrbrrug': (True, False), 'rrbrru': (False, True), 'rrbrr': (False, True), 'rrbr': (False, True), 'rrb': (False, True), 'bwgwbw': (True, False), 'bwgwb': (False, True), 'bwgw': (False, True), 'wubuuugb': (True, False), 'wubuuug': (False, True), 'wubuuu': (False, True), 'wubuu': (False, True), 'wubu': (False, True), 'rrwu': (True, True), 'rur': (True, True), 'rgrguw': (True, False), 'rgrgu': (False, True), 'rgrg': (False, True), 'bguw': (True, False), 'bgu': (True, True), 'uwg': (True, True), 'bbggbug': (True, False), 'bbggbu': (False, True), 'bbggb': (False, True), 'bbgg': (False, True), 'bbg': (True, True), 'rwr': (True, True), 'rwuub': (True, False), 'rwuu': (False, True), 'rwu': (True, True), 'gwwbbbru': (True, False), 'gwwbbbr': (False, True), 'gwwbbb': (False, True), 'gwwbb': (False, True), 'gwwb': (False, True), 'gww': (True, True), 'brrbg': (True, False), 'brrb': (False, True), 'brr': (True, True), 'uwwuwb': (True, False), 'uwwuw': (False, True), 'uwwu': (False, True), 'ggwuru': (True, False), 'ggwur': (False, True), 'guubbgr': (True, False), 'guubbg': (False, True), 'guubb': (False, True), 'guub': (False, True), 'wggwwbu': (True, False), 'wggwwb': (False, True), 'wggww': (False, True), 'wggw': (False, True), 'wgg': (False, True), 'wggrrrr': (True, False), 'wggrrr': (False, True), 'wggrr': (False, True), 'wggr': (False, True), 'bgrbwrw': (True, False), 'bgrbwr': (False, True), 'bgrbw': (False, True), 'bwbuw': (True, False), 'uwurw': (True, False), 'uwur': (False, True), 'uwu': (True, True), 'uur': (True, True), 'wurgrg': (True, False), 'wurgr': (False, True), 'rubgrub': (True, False), 'rubgru': (False, True), 'rubgr': (False, True), 'bgwg': (True, False), 'guruu': (True, False), 'guru': (False, True), 'uuuwbw': (True, False), 'uuuwb': (False, True), 'uuuw': (False, True), 'uurwbbwr': (True, False), 'uurwbbw': (False, True), 'uurwbb': (False, True), 'uurwb': (False, True), 'uurw': (False, True), 'guwu': (True, False), 'wwggw': (True, False), 'wwgg': (False, True), 'wwu': (True, True), 'urww': (True, True), 'uuggw': (True, False), 'uugg': (True, True), 'rwbr': (True, False), 'gwrw': (True, False), 'uub': (True, True), 'ugu': (True, True), 'wrww': (True, False), 'wrw': (True, True), 'uwrw': (True, False), 'uwr': (True, True), 'wbbrwu': (True, False), 'wbbrw': (False, True), 'wbbr': (True, True), 'ruub': (True, True), 'bwrwubb': (True, False), 'bwrwub': (False, True), 'bwrwu': (False, True), 'bwrw': (False, True), 'bwr': (True, True), 'ugb': (True, False), 'brwbbuug': (True, False), 'brwbbuu': (False, True), 'brwbbu': (False, True), 'brwbb': (False, True), 'brwb': (False, True), 'wgggr': (True, False), 'wggg': (False, True), 'rbbwrb': (True, False), 'rbbwr': (False, True), 'rbbw': (False, True), 'ubuwwr': (True, False), 'ubuww': (False, True), 'ubuw': (False, True), 'ubu': (True, True), 'ugwbrw': (True, False), 'ugwbr': (False, True), 'ugwb': (False, True), 'ggubbg': (True, False), 'ggubb': (False, True), 'ggub': (False, True), 'ubrbguwr': (True, False), 'ubrbguw': (False, True), 'ubrbgu': (False, True), 'ubrbg': (False, True), 'ubrb': (True, True), 'wbru': (True, False), 'wbr': (True, True), 'gub': (True, True), 'urb': (True, False), 'uwwb': (True, False), 'wrwgu': (True, False), 'wrwg': (False, True), 'uwwr': (True, False), 'ubuwu': (True, False), 'urrr': (True, False), 'urr': (True, True), 'bugu': (True, False), 'wrbr': (True, False), 'bgrgg': (True, False), 'bgrg': (False, True), 'wwgubrg': (True, False), 'wwgubr': (False, True), 'wwgub': (False, True), 'gbbggw': (True, False), 'gbbgg': (False, True), 'gbbg': (False, True), 'rrugu': (True, False), 'buug': (True, True), 'rbburgg': (True, False), 'rbburg': (False, True), 'rbbur': (False, True), 'rbbu': (False, True), 'wuw': (True, True), 'uuuwr': (True, False), 'rbwg': (True, False), 'bbuwb': (True, False), 'bbuw': (False, True), 'uwrb': (True, False), 'bwrruuww': (True, False), 'bwrruuw': (False, True), 'bwrruu': (False, True), 'bwrru': (False, True), 'bwrr': (False, True), 'bgwug': (True, False), 'bgwu': (True, True), 'uwgrgu': (True, False), 'uwgrg': (False, True), 'uwgr': (False, True), 'gugwrb': (True, False), 'gugwr': (False, True), 'gugw': (False, True), 'urugwgb': (True, False), 'urugwg': (False, True), 'urugw': (False, True), 'urug': (False, True), 'uru': (True, True), 'gwurr': (True, False), 'gwur': (False, True), 'gwu': (True, True), 'bggbur': (True, False), 'bggbu': (False, True), 'bggb': (True, True), 'rbbwu': (True, False), 'wbrb': (True, False), 'bwgrr': (True, False), 'bwgr': (False, True), 'gbwr': (True, False), 'wru': (True, True), 'wbgg': (True, False), 'ubrbggug': (True, False), 'ubrbggu': (False, True), 'ubrbgg': (False, True), 'bwww': (True, False), 'bww': (True, True), 'rrubgr': (True, False), 'rrubg': (False, True), 'rrub': (False, True), 'bwbbrw': (True, False), 'bwbbr': (False, True), 'bwbb': (False, True), 'gggu': (True, False), 'wubggw': (True, True), 'wubgg': (False, True), 'wubg': (False, True), 'rgurgrg': (True, False), 'rgurgr': (False, True), 'rgurg': (False, True), 'rgur': (False, True), 'gwgr': (True, False), 'uwwwgub': (True, False), 'uwwwgu': (False, True), 'uwwwg': (False, True), 'wugru': (True, False), 'wugr': (False, True), 'wrr': (True, True), 'uguu': (True, False), 'rwubrb': (True, False), 'rwubr': (False, True), 'rwub': (False, True), 'wgwur': (True, False), 'wgwu': (False, True), 'wgw': (True, True), 'urwu': (True, False), 'ubrr': (True, False), 'rrgggg': (True, False), 'rrggg': (False, True), 'rrgg': (False, True), 'urruur': (True, False), 'urruu': (False, True), 'urru': (False, True), 'wruu': (True, False), 'ubrbb': (True, False), 'uugrw': (True, False), 'uugr': (False, True), 'gbruu': (True, False), 'gbru': (False, True), 'gbbwuuub': (True, False), 'gbbwuuu': (False, True), 'gbbwuu': (False, True), 'gbbwu': (False, True), 'gbbw': (False, True), 'bbgw': (True, False), 'bur': (True, False), 'bubgw': (True, False), 'bubg': (False, True), 'uubr': (True, False), 'rugbgw': (True, False), 'rugbg': (False, True), 'rugb': (False, True), 'bwu': (True, False), 'bbrubgu': (True, False), 'bbrubg': (False, True), 'bbrub': (False, True), 'bbru': (False, True), 'grrug': (True, False), 'grru': (False, True), 'rrr': (True, False), 'bgwbgbg': (True, False), 'bgwbgb': (False, True), 'bgwbg': (False, True), 'bgwb': (False, True), 'ggwwbr': (True, False), 'ggwwb': (False, True), 'ggww': (False, True), 'ruwgrw': (True, False), 'ruwgr': (False, True), 'ruwg': (False, True), 'rgwwrbuw': (True, False), 'rgwwrbu': (False, True), 'rgwwrb': (False, True), 'rgwwr': (False, True), 'rgww': (False, True), 'uggwb': (True, False), 'uggw': (False, True), 'bwrrr': (True, False), 'ggwbr': (True, False), 'ggbb': (True, False), 'ggb': (True, True), 'rwwg': (True, False), 'urrgb': (True, False), 'urrg': (False, True), 'gbgurwg': (True, False), 'gbgurw': (False, True), 'gbgur': (False, True), 'uubw': (True, False), 'bgwrb': (True, False), 'bgwr': (False, True), 'uruwgb': (True, False), 'uruwg': (False, True), 'uruw': (False, True), 'wurwb': (True, False), 'rbru': (True, False), 'rbr': (True, True), 'rgguubw': (True, False), 'rgguub': (False, True), 'rgguu': (False, True), 'rggu': (False, True), 'rgg': (True, True), 'rwrg': (True, True), 'gubggu': (True, False), 'gubgg': (False, True), 'gubg': (False, True), 'rwwrw': (True, False), 'rwwr': (False, True), 'ugr': (True, False), 'wuwbbw': (True, False), 'wuwbb': (False, True), 'wuwb': (False, True), 'wggwgg': (True, False), 'wggwg': (False, True), 'rrwuu': (True, False), 'gubr': (True, False), 'gguurbg': (True, False), 'gguurb': (False, True), 'gguur': (False, True), 'gguu': (False, True), 'wguw': (True, False), 'wgu': (True, True), 'brbbr': (True, False), 'brbb': (False, True), 'brb': (False, True), 'bbuwrru': (True, False), 'bbuwrr': (False, True), 'bbuwr': (False, True), 'buugbww': (True, False), 'buugbw': (False, True), 'buugb': (False, True), 'guugrb': (True, False), 'guugr': (False, True), 'guug': (False, True), 'wgbgug': (True, False), 'wgbgu': (False, True), 'wgbg': (False, True), 'ggbwbbr': (True, False), 'ggbwbb': (False, True), 'ggbwb': (False, True), 'ggbw': (False, True), 'rbggw': (True, False), 'brbwbu': (True, False), 'brbwb': (False, True), 'brbw': (True, True), 'bruu': (True, False), 'bugg': (True, False), 'rbrru': (True, False), 'rbrr': (False, True), 'uuww': (True, False), 'uuw': (True, True), 'rrbrur': (True, False), 'rrbru': (False, True), 'wgwbu': (True, False), 'wgwb': (False, True), 'urwbg': (True, False), 'urwb': (False, True), 'brwg': (True, False), 'rurrg': (True, False), 'rurr': (False, True), 'bgug': (True, False), 'grggrb': (True, False), 'grggr': (False, True), 'rgwubbu': (True, False), 'rgwubb': (False, True), 'rgwub': (False, True), 'rgwu': (False, True), 'wububw': (True, False), 'wubub': (False, True), 'uubgguw': (True, False), 'uubggu': (False, True), 'uubgg': (False, True), 'uubg': (False, True), 'urgug': (True, False), 'urgu': (False, True), 'urwwb': (True, False), 'bgbb': (True, False), 'urgub': (True, False), 'rurgr': (True, False), 'rurg': (False, True), 'bbw': (True, True), 'rrwg': (True, False), 'wuwru': (True, False), 'wuwr': (False, True), 'rbgu': (True, False), 'rwrgbw': (True, False), 'rwrgb': (False, True), 'ggbg': (True, False), 'bgrr': (True, False), 'rurgbuw': (True, False), 'rurgbu': (False, True), 'rurgb': (False, True), 'brgbbb': (True, False), 'brgbb': (False, True), 'brgb': (False, True), 'gbrw': (True, False), 'gwug': (True, False), 'bbwugw': (True, False), 'bbwug': (False, True), 'bbwu': (False, True), 'ubg': (True, False), 'gwgb': (True, False), 'bbur': (True, False), 'wgwrbgrg': (True, False), 'wgwrbgr': (False, True), 'wgwrbg': (False, True), 'wgwrb': (False, True), 'wgwr': (False, True), 'rwur': (True, False), 'ugub': (True, False), 'ubrwbru': (True, False), 'ubrwbr': (False, True), 'ubrwb': (False, True), 'brurbrb': (True, False), 'brurbr': (False, True), 'brurb': (False, True), 'brur': (False, True), 'grbrr': (True, False), 'gwbbrg': (True, False), 'gwbbr': (False, True), 'gwbb': (False, True), 'rbbgrg': (True, False), 'rbbgr': (False, True), 'rbbg': (False, True), 'bgguuu': (True, False), 'bgguu': (False, True), 'wwuu': (True, False), 'rbbr': (True, False), 'rgwg': (True, False), 'gugrgr': (True, False), 'gugrg': (False, True), 'gugr': (False, True), 'ruubu': (True, False), 'wrrrwwwr': (True, False), 'wrrrwww': (False, True), 'wrrrww': (False, True), 'wrrrw': (False, True), 'wrrr': (False, True), 'rbgwu': (True, False), 'rbgw': (False, True), 'gbrrr': (True, False), 'uwrg': (True, False), 'wwwrwu': (True, False), 'wwwrw': (False, True), 'wwwr': (False, True), 'uwgb': (True, False), 'wubggwur': (True, False), 'wubggwu': (False, True), 'gurwr': (True, False), 'gurw': (False, True), 'gugg': (True, False), 'rbbww': (True, False), 'wgr': (True, False), 'gwrgb': (True, False), 'gwrg': (False, True), 'brrwgg': (True, False), 'brrwg': (False, True), 'brrw': (False, True), 'gwbbb': (True, False), 'gbwb': (True, False), 'uwubr': (True, False), 'uwub': (False, True), 'bbwrub': (True, False), 'bbwru': (False, True), 'bbwr': (False, True), 'gbburbbu': (True, False), 'gbburbb': (False, True), 'gbburb': (False, True), 'gbbur': (False, True), 'gbbu': (False, True), 'gwwrbr': (True, False), 'gwwrb': (False, True), 'gwwr': (False, True)}\n",
      "400\n",
      "400\n"
     ]
    },
    {
     "data": {
      "text/plain": [
       "355"
      ]
     },
     "execution_count": 22,
     "metadata": {},
     "output_type": "execute_result"
    }
   ],
   "source": [
    "def solver(design, patternTree, held, i):\n",
    "    #swallow current char\n",
    "    held.append(design[i])\n",
    "    #if design and return whether pattern is valid\n",
    "    if i == len(design)-1:\n",
    "        return patternTree.get(''.join(held), (False, False))[0]\n",
    "    # otherwise try to swallow next character depending on pattern validity\n",
    "    if patternTree.get(''.join(held), (False, False))[0]: # if the pattern is exists\n",
    "        if solver(design, patternTree, [], i+1): return True\n",
    "    if patternTree.get(''.join(held), (False, False))[1]: # if a larger pattern exists\n",
    "        if solver(design, patternTree, held, i+1): return True\n",
    "    \n",
    "    return False\n",
    "\n",
    "        \n",
    "\n",
    "\n",
    "\n",
    "def isPossible(design, patternTree):\n",
    "    i = 0\n",
    "    held_pattern = []\n",
    "    \n",
    "    return solver(design, patternTree, [], 0)\n",
    "\n",
    "\n",
    "\n",
    "    return False\n",
    "\n",
    "\n",
    "def task1(input):\n",
    "    patterns = input[0].split(', ')\n",
    "    patternTree = {} #pattern: (exists, largerExists)\n",
    "    for p in patterns:\n",
    "        patternTree[p] = (True, patternTree.get(p, (False, False))[1])\n",
    "        for i in range(len(p)-1, 0, -1):\n",
    "            patternTree[p[:i]] = (patternTree.get(p[:i], (False, False))[0], True)\n",
    "    \n",
    "    print(patternTree)\n",
    "    designs = input[2:]\n",
    "    print(len(designs))\n",
    "    print(len(set(designs)))\n",
    "    \n",
    "    return sum([isPossible(design, patternTree) for design in designs])\n",
    "\n",
    "task1(input)"
   ]
  },
  {
   "cell_type": "code",
   "execution_count": 33,
   "metadata": {},
   "outputs": [
    {
     "name": "stdout",
     "output_type": "stream",
     "text": [
      "0 0.0% | 40 10.0% | 80 20.0% | 120 30.0% | 160 40.0% | 200 50.0% | 240 60.0% | 280 70.0% | 320 80.0% | 360 90.0% | 732978410442050\n"
     ]
    },
    {
     "data": {
      "text/plain": [
       "732978410442050"
      ]
     },
     "execution_count": 33,
     "metadata": {},
     "output_type": "execute_result"
    }
   ],
   "source": [
    "from functools import cache\n",
    "\n",
    "class designSolver():\n",
    "    def __init__(self, design, patternTree):\n",
    "        self.design = design\n",
    "        self.patternTree = patternTree\n",
    "\n",
    "    @cache\n",
    "    def count_solver(self, held, i):\n",
    "        # print(i, held, self.design)\n",
    "        #swallow current char\n",
    "        held += self.design[i]\n",
    "        #if design and return whether pattern is valid\n",
    "        if i == len(self.design)-1:\n",
    "            return self.patternTree.get(held, (False, False))[0]\n",
    "        # otherwise try to swallow next character depending on pattern validity\n",
    "        solves = 0\n",
    "        if self.patternTree.get(held, (False, False))[0]: # if the pattern is exists\n",
    "            solves += self.count_solver('', i+1)\n",
    "        if self.patternTree.get(held, (False, False))[1]: # if a larger pattern exists\n",
    "            solves += self.count_solver(held, i+1)\n",
    "        \n",
    "        return solves\n",
    "    # this goes to 2 **50\n",
    "    # should be reduced through considering that \n",
    "    # 'bb' and 'b''b' now create four new paths\n",
    "    # but of course the paths possible afterwards are identical.\n",
    "    \n",
    "        \n",
    "\n",
    "def task2(input):\n",
    "    patterns = input[0].split(', ')\n",
    "    designs = input[2:]\n",
    "\n",
    "    patternTree = {} #pattern: (exists, largerExists)\n",
    "    for p in patterns:\n",
    "        patternTree[p] = (True, patternTree.get(p, (False, False))[1])\n",
    "        for i in range(len(p)-1, 0, -1):\n",
    "            patternTree[p[:i]] = (patternTree.get(p[:i], (False, False))[0], True)\n",
    "\n",
    "    d = designSolver(designs[0], patternTree)\n",
    "    # return d.count_solver('', 0)\n",
    "    total_solutions = 0\n",
    "    for i, design in enumerate(designs):\n",
    "        d = designSolver(design, patternTree)\n",
    "        total_solutions += d.count_solver('', 0)\n",
    "        if i % 40 == 0: print(i, f'{(i/len(designs)*100)}% ', end='| ')\n",
    "        \n",
    "\n",
    "    print(total_solutions)\n",
    "    return total_solutions\n",
    "\n",
    "task2(input)\n",
    "# * 646 is too low\n"
   ]
  }
 ],
 "metadata": {
  "kernelspec": {
   "display_name": ".venv",
   "language": "python",
   "name": "python3"
  },
  "language_info": {
   "codemirror_mode": {
    "name": "ipython",
    "version": 3
   },
   "file_extension": ".py",
   "mimetype": "text/x-python",
   "name": "python",
   "nbconvert_exporter": "python",
   "pygments_lexer": "ipython3",
   "version": "3.12.7"
  }
 },
 "nbformat": 4,
 "nbformat_minor": 2
}
