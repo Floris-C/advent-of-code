{
 "cells": [
  {
   "cell_type": "code",
   "execution_count": 2,
   "metadata": {},
   "outputs": [
    {
     "name": "stdout",
     "output_type": "stream",
     "text": [
      "['80414   72092', '17250   26414', '23063   14603', '89663   35210', '27237   81657', '81505   58579', '67427   21819', '95906   51098', '19112   81697', '92811   11615']\n",
      "['3   4', '4   3', '2   5', '1   3', '3   9', '3   3']\n"
     ]
    }
   ],
   "source": [
    "#Day 1 AOC 23\n",
    "with open(\"../inputs/0124.txt\", \"r\") as file:\n",
    "    input = file.read().splitlines()\n",
    "print(input[:10])\n",
    "\n",
    "with open(\"example.txt\", \"r\") as file:\n",
    "    example = file.read().splitlines()\n",
    "print(example[:10])"
   ]
  },
  {
   "cell_type": "code",
   "execution_count": 39,
   "metadata": {},
   "outputs": [
    {
     "data": {
      "text/plain": [
       "1646452"
      ]
     },
     "execution_count": 39,
     "metadata": {},
     "output_type": "execute_result"
    }
   ],
   "source": [
    "def task1(input):\n",
    "    left, right = map(list, (zip(*[x.split('   ') for x in input])))\n",
    "    left.sort()\n",
    "    right.sort()\n",
    "\n",
    "    diff = 0\n",
    "    for i in range(len(left)):\n",
    "        diff += abs(int(left[i])-int(right[i]))\n",
    "    \n",
    "    return diff\n",
    "    \n",
    "\n",
    "task1(input)"
   ]
  },
  {
   "cell_type": "code",
   "execution_count": 45,
   "metadata": {},
   "outputs": [
    {
     "data": {
      "text/plain": [
       "[('3', '4', '2', '1', '3', '3'), ('4', '3', '5', '3', '9', '3')]"
      ]
     },
     "execution_count": 45,
     "metadata": {},
     "output_type": "execute_result"
    }
   ],
   "source": [
    "list(zip(*[x.split('   ') for x in example]))"
   ]
  },
  {
   "cell_type": "code",
   "execution_count": 42,
   "metadata": {},
   "outputs": [
    {
     "data": {
      "text/plain": [
       "23609874"
      ]
     },
     "execution_count": 42,
     "metadata": {},
     "output_type": "execute_result"
    }
   ],
   "source": [
    "from collections import Counter\n",
    "def task2(input):\n",
    "    left, right = map(list, (zip(*[x.split('   ') for x in input])))\n",
    "    right = Counter([int(v) for v in right])\n",
    "\n",
    "\n",
    "    return sum([v * right[v] for v in [int(v) for v in left]])\n",
    "\n",
    "task2(input)"
   ]
  },
  {
   "cell_type": "code",
   "execution_count": null,
   "metadata": {},
   "outputs": [],
   "source": [
    "left = [(int((left[i])), i) for i in range(len(left))]\n",
    "    left.sort(key=lambda x: x[0])\n",
    "    right = [(int((right[i])), i) for i in range(len(right))]\n",
    "    right.sort(key=lambda x: x[0])\n"
   ]
  }
 ],
 "metadata": {
  "kernelspec": {
   "display_name": "Python 3",
   "language": "python",
   "name": "python3"
  },
  "language_info": {
   "codemirror_mode": {
    "name": "ipython",
    "version": 3
   },
   "file_extension": ".py",
   "mimetype": "text/x-python",
   "name": "python",
   "nbconvert_exporter": "python",
   "pygments_lexer": "ipython3",
   "version": "3.12.7"
  }
 },
 "nbformat": 4,
 "nbformat_minor": 2
}
