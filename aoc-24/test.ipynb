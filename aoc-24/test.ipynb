{
 "cells": [
  {
   "cell_type": "code",
   "execution_count": null,
   "metadata": {},
   "outputs": [],
   "source": [
    "io\n",
    "    import response\n",
    "\n",
    "    url = f\"https://graph.microsoft.com/v1.0/me/messages/{email_id}/attachments/{attachment_id}/$value\"\n",
    "\n",
    "    payload={}\n",
    "    headers = {\n",
    "      'Content-Type': 'application/json',\n",
    "      'SdkVersion': 'postman-graph/v1.0',\n",
    "      'Authorization': f'Bearer {access_token}'\n",
    "    }\n",
    "\n",
    "    response = requests.request(\"GET\", url, headers=headers, data=payload, allow_redirects=False)\n",
    "\n",
    "    toread = io.BytesIO()\n",
    "    toread.write(response.content)\n",
    "    toread.seek(0)\n",
    "\n",
    "    df = pd.read_excel(toread)\n",
    "    print(df)"
   ]
  }
 ],
 "metadata": {
  "language_info": {
   "name": "python"
  }
 },
 "nbformat": 4,
 "nbformat_minor": 2
}
