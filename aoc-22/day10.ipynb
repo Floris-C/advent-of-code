{
 "cells": [
  {
   "cell_type": "code",
   "execution_count": 57,
   "metadata": {},
   "outputs": [
    {
     "name": "stdout",
     "output_type": "stream",
     "text": [
      "['addx 1', 'noop', 'addx 2', 'addx 5', 'addx 2']\n"
     ]
    }
   ],
   "source": [
    "#day 10 AOC\n",
    "inputFile = open(\"inputs/day10.txt\", \"r\")\n",
    "input = inputFile.read()\n",
    "instructions = [x for x in input.splitlines() if x != \"\"]\n",
    "inputFile.close()\n",
    "print(instructions[:5])"
   ]
  },
  {
   "cell_type": "code",
   "execution_count": 58,
   "metadata": {},
   "outputs": [
    {
     "name": "stdout",
     "output_type": "stream",
     "text": [
      "12640\n",
      "[340, 1020, 2100, 2940, 1620, 4620]\n"
     ]
    }
   ],
   "source": [
    "cycleCnt = 1\n",
    "X = 1\n",
    "holdX = 0\n",
    "signalStrengths = []\n",
    "\n",
    "def measure():\n",
    "    if (cycleCnt-20) % 40 == 0: \n",
    "        #print(\"hit\")\n",
    "        strength = cycleCnt * X\n",
    "        signalStrengths.append(strength)\n",
    "\n",
    "for instr in instructions: \n",
    "    #print((cycleCnt-20)%40)\n",
    "    #print(instr)\n",
    "    instr = instr.split(\" \")\n",
    "    if instr[0] == \"addx\": \n",
    "        cycleCnt += 1\n",
    "        measure()\n",
    "        X += int(instr[1])\n",
    "        cycleCnt += 1\n",
    "        measure()\n",
    "    elif instr[0] == \"noop\":\n",
    "        cycleCnt += 1\n",
    "        measure()\n",
    "    else:\n",
    "        print(\"ERROR\")\n",
    "\n",
    "    \n",
    "        \n",
    "\n",
    "print(sum(signalStrengths))\n",
    "print(signalStrengths)\n",
    "\n",
    "    "
   ]
  },
  {
   "cell_type": "code",
   "execution_count": 59,
   "metadata": {},
   "outputs": [
    {
     "name": "stdout",
     "output_type": "stream",
     "text": [
      "####.#..#.###..####.#....###....##.###..\n",
      "#....#..#.#..#....#.#....#..#....#.#..#.\n",
      "###..####.###....#..#....#..#....#.#..#.\n",
      "#....#..#.#..#..#...#....###.....#.###..\n",
      "#....#..#.#..#.#....#....#.#..#..#.#.#..\n",
      "####.#..#.###..####.####.#..#..##..#..#.\n"
     ]
    }
   ],
   "source": [
    "#part 2\n",
    "cycleCnt = 0\n",
    "X = 1\n",
    "holdX = 0\n",
    "crt = []\n",
    "\n",
    "def cycle(cycleCnt, crt):\n",
    "    #print(X)\n",
    "    if abs(X - (cycleCnt%40)) <= 1:\n",
    "        crt.append(\"#\")\n",
    "    else:\n",
    "        crt.append(\".\")\n",
    "    cycleCnt += 1\n",
    "    return cycleCnt, crt\n",
    "\n",
    "for instr in instructions: \n",
    "    #print((cycleCnt-20)%40)\n",
    "    #print(instr)\n",
    "    instr = instr.split(\" \")\n",
    "    if instr[0] == \"addx\": \n",
    "        cycleCnt, crt = cycle(cycleCnt, crt)\n",
    "        cycleCnt, crt = cycle(cycleCnt, crt)\n",
    "        X += int(instr[1])\n",
    "    elif instr[0] == \"noop\":\n",
    "        cycleCnt, crt = cycle(cycleCnt, crt)\n",
    "    else:\n",
    "        print(\"ERROR\")\n",
    "\n",
    "    \n",
    "        \n",
    "for i, c in enumerate(crt):\n",
    "    print(c, end=\"\")\n",
    "    if i> 10 and (i+1) % 40 == 0: print()\n",
    "\n",
    "    "
   ]
  },
  {
   "cell_type": "markdown",
   "metadata": {},
   "source": []
  }
 ],
 "metadata": {
  "kernelspec": {
   "display_name": "Python 3.10.6 64-bit",
   "language": "python",
   "name": "python3"
  },
  "language_info": {
   "codemirror_mode": {
    "name": "ipython",
    "version": 3
   },
   "file_extension": ".py",
   "mimetype": "text/x-python",
   "name": "python",
   "nbconvert_exporter": "python",
   "pygments_lexer": "ipython3",
   "version": "3.10.6 (tags/v3.10.6:9c7b4bd, Aug  1 2022, 21:53:49) [MSC v.1932 64 bit (AMD64)]"
  },
  "orig_nbformat": 4,
  "vscode": {
   "interpreter": {
    "hash": "9e8942728792b4f803710fcef6ec9d08fd61899a3575dab23084978499f50197"
   }
  }
 },
 "nbformat": 4,
 "nbformat_minor": 2
}
