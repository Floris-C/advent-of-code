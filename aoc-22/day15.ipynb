{
 "cells": [
  {
   "cell_type": "code",
   "execution_count": null,
   "metadata": {},
   "outputs": [],
   "source": [
    "#day 12 AOC\n",
    "from z3 import *\n",
    "inputFile = open(\"inputs/day15.txt\", \"r\")\n",
    "input = inputFile.read()\n",
    "input= [x for x in input.splitlines() if x != \"\"]\n",
    "inputFile.close()\n",
    "\n",
    "#print(input)\n",
    "sensors = []\n",
    "beacons = []\n",
    "for line in input:\n",
    "    sensor, beacon = line.split(\": \")\n",
    "    sensorX, sensorY = sensor.split(\",\")\n",
    "    sensorX, sensorY = sensorX.split(\"=\")[1], sensorY.split(\"=\")[1]\n",
    "    beaconX, beaconY = beacon.split(\",\")\n",
    "    beaconX, beaconY = beaconX.split(\"=\")[1], beaconY.split(\"=\")[1]\n",
    "    sensors.append((int(sensorX), int(sensorY)))\n",
    "    beacons.append((int(beaconX), int(beaconY)))\n",
    "\n",
    "\n",
    "print(sensors)\n",
    "print(beacons)"
   ]
  },
  {
   "cell_type": "code",
   "execution_count": null,
   "metadata": {},
   "outputs": [],
   "source": [
    "def abs(d):\n",
    "    return If(d >= 0,d,-d)\n",
    "\n",
    "def dist(a, b):\n",
    "    aX, aY = a\n",
    "    bX, bY = b\n",
    "    return abs(aX-bX) + abs(aY-bY)\n",
    "    \n",
    "s = Solver()\n",
    "x, y, z = Ints('x y z')\n",
    "s.add(x >= 0)\n",
    "s.add(x <= 4_000_000)\n",
    "s.add(y >= 0)\n",
    "s.add(y <= 4_000_000)\n",
    "s.add(z == x *4_000_000 + y)\n",
    "print(s.check())\n",
    "\n",
    "for i in range(len(sensors)):\n",
    "    beacon = beacons[i]\n",
    "    sensor = sensors[i]\n",
    "    r = dist(beacon, sensor)\n",
    "    f = (dist((x,y), sensor) > r)\n",
    "    s.add(f)\n",
    "\n",
    "\n",
    "print(s.check())\n",
    "print(s.model())"
   ]
  },
  {
   "cell_type": "code",
   "execution_count": null,
   "metadata": {},
   "outputs": [],
   "source": [
    "def dist(a, b):\n",
    "    aX, aY = a\n",
    "    bX, bY = b\n",
    "    return abs(aX-bX) + abs(aY-bY)\n",
    "\n",
    "def can_contain_beacon(x, y):\n",
    "    for i, (sX, sY) in enumerate(sensors):\n",
    "        (bX, bY) = beacons[i]\n",
    "        if (dist((x,y), (sX, sY)) <= dist((sX, sY), (bX, bY))):\n",
    "            # if (x,y) in beacons:\n",
    "            #     #print(\"B\", end=\"\")\n",
    "            #     return False\n",
    "            # if (x,y) in sensors:\n",
    "            #     return False\n",
    "            # else:\n",
    "            #     #print(\"#\", end=\"\")\n",
    "            #     return True\n",
    "            return True\n",
    "    #print(\".\", end=\"\")\n",
    "    return False\n",
    "\n",
    "\n",
    "cannot_contain_beacon_tally = 0\n",
    "for x in range(-2_000_000, 6_000_000):\n",
    "    if can_contain_beacon(x, 2_000_000): cannot_contain_beacon_tally += 1\n",
    "print()\n",
    "print(cannot_contain_beacon_tally)"
   ]
  },
  {
   "cell_type": "code",
   "execution_count": null,
   "metadata": {},
   "outputs": [],
   "source": [
    "#part2\n",
    "range2 = range(0,4_000_001)\n",
    "rangeE = range(0, 21)\n",
    "\n",
    "def tuning_freq(x, y):\n",
    "    return (x*4000000)+y\n",
    "  \n",
    "for x in range2:\n",
    "    for y in range2:\n",
    "        if not(can_contain_beacon(x,y)):\n",
    "            print(x,y, tuning_freq(x,y))\n",
    "     "
   ]
  },
  {
   "cell_type": "code",
   "execution_count": null,
   "metadata": {},
   "outputs": [],
   "source": [
    "## formatting for z-3 online\n",
    "def dist(a, b):\n",
    "    aX, aY = a\n",
    "    bX, bY = b\n",
    "    return abs(aX-bX) + abs(aY-bY)\n",
    "\n",
    "def xBeacon(x, r):\n",
    "    print(\"(assert (> x {}))\\n(assert (< x {}))\".format(x-r, x+r))\n",
    "\n",
    "def yBeacon(y, r):\n",
    "    print(\"(assert (> y {}))\\n(assert (< y {}))\".format(y-r, y+r))\n",
    "\n",
    "for i in range(len(beacons)):\n",
    "    beaconX, beaconY = beacons[i]\n",
    "    sensorX, sensorY = sensors[i]\n",
    "\n",
    "    r = dist((beaconX, beaconY), (sensorX, sensorY))\n",
    "\n",
    "    xBeacon(beaconX, r)\n",
    "    yBeacon(beaconY, r)\n",
    "    \n",
    "(declare-const y Int)\n",
    "(declare-const x Int)\n",
    "(assert (>= x 0))\n",
    "(assert (>= y 0))\n",
    "(assert (<= x 20))\n",
    "(assert (<= y 20))"
   ]
  },
  {
   "cell_type": "code",
   "execution_count": null,
   "metadata": {},
   "outputs": [],
   "source": [
    "from z3 import *\n",
    "Tie, Shirt = Bools('Tie Shirt')\n",
    "s = Solver()\n",
    "s.add(Or(Tie, Shirt), \n",
    "    Or(Not(Tie), Shirt), \n",
    "    Or(Not(Tie), Not(Shirt)))\n",
    "print(s.check())\n",
    "print(s.model())"
   ]
  },
  {
   "cell_type": "code",
   "execution_count": null,
   "metadata": {},
   "outputs": [],
   "source": []
  },
  {
   "cell_type": "code",
   "execution_count": null,
   "metadata": {},
   "outputs": [],
   "source": []
  }
 ],
 "metadata": {
  "kernelspec": {
   "display_name": "Python 3",
   "language": "python",
   "name": "python3"
  },
  "language_info": {
   "codemirror_mode": {
    "name": "ipython",
    "version": 3
   },
   "file_extension": ".py",
   "mimetype": "text/x-python",
   "name": "python",
   "nbconvert_exporter": "python",
   "pygments_lexer": "ipython3",
   "version": "3.10.6 (tags/v3.10.6:9c7b4bd, Aug  1 2022, 21:53:49) [MSC v.1932 64 bit (AMD64)]"
  },
  "orig_nbformat": 4,
  "vscode": {
   "interpreter": {
    "hash": "9e8942728792b4f803710fcef6ec9d08fd61899a3575dab23084978499f50197"
   }
  }
 },
 "nbformat": 4,
 "nbformat_minor": 2
}
