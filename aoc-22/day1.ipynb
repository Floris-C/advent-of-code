{
 "cells": [
  {
   "cell_type": "code",
   "execution_count": 7,
   "metadata": {},
   "outputs": [
    {
     "name": "stdout",
     "output_type": "stream",
     "text": [
      "['6118', '4450', '1300', '3648', '1933', '', '4841', '6135', '5806', '8128']\n"
     ]
    }
   ],
   "source": [
    "#day 1 AOC\n",
    "inputFile = open(\"inputs/day1.txt\", \"r\")\n",
    "input = inputFile.read()\n",
    "inputList = input.splitlines()\n",
    "inputFile.close()\n",
    "print(inputList[10:20])"
   ]
  },
  {
   "cell_type": "code",
   "execution_count": 13,
   "metadata": {},
   "outputs": [
    {
     "name": "stdout",
     "output_type": "stream",
     "text": [
      "[[3120, 4127, 1830, 1283, 5021, 3569, 3164, 2396, 4367, 2821, 6118, 4450, 1300, 3648, 1933], [4841, 6135, 5806, 8128, 4069, 6511, 3601, 4786], [2739, 2663, 2678, 1627, 7779, 7845, 9191, 9656], [1372, 11432, 14854, 15168, 3789], [47972]]\n"
     ]
    }
   ],
   "source": [
    "elfSeperated = []\n",
    "currentElf = []\n",
    "for i in inputList:\n",
    "    if i == \"\":\n",
    "        elfSeperated.append(currentElf)\n",
    "        currentElf = []\n",
    "    else: \n",
    "        currentElf.append(int(i))\n",
    "\n",
    "print(elfSeperated[:5])\n"
   ]
  },
  {
   "cell_type": "code",
   "execution_count": 14,
   "metadata": {},
   "outputs": [
    {
     "name": "stdout",
     "output_type": "stream",
     "text": [
      "Output no.1: 68292\n"
     ]
    }
   ],
   "source": [
    "highest = 0\n",
    "for i in elfSeperated:\n",
    "    if sum(i) > highest:\n",
    "        highest = sum(i)\n",
    "print (\"Output no.1: {}\".format(highest)) "
   ]
  },
  {
   "cell_type": "code",
   "execution_count": 16,
   "metadata": {},
   "outputs": [
    {
     "name": "stdout",
     "output_type": "stream",
     "text": [
      "[68292, 68056, 66855, 66511, 66229, 66201, 65660, 64985, 64177, 63354]\n",
      "[68292, 68056, 66855]\n",
      "Output no.2: 203203\n"
     ]
    }
   ],
   "source": [
    "elfsSummed = []\n",
    "for i in elfSeperated:\n",
    "    elfsSummed.append(sum(i))\n",
    "elfsSummed.sort(reverse = True)\n",
    "\n",
    "print(elfsSummed[:10])\n",
    "print(elfsSummed[:3])\n",
    "print(\"Output no.2: {}\".format(sum(elfsSummed[:3])))"
   ]
  },
  {
   "cell_type": "code",
   "execution_count": null,
   "metadata": {},
   "outputs": [],
   "source": []
  }
 ],
 "metadata": {
  "kernelspec": {
   "display_name": "Python 3.10.6 64-bit",
   "language": "python",
   "name": "python3"
  },
  "language_info": {
   "codemirror_mode": {
    "name": "ipython",
    "version": 3
   },
   "file_extension": ".py",
   "mimetype": "text/x-python",
   "name": "python",
   "nbconvert_exporter": "python",
   "pygments_lexer": "ipython3",
   "version": "3.10.6"
  },
  "orig_nbformat": 4,
  "vscode": {
   "interpreter": {
    "hash": "9e8942728792b4f803710fcef6ec9d08fd61899a3575dab23084978499f50197"
   }
  }
 },
 "nbformat": 4,
 "nbformat_minor": 2
}
