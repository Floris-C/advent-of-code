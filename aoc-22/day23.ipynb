{
 "cells": [
  {
   "cell_type": "code",
   "execution_count": 28,
   "metadata": {},
   "outputs": [
    {
     "name": "stdout",
     "output_type": "stream",
     "text": [
      "22 {(4, 0): True, (2, 1): True, (3, 1): True, (4, 1): True, (6, 1): True, (0, 2): True, (4, 2): True, (6, 2): True, (1, 3): True, (5, 3): True, (6, 3): True, (0, 4): True, (2, 4): True, (3, 4): True, (4, 4): True, (0, 5): True, (1, 5): True, (3, 5): True, (5, 5): True, (6, 5): True, (1, 6): True, (4, 6): True}\n"
     ]
    }
   ],
   "source": [
    "with open(\"../inputs/y22d23.txt\", \"r\") as f:\n",
    "    d = f.read().splitlines()\n",
    "d\n",
    "\n",
    "board = {}\n",
    "for y, l in enumerate(d):\n",
    "    for x, v in enumerate(l):\n",
    "        if v == '#': board[(x,y)] = True\n",
    "print(len(board.keys()), board)"
   ]
  },
  {
   "cell_type": "code",
   "execution_count": 29,
   "metadata": {},
   "outputs": [
    {
     "name": "stdout",
     "output_type": "stream",
     "text": [
      "[(4, 0), (2, 1), (3, 1), (4, 1), (6, 1), (0, 2), (4, 2), (6, 2), (1, 3), (5, 3), (6, 3), (0, 4), (2, 4), (3, 4), (4, 4), (0, 5), (1, 5), (3, 5), (5, 5), (6, 5), (1, 6), (4, 6)] 22\n",
      "...............\n",
      "...............\n",
      "...............\n",
      "...............\n",
      "...............\n",
      ".........#.....\n",
      ".......###.#...\n",
      ".....#...#.#...\n",
      "......#...##...\n",
      ".....#.###.....\n",
      ".....##.#.##...\n",
      "......#..#.....\n",
      "...............\n",
      "...............\n",
      "...............\n",
      "\n",
      "[(4, -1), (2, 0), (3, 0), (4, 0), (6, 0), (0, 1), (4, 2), (6, 2), (1, 2), (6, 3), (-1, 4), (3, 3), (2, 4), (4, 4), (0, 4), (0, 5), (3, 5), (5, 5), (6, 5), (0, 6), (4, 6)] 21\n",
      "...............\n",
      "...............\n",
      "...............\n",
      "...............\n",
      ".........#.....\n",
      ".......###.#...\n",
      ".....#.........\n",
      "......#..#.#...\n",
      "........#..#...\n",
      "....##.#.#.....\n",
      ".....#..#.##...\n",
      ".....#...#.....\n",
      "...............\n",
      "...............\n",
      "...............\n",
      "\n",
      "[(3, -1), (1, 0), (2, 0), (3, 0), (7, 0), (-1, 1), (4, 2), (0, 2), True, (6, 3), (-2, 4), (4, 3), (1, 4), (3, 4), (-1, 4), (-1, 5), (2, 5), (6, 5), (-1, 6), (4, 6)] 20\n"
     ]
    },
    {
     "ename": "TypeError",
     "evalue": "'bool' object is not iterable",
     "output_type": "error",
     "traceback": [
      "\u001b[1;31m---------------------------------------------------------------------------\u001b[0m",
      "\u001b[1;31mTypeError\u001b[0m                                 Traceback (most recent call last)",
      "\u001b[1;32mc:\\Users\\flori\\!projects\\aoc\\advent-of-code\\aoc-22\\day23.ipynb Cell 2\u001b[0m in \u001b[0;36m8\n\u001b[0;32m     <a href='vscode-notebook-cell:/c%3A/Users/flori/%21projects/aoc/advent-of-code/aoc-22/day23.ipynb#W6sZmlsZQ%3D%3D?line=78'>79</a>\u001b[0m         \u001b[39mif\u001b[39;00m \u001b[39mnot\u001b[39;00m moved: new_board[loc] \u001b[39m=\u001b[39m \u001b[39mTrue\u001b[39;00m\n\u001b[0;32m     <a href='vscode-notebook-cell:/c%3A/Users/flori/%21projects/aoc/advent-of-code/aoc-22/day23.ipynb#W6sZmlsZQ%3D%3D?line=80'>81</a>\u001b[0m     board \u001b[39m=\u001b[39m new_board\n\u001b[1;32m---> <a href='vscode-notebook-cell:/c%3A/Users/flori/%21projects/aoc/advent-of-code/aoc-22/day23.ipynb#W6sZmlsZQ%3D%3D?line=81'>82</a>\u001b[0m     print_board(board)\n\u001b[0;32m     <a href='vscode-notebook-cell:/c%3A/Users/flori/%21projects/aoc/advent-of-code/aoc-22/day23.ipynb#W6sZmlsZQ%3D%3D?line=85'>86</a>\u001b[0m \u001b[39mdef\u001b[39;00m \u001b[39mcheck_rectangle\u001b[39m(board):\n\u001b[0;32m     <a href='vscode-notebook-cell:/c%3A/Users/flori/%21projects/aoc/advent-of-code/aoc-22/day23.ipynb#W6sZmlsZQ%3D%3D?line=86'>87</a>\u001b[0m     unz \u001b[39m=\u001b[39m \u001b[39mzip\u001b[39m(\u001b[39m*\u001b[39mboard\u001b[39m.\u001b[39mkeys())\n",
      "\u001b[1;32mc:\\Users\\flori\\!projects\\aoc\\advent-of-code\\aoc-22\\day23.ipynb Cell 2\u001b[0m in \u001b[0;36m3\n\u001b[0;32m     <a href='vscode-notebook-cell:/c%3A/Users/flori/%21projects/aoc/advent-of-code/aoc-22/day23.ipynb#W6sZmlsZQ%3D%3D?line=32'>33</a>\u001b[0m \u001b[39mprint\u001b[39m(\u001b[39mlist\u001b[39m(b\u001b[39m.\u001b[39mkeys()), \u001b[39mlen\u001b[39m(b\u001b[39m.\u001b[39mkeys()))\n\u001b[0;32m     <a href='vscode-notebook-cell:/c%3A/Users/flori/%21projects/aoc/advent-of-code/aoc-22/day23.ipynb#W6sZmlsZQ%3D%3D?line=33'>34</a>\u001b[0m bp \u001b[39m=\u001b[39m [[\u001b[39m'\u001b[39m\u001b[39m.\u001b[39m\u001b[39m'\u001b[39m \u001b[39mfor\u001b[39;00m i \u001b[39min\u001b[39;00m \u001b[39mrange\u001b[39m(x)] \u001b[39mfor\u001b[39;00m i \u001b[39min\u001b[39;00m \u001b[39mrange\u001b[39m(y)]\n\u001b[1;32m---> <a href='vscode-notebook-cell:/c%3A/Users/flori/%21projects/aoc/advent-of-code/aoc-22/day23.ipynb#W6sZmlsZQ%3D%3D?line=34'>35</a>\u001b[0m xs, ys \u001b[39m=\u001b[39m (\u001b[39mlist\u001b[39m(\u001b[39mzip\u001b[39;49m(\u001b[39m*\u001b[39;49mb\u001b[39m.\u001b[39;49mkeys())))\n\u001b[0;32m     <a href='vscode-notebook-cell:/c%3A/Users/flori/%21projects/aoc/advent-of-code/aoc-22/day23.ipynb#W6sZmlsZQ%3D%3D?line=35'>36</a>\u001b[0m my, mx \u001b[39m=\u001b[39m \u001b[39mmin\u001b[39m(ys), \u001b[39mmin\u001b[39m(xs)\n\u001b[0;32m     <a href='vscode-notebook-cell:/c%3A/Users/flori/%21projects/aoc/advent-of-code/aoc-22/day23.ipynb#W6sZmlsZQ%3D%3D?line=36'>37</a>\u001b[0m \u001b[39mfor\u001b[39;00m x,y \u001b[39min\u001b[39;00m b\u001b[39m.\u001b[39mkeys():\n",
      "\u001b[1;31mTypeError\u001b[0m: 'bool' object is not iterable"
     ]
    }
   ],
   "source": [
    "def check_adjacent(b, l):\n",
    "    x,y = l[0]-1, l[1]-1\n",
    "    for dx in range(3):\n",
    "        for dy in range(3):\n",
    "            if b.get((x+dx,y+dy), False): return True\n",
    "    return False\n",
    "\n",
    "def check_dir(b, l, dir):\n",
    "    if dir == 's': d = [(-1,1),(0,1),(1,1)]\n",
    "    if dir == 'n': d = [(-1,-1),(0,-1),(1,-1)]\n",
    "    if dir == 'e': d = [(1,-1),(1,0),(1,-1)]\n",
    "    if dir == 'w': d = [(-1,-1),(-1,0),(-1,-1)]\n",
    "\n",
    "    x,y = l[0]-1, l[1]-1\n",
    "\n",
    "    for dx, dy in d:\n",
    "        if b.get((x+dx,y+dy), False): return True\n",
    "    return False\n",
    " \n",
    "def get_dir_delta(dir):\n",
    "    if dir == 's': return 0,1\n",
    "    if dir == 'n': return 0,-1\n",
    "    if dir == 'e': return 1,0\n",
    "    if dir == 'w': return -1,0\n",
    "    return False # throw error\n",
    "\n",
    "def get_dirs(r):\n",
    "    c = r % 4\n",
    "    dirs = ['n', 's', 'w', 'e']\n",
    "    return dirs[c:]+dirs[:c]\n",
    "\n",
    "def print_board(b, x=15,y=15):\n",
    "    print(list(b.keys()), len(b.keys()))\n",
    "    bp = [['.' for i in range(x)] for i in range(y)]\n",
    "    xs, ys = (list(zip(*b.keys())))\n",
    "    my, mx = min(ys), min(xs)\n",
    "    for x,y in b.keys():\n",
    "        bp[y+5][x+5] = '#'\n",
    "    for l in bp:\n",
    "        print(''.join(l))\n",
    "    print()\n",
    "\n",
    "rounds = 10\n",
    "print_board(board)\n",
    "for r in range(rounds):\n",
    "    new_board = {}\n",
    "    restricted_moves = []\n",
    "    for loc in board.keys():\n",
    "\n",
    "        # if there's no adjacent elf, keep loc\n",
    "        if not check_adjacent(board, loc): \n",
    "            new_board[loc] = True\n",
    "            continue\n",
    "\n",
    "        # try each direction\n",
    "        moved = False\n",
    "        for d in get_dirs(r):\n",
    "            # if direction is not open, continue\n",
    "            if check_dir(board, loc, d): continue\n",
    "            # calculate move position\n",
    "            dx,dy = get_dir_delta(d)\n",
    "            move = (loc[0]+dx,loc[1]+dy)\n",
    "            # if move already restricted, stay\n",
    "            if move in restricted_moves: \n",
    "                new_board[loc] = True\n",
    "                moved = True\n",
    "            # if move exists, undo it and restrict\n",
    "            elif new_board.get(move, False): \n",
    "                new_board[new_board[move]] = True\n",
    "                new_board[loc] = True\n",
    "                del new_board[move]\n",
    "                restricted_moves.append(move)\n",
    "                moved = True\n",
    "            # if move is just valid, make it\n",
    "            else:\n",
    "                new_board[move] = loc\n",
    "                moved = True\n",
    "            break\n",
    "        if not moved: new_board[loc] = True\n",
    "                \n",
    "    board = new_board\n",
    "    print_board(board)\n",
    "\n",
    "\n",
    "    \n",
    "def check_rectangle(board):\n",
    "    unz = zip(*board.keys())\n",
    "    print(list(unz))\n",
    "    xs, ys = (list(zip(*board.keys())))\n",
    "    return ((max(xs)-min(xs))*(max(ys)-min(ys))) - len(board)\n",
    "\n",
    "print(check_rectangle(board))\n",
    "\n"
   ]
  },
  {
   "cell_type": "code",
   "execution_count": null,
   "metadata": {},
   "outputs": [
    {
     "name": "stdout",
     "output_type": "stream",
     "text": [
      "[['n', 's', 'w', 'e'], ['s', 'w', 'e', 'n'], ['w', 'e', 'n', 's'], ['e', 'n', 's', 'w'], ['n', 's', 'w', 'e'], ['s', 'w', 'e', 'n'], ['w', 'e', 'n', 's'], ['e', 'n', 's', 'w'], ['n', 's', 'w', 'e'], ['s', 'w', 'e', 'n'], ['w', 'e', 'n', 's'], ['e', 'n', 's', 'w']]\n"
     ]
    }
   ],
   "source": [
    "def get_dirs(r):\n",
    "    c = r % 4\n",
    "    dirs = ['n', 's', 'w', 'e']\n",
    "    return dirs[c:]+dirs[:c]\n",
    "\n",
    "print([get_dirs(r) for r in range(12)])"
   ]
  },
  {
   "cell_type": "code",
   "execution_count": null,
   "metadata": {},
   "outputs": [
    {
     "data": {
      "text/plain": [
       "(0, 1, 1, 1, 1, 2, 2, 2, 3, 3, 3, 4, 4, 4, 4, 5, 5, 5, 5, 5, 6, 6)"
      ]
     },
     "execution_count": 21,
     "metadata": {},
     "output_type": "execute_result"
    }
   ],
   "source": [
    "t = {(0, 4): True, (1, 2): True, (1, 3): True, (1, 4): True, (1, 6): True, (2, 0): True, (2, 4): True, (2, 6): True, (3, 1): True, (3, 5): True, (3, 6): True, (4, 0): True, (4, 2): True, (4, 3): True, (4, 4): True, (5, 0): True, (5, 1): True, (5, 3): True, (5, 5): True, (5, 6): True, (6, 1): True, (6, 4): True}\n",
    "xs, ys = (list(zip(*t.keys())))\n",
    "\n",
    "xs\n",
    "\n"
   ]
  },
  {
   "cell_type": "code",
   "execution_count": null,
   "metadata": {},
   "outputs": [],
   "source": []
  }
 ],
 "metadata": {
  "kernelspec": {
   "display_name": "Python 3",
   "language": "python",
   "name": "python3"
  },
  "language_info": {
   "codemirror_mode": {
    "name": "ipython",
    "version": 3
   },
   "file_extension": ".py",
   "mimetype": "text/x-python",
   "name": "python",
   "nbconvert_exporter": "python",
   "pygments_lexer": "ipython3",
   "version": "3.10.8"
  },
  "orig_nbformat": 4
 },
 "nbformat": 4,
 "nbformat_minor": 2
}
