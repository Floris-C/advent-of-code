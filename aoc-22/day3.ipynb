{
 "cells": [
  {
   "cell_type": "code",
   "execution_count": 31,
   "metadata": {},
   "outputs": [
    {
     "name": "stdout",
     "output_type": "stream",
     "text": [
      "[('pqgZZSZgcZJqpz', 'BbqTbbLjBDBLhB'), ('wHptFFsHttH', 'FLMDQDFTbbj'), ('fVfvsstwPHwNwfNGfHWR', 'SnlpClcJzCWCzddSrddg'), ('bdgHbZJHgMHgJg', 'JctDtVssVcpFtq'), ('rNNQqBSz', 'TcBPTDsP')]\n"
     ]
    }
   ],
   "source": [
    "#day 2 AOC\n",
    "inputFile = open(\"inputs/day3.txt\", \"r\")\n",
    "input = inputFile.read()\n",
    "inputList = [] \n",
    "for i in [x for x in input.splitlines() if x != \"\"]:\n",
    "    h = len(i)//2\n",
    "    newPair = (i[:h],i[h:])\n",
    "    inputList.append(newPair)\n",
    "inputFile.close()\n",
    "print(inputList[:5])"
   ]
  },
  {
   "cell_type": "code",
   "execution_count": 32,
   "metadata": {},
   "outputs": [
    {
     "name": "stdout",
     "output_type": "stream",
     "text": [
      "['q', 'F', 'W', 'J', 'B', 'h', 'w', 'J', 'P', 'G']\n"
     ]
    }
   ],
   "source": [
    "\n",
    "commonItems = []\n",
    "for rucksack in inputList:\n",
    "    commonItems.append([i for i in rucksack[0] if i in rucksack[1]][0])\n",
    "\n",
    "print(commonItems[:10])\n",
    "\n"
   ]
  },
  {
   "cell_type": "code",
   "execution_count": 33,
   "metadata": {},
   "outputs": [
    {
     "name": "stdout",
     "output_type": "stream",
     "text": [
      "[17, 32, 49, 36, 28, 8, 23, 36, 42, 33]\n",
      "output no.1 = 8240\n"
     ]
    }
   ],
   "source": [
    "import string\n",
    "\n",
    "az_scores = string.ascii_lowercase + string.ascii_uppercase\n",
    "score = []\n",
    "for i in commonItems:\n",
    "    score.append( az_scores.index(i)+1)\n",
    "print(score[:10])\n",
    "\n",
    "print(\"output no.1 = {}\".format(sum(score)))\n",
    "#8240 correct"
   ]
  },
  {
   "cell_type": "code",
   "execution_count": 36,
   "metadata": {},
   "outputs": [
    {
     "name": "stdout",
     "output_type": "stream",
     "text": [
      "[['pqgZZSZgcZJqpzBbqTbbLjBDBLhB', 'wHptFFsHttHFLMDQDFTbbj', 'fVfvsstwPHwNwfNGfHWRSnlpClcJzCWCzddSrddg'], ['bdgHbZJHgMHgJgJctDtVssVcpFtq', 'rNNQqBSzTcBPTDsP', 'GWNNrhGnNnWNzRfnRQRbhCdqHMbdmbZddbmCmd'], ['BSBDzrSwrqccDDwbfcBjsRwggClslTRWGWGMFlsF', 'dnhVhLJtzNZdgCRlsTGWCRJG', 'ZHZdNzptLNtPhPdnprPbbDBrSqrSQPjbqD']]\n"
     ]
    }
   ],
   "source": [
    "# part 2\n",
    "group = []\n",
    "groupList = []\n",
    "for i in inputList:\n",
    "    group.append(i[0] + i[1])\n",
    "    if len(group) > 2:\n",
    "        groupList.append(group)\n",
    "        group = []\n",
    "\n",
    "print(groupList[:3])"
   ]
  },
  {
   "cell_type": "code",
   "execution_count": 39,
   "metadata": {},
   "outputs": [
    {
     "name": "stdout",
     "output_type": "stream",
     "text": [
      "['p']\n",
      "['q']\n",
      "['z']\n",
      "['r', 'r', 'r']\n",
      "['H']\n",
      "['p']\n",
      "['p']\n",
      "['q', 'q']\n",
      "['l']\n",
      "['B']\n",
      "['b']\n",
      "['D', 'D']\n",
      "['z']\n",
      "['w', 'w']\n",
      "['w', 'w']\n",
      "['t', 't', 't']\n",
      "['L', 'L', 'L']\n",
      "['M', 'M']\n",
      "['h']\n",
      "['s', 's']\n",
      "['J']\n",
      "['J']\n",
      "['M']\n",
      "['r', 'r', 'r']\n",
      "['z', 'z', 'z']\n",
      "['t']\n",
      "['C', 'C']\n",
      "['G', 'G']\n",
      "['H', 'H', 'H']\n",
      "['Z']\n",
      "['n']\n",
      "['p', 'p']\n",
      "['W']\n",
      "['H']\n",
      "['b', 'b', 'b']\n",
      "['C']\n",
      "['S']\n",
      "['v', 'v']\n",
      "['Z', 'Z']\n",
      "['m']\n",
      "['G']\n",
      "['z', 'z']\n",
      "['T', 'T', 'T']\n",
      "['P', 'P']\n",
      "['r', 'r']\n",
      "['q', 'q', 'q']\n",
      "['F']\n",
      "['r', 'r']\n",
      "['t']\n",
      "['L', 'L']\n",
      "['H', 'H']\n",
      "['F']\n",
      "['w']\n",
      "['d', 'd']\n",
      "['S']\n",
      "['c']\n",
      "['w']\n",
      "['V', 'V']\n",
      "['D']\n",
      "['w']\n",
      "['G', 'G']\n",
      "['R']\n",
      "['b', 'b']\n",
      "['T']\n",
      "['m']\n",
      "['r']\n",
      "['d']\n",
      "['h']\n",
      "['v']\n",
      "['c']\n",
      "['T']\n",
      "['F']\n",
      "['z']\n",
      "['T', 'T']\n",
      "['j']\n",
      "['L', 'L']\n",
      "['h', 'h']\n",
      "['h']\n",
      "['G']\n",
      "['Q']\n",
      "['T']\n",
      "['c']\n",
      "['f']\n",
      "['v', 'v']\n",
      "['N']\n",
      "['F']\n",
      "['H']\n",
      "['g', 'g', 'g']\n",
      "['l']\n",
      "['Z']\n",
      "['w', 'w']\n",
      "['t']\n",
      "['T', 'T', 'T']\n",
      "['G']\n",
      "['t', 't']\n",
      "['B']\n",
      "['L', 'L']\n",
      "['W']\n",
      "['d']\n",
      "['g', 'g']\n",
      "[16, 17, 26, 18, 34]\n",
      "Output no. 2: 2587\n"
     ]
    }
   ],
   "source": [
    "def common(allLists):\n",
    "    newCommon = allLists[0]\n",
    "    for subList in allLists[1:]:\n",
    "        prevCommon = newCommon\n",
    "        newCommon = []\n",
    "        for i in subList:\n",
    "            if i in prevCommon: newCommon.append(i)\n",
    "    return newCommon\n",
    "        \n",
    "\n",
    "\n",
    "score = []\n",
    "for group in groupList:\n",
    "    com = common(group)\n",
    "    print(com)\n",
    "    score.append(az_scores.index(com[0])+1)\n",
    "\n",
    "print(score[:5])\n",
    "print(\"Output no. 2: {}\".format(sum(score)))"
   ]
  },
  {
   "cell_type": "code",
   "execution_count": null,
   "metadata": {},
   "outputs": [],
   "source": []
  }
 ],
 "metadata": {
  "kernelspec": {
   "display_name": "Python 3.10.6 64-bit",
   "language": "python",
   "name": "python3"
  },
  "language_info": {
   "codemirror_mode": {
    "name": "ipython",
    "version": 3
   },
   "file_extension": ".py",
   "mimetype": "text/x-python",
   "name": "python",
   "nbconvert_exporter": "python",
   "pygments_lexer": "ipython3",
   "version": "3.10.6"
  },
  "orig_nbformat": 4,
  "vscode": {
   "interpreter": {
    "hash": "9e8942728792b4f803710fcef6ec9d08fd61899a3575dab23084978499f50197"
   }
  }
 },
 "nbformat": 4,
 "nbformat_minor": 2
}
