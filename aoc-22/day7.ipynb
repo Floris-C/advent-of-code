{
 "cells": [
  {
   "cell_type": "code",
   "execution_count": 40,
   "metadata": {},
   "outputs": [
    {
     "name": "stdout",
     "output_type": "stream",
     "text": [
      "['$ cd /', '$ ls', 'dir cmvqf', 'dir dcgbjvj', '57426 gszshjwr.lrs', 'dir nsgms', '124423 rjqns.prb', 'dir wqvv', '$ cd cmvqf', '$ ls']\n"
     ]
    }
   ],
   "source": [
    "#day 7 AOC\n",
    "inputFile = open(\"inputs/day7.txt\", \"r\")\n",
    "input = inputFile.read()\n",
    "inputStr =  [x for x in input.splitlines()]\n",
    "inputFile.close()\n",
    "print(inputStr[:10])"
   ]
  },
  {
   "cell_type": "code",
   "execution_count": 41,
   "metadata": {},
   "outputs": [],
   "source": [
    "#construct file tree\n",
    "\n",
    "def constructTree(input):\n",
    "    tree = {\"/\": {}}\n",
    "    pointer = [\"/\"]\n",
    "    #assume startwith cd /\n",
    "    for i in input:\n",
    "        ins = i.split(\" \")\n",
    "        #print(ins)\n",
    "        #print(pointer)\n",
    "        if ins[0] == \"$\" and ins[1] == \"cd\":\n",
    "            if ins[2] == \"/\":\n",
    "                pointer = [\"/\"]\n",
    "            elif ins[2] == \"..\":\n",
    "                pointer = pointer[:-1]\n",
    "                if len(pointer) == 0:\n",
    "                    pointer = [\"/\"]\n",
    "            else: #go deeper\n",
    "                newdir = ins[2]\n",
    "                curtree = tree\n",
    "                for p in pointer:\n",
    "                    curtree = curtree[p]\n",
    "                curtree[newdir] = {}\n",
    "                pointer.append(newdir)\n",
    "        if ins[0].isnumeric():\n",
    "            curtree = tree\n",
    "            for p in pointer:\n",
    "                curtree = curtree[p]\n",
    "            curtree[ins[1]] = int(ins[0])\n",
    "    return tree\n",
    "\n",
    "fileDict = constructTree(inputStr)"
   ]
  },
  {
   "cell_type": "code",
   "execution_count": 42,
   "metadata": {},
   "outputs": [
    {
     "name": "stdout",
     "output_type": "stream",
     "text": [
      "(43837783, 1454188)\n"
     ]
    }
   ],
   "source": [
    "# finding sums\n",
    "def sumTree(tree):\n",
    "    size = 0\n",
    "    foundsize = 0\n",
    "    for (k,v) in tree.items():\n",
    "        #print(k,v)\n",
    "        if type(v) is dict:\n",
    "            (sizeV, foundsizeV) = sumTree(v)\n",
    "            size += sizeV\n",
    "            foundsize += foundsizeV\n",
    "        else:\n",
    "            size += v\n",
    "    if size < 100000: foundsize += size\n",
    "    return (size, foundsize)\n",
    "\n",
    "\n",
    "sumFile = sumTree(fileDict)\n",
    "print(sumFile)"
   ]
  },
  {
   "cell_type": "code",
   "execution_count": 43,
   "metadata": {},
   "outputs": [
    {
     "name": "stdout",
     "output_type": "stream",
     "text": [
      "3837783\n"
     ]
    }
   ],
   "source": [
    "totalSize = 70000000\n",
    "update = 30000000\n",
    "current = sumFile[0]\n",
    "required = update-(totalSize - current)\n",
    "print(required)"
   ]
  },
  {
   "cell_type": "code",
   "execution_count": 47,
   "metadata": {},
   "outputs": [
    {
     "name": "stdout",
     "output_type": "stream",
     "text": [
      "4183246\n"
     ]
    }
   ],
   "source": [
    "# finding sums\n",
    "def findTree(tree):\n",
    "    size = 0\n",
    "    found = []\n",
    "    for (k,v) in tree.items():\n",
    "        #print(k,v)\n",
    "        if type(v) is dict:\n",
    "            (sizeV, foundV) = findTree(v)\n",
    "            found = found+foundV\n",
    "            size += sizeV\n",
    "        else:\n",
    "            size += v\n",
    "    if size >= required: found.append(size)\n",
    "    return (size, found)\n",
    "\n",
    "\n",
    "finds = findTree(fileDict)\n",
    "finds[2].sort()\n",
    "print(finds[2][0])"
   ]
  },
  {
   "cell_type": "code",
   "execution_count": null,
   "metadata": {},
   "outputs": [],
   "source": []
  }
 ],
 "metadata": {
  "kernelspec": {
   "display_name": "Python 3.10.6 64-bit",
   "language": "python",
   "name": "python3"
  },
  "language_info": {
   "codemirror_mode": {
    "name": "ipython",
    "version": 3
   },
   "file_extension": ".py",
   "mimetype": "text/x-python",
   "name": "python",
   "nbconvert_exporter": "python",
   "pygments_lexer": "ipython3",
   "version": "3.10.6"
  },
  "orig_nbformat": 4,
  "vscode": {
   "interpreter": {
    "hash": "9e8942728792b4f803710fcef6ec9d08fd61899a3575dab23084978499f50197"
   }
  }
 },
 "nbformat": 4,
 "nbformat_minor": 2
}
