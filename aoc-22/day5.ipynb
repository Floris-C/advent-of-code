{
 "cells": [
  {
   "cell_type": "code",
   "execution_count": 37,
   "metadata": {},
   "outputs": [
    {
     "name": "stdout",
     "output_type": "stream",
     "text": [
      "['                [B] [L]     [J]    ', '            [B] [Q] [R]     [D] [T]', '            [G] [H] [H] [M] [N] [F]', '        [J] [N] [D] [F] [J] [H] [B]', '    [Q] [F] [W] [S] [V] [N] [F] [N]']\n"
     ]
    }
   ],
   "source": [
    "#day 5 AOC\n",
    "inputFile = open(\"inputs/day5.txt\", \"r\")\n",
    "input = inputFile.read()\n",
    "inputList =  [x for x in input.splitlines()]\n",
    "inputFile.close()\n",
    "print(inputList[:5])"
   ]
  },
  {
   "cell_type": "code",
   "execution_count": 38,
   "metadata": {},
   "outputs": [
    {
     "name": "stdout",
     "output_type": "stream",
     "text": [
      "[['W', 'L', 'S'], ['Q', 'N', 'T', 'J'], ['J', 'F', 'H', 'C', 'S'], ['B', 'G', 'N', 'W', 'M', 'R', 'T'], ['B', 'Q', 'H', 'D', 'S', 'L', 'R', 'T'], ['L', 'R', 'H', 'F', 'V', 'B', 'J', 'M'], ['M', 'J', 'N', 'R', 'W', 'D'], ['J', 'D', 'N', 'H', 'F', 'T', 'Z', 'B'], ['T', 'F', 'B', 'N', 'Q', 'L', 'H']]\n",
      "['move 5 from 4 to 5', 'move 2 from 5 to 8', 'move 2 from 9 to 1', 'move 2 from 9 to 1', 'move 1 from 5 to 3', 'move 10 from 5 to 8', 'move 1 from 4 to 7']\n",
      "[(5, 3, 4), (2, 4, 7), (2, 8, 0), (2, 8, 0), (1, 4, 2), (10, 4, 7), (1, 3, 6)]\n"
     ]
    }
   ],
   "source": [
    "#Starting arrangement\n",
    "emptyHit = False\n",
    "i = 0\n",
    "dirty_crates = []\n",
    "instructions = []\n",
    "while (not emptyHit): \n",
    "    if inputList[i+1] == \"\": \n",
    "        emptyHit = True\n",
    "        instructions = [x for x in inputList[i+2:] if x != \"\"]\n",
    "    else:\n",
    "        for ii in range(len(inputList[i])//4+1):\n",
    "            while len(dirty_crates) <= ii:\n",
    "                dirty_crates.append([])\n",
    "            dirty_crates[ii].append(inputList[i][ii*4+1])\n",
    "    i += 1\n",
    "\n",
    "crates = []\n",
    "for crate in dirty_crates:\n",
    "    i = 0\n",
    "    while crate[i] == \" \":\n",
    "        i += 1\n",
    "    crates.append(crate[i:])\n",
    "\n",
    "initial_crates = crates.copy()   \n",
    "\n",
    "def instrToSet(instructions):\n",
    "    iSets = []\n",
    "    for inst in instructions:\n",
    "        spl = inst.split(\" \")\n",
    "        iSets.append((int(spl[1]), int(spl[3])-1, int(spl[5])-1))\n",
    "    return iSets\n",
    "\n",
    "instrSet = instrToSet(instructions)\n",
    "\n",
    "print(crates)\n",
    "print(instructions[:7])\n",
    "print(instrSet[:7])"
   ]
  },
  {
   "cell_type": "code",
   "execution_count": 39,
   "metadata": {},
   "outputs": [
    {
     "name": "stdout",
     "output_type": "stream",
     "text": [
      "[['R', 'B', 'H', 'W'], ['L', 'G', 'J', 'J', 'W', 'B', 'N', 'N', 'W', 'D', 'Q', 'S', 'R', 'T', 'J', 'N', 'J', 'D'], ['F', 'Q', 'C', 'L', 'M', 'Z', 'R', 'J', 'B', 'M', 'Q', 'V'], ['N', 'M', 'T', 'L'], ['R', 'T', 'S', 'B'], ['T', 'F'], ['N', 'H'], ['F', 'S', 'F', 'H', 'D', 'L', 'H', 'T'], ['B', 'H']]\n"
     ]
    }
   ],
   "source": [
    "#moving of crates NOTE THAT WE SHIFTED CRATE STACK No's OVER BY 1\n",
    "\n",
    "crates = initial_crates.copy()\n",
    "\n",
    "def reverse(xs): return [xs[-(i+1)] for i in range(len(xs))]\n",
    "\n",
    "for (no, origin, dest) in instrSet:\n",
    "    pickup = reverse(crates[origin][:no])\n",
    "    crates[origin] = crates[origin][no:]\n",
    "    crates[dest] = pickup + crates[dest]\n",
    "\n",
    "print(crates)\n",
    "\n",
    "\n",
    "\n",
    "\n"
   ]
  },
  {
   "cell_type": "code",
   "execution_count": 40,
   "metadata": {},
   "outputs": [
    {
     "name": "stdout",
     "output_type": "stream",
     "text": [
      "Output no1: RLFNRTNFB\n"
     ]
    }
   ],
   "source": [
    "out1 = \"\"\n",
    "for stack in crates:\n",
    "    out1 += stack[0]\n",
    "print(\"Output no1: {}\".format(out1))    "
   ]
  },
  {
   "cell_type": "code",
   "execution_count": 41,
   "metadata": {},
   "outputs": [
    {
     "name": "stdout",
     "output_type": "stream",
     "text": [
      "[['M', 'L', 'H', 'V'], ['H', 'R', 'G', 'N', 'B', 'R', 'S', 'N', 'J', 'W', 'L', 'R', 'D', 'W', 'S', 'M', 'M', 'N'], ['Q', 'J', 'J', 'Q', 'D', 'T', 'T', 'F', 'Q', 'T', 'B', 'N'], ['T', 'N', 'B', 'F'], ['L', 'D', 'B', 'S'], ['J', 'F'], ['R', 'H'], ['L', 'J', 'H', 'W', 'H', 'Z', 'F', 'T'], ['B', 'C']]\n",
      "Output no2: MHQTLJRLB\n"
     ]
    }
   ],
   "source": [
    "#moving of crates NOTE THAT WE SHIFTED CRATE STACK No's OVER BY 1\n",
    "\n",
    "crates = initial_crates.copy()\n",
    "\n",
    "for (no, origin, dest) in instrSet:\n",
    "    pickup = crates[origin][:no]\n",
    "    crates[origin] = crates[origin][no:]\n",
    "    crates[dest] = pickup + crates[dest]\n",
    "\n",
    "print(crates)\n",
    "\n",
    "out2 = \"\"\n",
    "for stack in crates:\n",
    "    out2 += stack[0]\n",
    "print(\"Output no2: {}\".format(out2))    \n",
    "\n",
    "\n",
    "\n",
    "\n"
   ]
  }
 ],
 "metadata": {
  "kernelspec": {
   "display_name": "Python 3.10.6 64-bit",
   "language": "python",
   "name": "python3"
  },
  "language_info": {
   "codemirror_mode": {
    "name": "ipython",
    "version": 3
   },
   "file_extension": ".py",
   "mimetype": "text/x-python",
   "name": "python",
   "nbconvert_exporter": "python",
   "pygments_lexer": "ipython3",
   "version": "3.10.6"
  },
  "orig_nbformat": 4,
  "vscode": {
   "interpreter": {
    "hash": "9e8942728792b4f803710fcef6ec9d08fd61899a3575dab23084978499f50197"
   }
  }
 },
 "nbformat": 4,
 "nbformat_minor": 2
}
