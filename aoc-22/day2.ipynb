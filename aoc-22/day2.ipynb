{
 "cells": [
  {
   "cell_type": "code",
   "execution_count": 19,
   "metadata": {},
   "outputs": [
    {
     "name": "stdout",
     "output_type": "stream",
     "text": [
      "[('C', 'X'), ('C', 'Y'), ('C', 'X'), ('B', 'X'), ('B', 'Z')]\n"
     ]
    }
   ],
   "source": [
    "#day 2 AOC\n",
    "inputFile = open(\"inputs/day2.txt\", \"r\")\n",
    "input = inputFile.read()\n",
    "inputList = [] \n",
    "for i in [x for x in input.splitlines() if x != \"\"]:\n",
    "    newPair = (i[0], i[2])\n",
    "    inputList.append(newPair)\n",
    "inputFile.close()\n",
    "print(inputList[:5])"
   ]
  },
  {
   "cell_type": "code",
   "execution_count": 24,
   "metadata": {},
   "outputs": [
    {
     "name": "stdout",
     "output_type": "stream",
     "text": [
      "[7, 2, 7, 1, 9, 3, 2, 6, 9, 7]\n",
      "output no.1 = 13484\n"
     ]
    }
   ],
   "source": [
    "scoreList = []\n",
    "# A (rock) = 1, B (paper) = 2, C (scissors) = 3\n",
    "# X (rock)    , Y (paper)    , Z (scissors)\n",
    "# win 6, draw 3, loss 0\n",
    "for game in inputList:\n",
    "    if   game[1] == \"X\": score = 1\n",
    "    elif game[1] == \"Y\": score = 2\n",
    "    elif game[1] == \"Z\": score = 3\n",
    "\n",
    "    if   game == (\"C\",\"X\"): score += 6\n",
    "    elif game == (\"A\",\"Y\"): score += 6\n",
    "    elif game == (\"B\",\"Z\"): score += 6\n",
    "    elif game == (\"A\",\"X\"): score += 3\n",
    "    elif game == (\"B\",\"Y\"): score += 3\n",
    "    elif game == (\"C\",\"Z\"): score += 3\n",
    "\n",
    "    scoreList.append(score)\n",
    "\n",
    "totalScore = sum(scoreList)\n",
    "print(scoreList[:10])\n",
    "print(\"output no.1 = {}\".format(totalScore))\n",
    "#11288 is too low\n",
    "#12272 is too low (fixed draws)\n",
    "#13484 is correct (fixed skill issue where I thought ABC was my throws despite those being XYZ)"
   ]
  },
  {
   "cell_type": "code",
   "execution_count": 25,
   "metadata": {},
   "outputs": [
    {
     "name": "stdout",
     "output_type": "stream",
     "text": [
      "output no.2: 13433\n"
     ]
    }
   ],
   "source": [
    "#step2\n",
    "# X lose, Y draw, Z win\n",
    "# A (rock) , B (paper) , C (scissors)\n",
    "tally = []\n",
    "for game in inputList:\n",
    "    if game[1] == \"X\": #lose\n",
    "        if   game[0] == \"A\": tally.append(3)\n",
    "        elif game[0] == \"B\": tally.append(1)\n",
    "        elif game[0] == \"C\": tally.append(2)\n",
    "    elif game[1] == \"Y\": #draw\n",
    "        if   game[0] == \"A\": tally.append(4)\n",
    "        elif game[0] == \"B\": tally.append(5)\n",
    "        elif game[0] == \"C\": tally.append(6)\n",
    "    else: #win\n",
    "        if   game[0] == \"A\": tally.append(8)\n",
    "        elif game[0] == \"B\": tally.append(9)\n",
    "        elif game[0] == \"C\": tally.append(7)\n",
    "\n",
    "print(\"output no.2: {}\".format(sum(tally)))"
   ]
  },
  {
   "cell_type": "code",
   "execution_count": null,
   "metadata": {},
   "outputs": [],
   "source": []
  }
 ],
 "metadata": {
  "kernelspec": {
   "display_name": "Python 3.10.6 64-bit",
   "language": "python",
   "name": "python3"
  },
  "language_info": {
   "codemirror_mode": {
    "name": "ipython",
    "version": 3
   },
   "file_extension": ".py",
   "mimetype": "text/x-python",
   "name": "python",
   "nbconvert_exporter": "python",
   "pygments_lexer": "ipython3",
   "version": "3.10.6"
  },
  "orig_nbformat": 4,
  "vscode": {
   "interpreter": {
    "hash": "9e8942728792b4f803710fcef6ec9d08fd61899a3575dab23084978499f50197"
   }
  }
 },
 "nbformat": 4,
 "nbformat_minor": 2
}
